{
 "cells": [
  {
   "cell_type": "code",
   "execution_count": 2,
   "id": "645b86c0",
   "metadata": {},
   "outputs": [],
   "source": [
    "import sys\n",
    "import os\n",
    "from datetime import datetime, timedelta, timezone\n",
    "import pandas as pd\n",
    "\n",
    "# Add src directory to path\n",
    "sys.path.append(os.path.abspath(os.path.join(os.getcwd(), \"..\")))\n",
    "\n",
    "from src import config\n",
    "from src.data_utils import load_and_process_citibike_data, transform_raw_data_into_ts_data\n"
   ]
  },
  {
   "cell_type": "code",
   "execution_count": 9,
   "id": "987e3741",
   "metadata": {},
   "outputs": [],
   "source": [
    "from src.data_utils import load_and_process_citibike_data, transform_raw_data_into_ts_data\n",
    "from hsfs.feature import Feature\n",
    "from datetime import timedelta"
   ]
  },
  {
   "cell_type": "code",
   "execution_count": 15,
   "id": "acd510c5",
   "metadata": {},
   "outputs": [],
   "source": [
    "import pandas as pd\n",
    "from pathlib import Path\n",
    "\n",
    "def load_and_process_citibike_data_from_local(year: int, months: list, base_path: str = \"data/citibike\") -> pd.DataFrame:\n",
    "    \"\"\"\n",
    "    Load Citi Bike data directly from locally extracted CSV files.\n",
    "    \n",
    "    Parameters:\n",
    "        year (int): The year of the data.\n",
    "        months (list of int): The months to load (e.g., [1, 2, 3]).\n",
    "        base_path (str): Base folder where CSVs are stored.\n",
    "\n",
    "    Returns:\n",
    "        pd.DataFrame: Concatenated and cleaned dataframe for the given months.\n",
    "    \"\"\"\n",
    "    all_months_data = []\n",
    "    data_dir = Path(base_path)\n",
    "\n",
    "    for month in months:\n",
    "        month_str = f\"{year}{month:02d}\"\n",
    "        csv_files = list(data_dir.glob(f\"{month_str}-citibike-tripdata*.csv\"))\n",
    "\n",
    "        if not csv_files:\n",
    "            raise FileNotFoundError(f\"❌ No CSV files found for {month_str} in {data_dir}\")\n",
    "\n",
    "        for csv_file in csv_files:\n",
    "            df = pd.read_csv(csv_file)\n",
    "            df['source_file'] = csv_file.name  # Optional: helpful for debugging\n",
    "            all_months_data.append(df)\n",
    "\n",
    "    df_all = pd.concat(all_months_data, ignore_index=True)\n",
    "\n",
    "    # Minimal preprocessing (adjust if needed)\n",
    "    df_all['started_at'] = pd.to_datetime(df_all['started_at'])\n",
    "    df_all['start_station_id'] = df_all['start_station_id'].astype(str)\n",
    "\n",
    "    return df_all\n"
   ]
  },
  {
   "cell_type": "code",
   "execution_count": 16,
   "id": "08775773",
   "metadata": {},
   "outputs": [],
   "source": [
    "def fetch_batch_raw_data(from_date: datetime, to_date: datetime) -> pd.DataFrame:\n",
    "    if from_date >= to_date:\n",
    "        raise ValueError(\"'from_date' must be earlier than 'to_date'.\")\n",
    "\n",
    "    historical_from_date = (from_date - timedelta(weeks=52)).replace(tzinfo=None)\n",
    "    historical_to_date = (to_date - timedelta(weeks=52)).replace(tzinfo=None)\n",
    "\n",
    "    rides_from = load_and_process_citibike_data_from_local(\n",
    "        year=historical_from_date.year, months=[historical_from_date.month]\n",
    "    )\n",
    "    rides_from['started_at'] = rides_from['started_at'].dt.tz_localize(None)\n",
    "    rides_from = rides_from[rides_from.started_at >= historical_from_date]\n",
    "\n",
    "    if historical_to_date.month != historical_from_date.month:\n",
    "        rides_to = load_and_process_citibike_data_from_local(\n",
    "            year=historical_to_date.year, months=[historical_to_date.month]\n",
    "        )\n",
    "        rides_to['started_at'] = rides_to['started_at'].dt.tz_localize(None)\n",
    "        rides_to = rides_to[rides_to.started_at < historical_to_date]\n",
    "        rides = pd.concat([rides_from, rides_to], ignore_index=True)\n",
    "    else:\n",
    "        rides = rides_from\n",
    "\n",
    "    rides['started_at'] += timedelta(weeks=52)\n",
    "    rides.sort_values(by=['start_station_id', 'started_at'], inplace=True)\n",
    "\n",
    "    return rides\n"
   ]
  },
  {
   "cell_type": "code",
   "execution_count": 17,
   "id": "da39e40a",
   "metadata": {},
   "outputs": [],
   "source": [
    "# Since we have data till March 2025 (shifted forward), fetch last 30 days from April 1st\n",
    "fetch_data_to = pd.Timestamp(\"2025-04-01 00:00:00\", tz=\"UTC\")\n",
    "fetch_data_from = fetch_data_to - timedelta(days=29)\n"
   ]
  },
  {
   "cell_type": "code",
   "execution_count": 18,
   "id": "e04050c6",
   "metadata": {},
   "outputs": [
    {
     "name": "stderr",
     "output_type": "stream",
     "text": [
      "DtypeWarning: Columns (5,7) have mixed types. Specify dtype option on import or set low_memory=False.\n",
      "DtypeWarning: Columns (5,7) have mixed types. Specify dtype option on import or set low_memory=False.\n"
     ]
    },
    {
     "name": "stdout",
     "output_type": "stream",
     "text": [
      "✅ Raw data shape: (2524662, 14)\n"
     ]
    },
    {
     "data": {
      "text/html": [
       "<div>\n",
       "<style scoped>\n",
       "    .dataframe tbody tr th:only-of-type {\n",
       "        vertical-align: middle;\n",
       "    }\n",
       "\n",
       "    .dataframe tbody tr th {\n",
       "        vertical-align: top;\n",
       "    }\n",
       "\n",
       "    .dataframe thead th {\n",
       "        text-align: right;\n",
       "    }\n",
       "</style>\n",
       "<table border=\"1\" class=\"dataframe\">\n",
       "  <thead>\n",
       "    <tr style=\"text-align: right;\">\n",
       "      <th></th>\n",
       "      <th>ride_id</th>\n",
       "      <th>rideable_type</th>\n",
       "      <th>started_at</th>\n",
       "      <th>ended_at</th>\n",
       "      <th>start_station_name</th>\n",
       "      <th>start_station_id</th>\n",
       "      <th>end_station_name</th>\n",
       "      <th>end_station_id</th>\n",
       "      <th>start_lat</th>\n",
       "      <th>start_lng</th>\n",
       "      <th>end_lat</th>\n",
       "      <th>end_lng</th>\n",
       "      <th>member_casual</th>\n",
       "      <th>source_file</th>\n",
       "    </tr>\n",
       "  </thead>\n",
       "  <tbody>\n",
       "    <tr>\n",
       "      <th>2423338</th>\n",
       "      <td>4863AD999C0FF96A</td>\n",
       "      <td>classic_bike</td>\n",
       "      <td>2025-03-03 07:56:26.881</td>\n",
       "      <td>2024-03-04 08:42:32.929</td>\n",
       "      <td>67 St &amp; Erik Pl</td>\n",
       "      <td>2733.03</td>\n",
       "      <td>Old Slip &amp; South St</td>\n",
       "      <td>4993.13</td>\n",
       "      <td>40.633385</td>\n",
       "      <td>-74.016562</td>\n",
       "      <td>40.703367</td>\n",
       "      <td>-74.007868</td>\n",
       "      <td>member</td>\n",
       "      <td>202403-citibike-tripdata.csv</td>\n",
       "    </tr>\n",
       "    <tr>\n",
       "      <th>1767937</th>\n",
       "      <td>BFDCAE10479EBE64</td>\n",
       "      <td>classic_bike</td>\n",
       "      <td>2025-03-03 11:27:33.039</td>\n",
       "      <td>2024-03-04 11:29:39.185</td>\n",
       "      <td>67 St &amp; Erik Pl</td>\n",
       "      <td>2733.03</td>\n",
       "      <td>5 Ave &amp; 67 St</td>\n",
       "      <td>2782.02</td>\n",
       "      <td>40.633385</td>\n",
       "      <td>-74.016562</td>\n",
       "      <td>40.635679</td>\n",
       "      <td>-74.020005</td>\n",
       "      <td>member</td>\n",
       "      <td>202403-citibike-tripdata.csv</td>\n",
       "    </tr>\n",
       "    <tr>\n",
       "      <th>1950372</th>\n",
       "      <td>C47793EFA725FFD9</td>\n",
       "      <td>electric_bike</td>\n",
       "      <td>2025-03-03 11:41:17.216</td>\n",
       "      <td>2024-03-04 12:18:30.784</td>\n",
       "      <td>67 St &amp; Erik Pl</td>\n",
       "      <td>2733.03</td>\n",
       "      <td>Caton Ave &amp; Argyle Rd</td>\n",
       "      <td>3303.03</td>\n",
       "      <td>40.633358</td>\n",
       "      <td>-74.016553</td>\n",
       "      <td>40.649681</td>\n",
       "      <td>-73.967829</td>\n",
       "      <td>member</td>\n",
       "      <td>202403-citibike-tripdata.csv</td>\n",
       "    </tr>\n",
       "    <tr>\n",
       "      <th>1535852</th>\n",
       "      <td>EEA928AACAE45C2E</td>\n",
       "      <td>electric_bike</td>\n",
       "      <td>2025-03-03 17:39:03.303</td>\n",
       "      <td>2024-03-04 18:12:42.351</td>\n",
       "      <td>67 St &amp; Erik Pl</td>\n",
       "      <td>2733.03</td>\n",
       "      <td>E 18 St &amp; Church Ave</td>\n",
       "      <td>3263.01</td>\n",
       "      <td>40.633442</td>\n",
       "      <td>-74.016552</td>\n",
       "      <td>40.649580</td>\n",
       "      <td>-73.963160</td>\n",
       "      <td>member</td>\n",
       "      <td>202403-citibike-tripdata.csv</td>\n",
       "    </tr>\n",
       "    <tr>\n",
       "      <th>2248369</th>\n",
       "      <td>28498637211D1D1A</td>\n",
       "      <td>classic_bike</td>\n",
       "      <td>2025-03-04 18:05:04.760</td>\n",
       "      <td>2024-03-05 18:38:04.203</td>\n",
       "      <td>67 St &amp; Erik Pl</td>\n",
       "      <td>2733.03</td>\n",
       "      <td>Douglass St &amp; 4 Ave</td>\n",
       "      <td>4175.14</td>\n",
       "      <td>40.633385</td>\n",
       "      <td>-74.016562</td>\n",
       "      <td>40.679279</td>\n",
       "      <td>-73.981540</td>\n",
       "      <td>member</td>\n",
       "      <td>202403-citibike-tripdata.csv</td>\n",
       "    </tr>\n",
       "  </tbody>\n",
       "</table>\n",
       "</div>"
      ],
      "text/plain": [
       "                  ride_id  rideable_type              started_at  \\\n",
       "2423338  4863AD999C0FF96A   classic_bike 2025-03-03 07:56:26.881   \n",
       "1767937  BFDCAE10479EBE64   classic_bike 2025-03-03 11:27:33.039   \n",
       "1950372  C47793EFA725FFD9  electric_bike 2025-03-03 11:41:17.216   \n",
       "1535852  EEA928AACAE45C2E  electric_bike 2025-03-03 17:39:03.303   \n",
       "2248369  28498637211D1D1A   classic_bike 2025-03-04 18:05:04.760   \n",
       "\n",
       "                        ended_at start_station_name start_station_id  \\\n",
       "2423338  2024-03-04 08:42:32.929    67 St & Erik Pl          2733.03   \n",
       "1767937  2024-03-04 11:29:39.185    67 St & Erik Pl          2733.03   \n",
       "1950372  2024-03-04 12:18:30.784    67 St & Erik Pl          2733.03   \n",
       "1535852  2024-03-04 18:12:42.351    67 St & Erik Pl          2733.03   \n",
       "2248369  2024-03-05 18:38:04.203    67 St & Erik Pl          2733.03   \n",
       "\n",
       "              end_station_name end_station_id  start_lat  start_lng  \\\n",
       "2423338    Old Slip & South St        4993.13  40.633385 -74.016562   \n",
       "1767937          5 Ave & 67 St        2782.02  40.633385 -74.016562   \n",
       "1950372  Caton Ave & Argyle Rd        3303.03  40.633358 -74.016553   \n",
       "1535852   E 18 St & Church Ave        3263.01  40.633442 -74.016552   \n",
       "2248369    Douglass St & 4 Ave        4175.14  40.633385 -74.016562   \n",
       "\n",
       "           end_lat    end_lng member_casual                   source_file  \n",
       "2423338  40.703367 -74.007868        member  202403-citibike-tripdata.csv  \n",
       "1767937  40.635679 -74.020005        member  202403-citibike-tripdata.csv  \n",
       "1950372  40.649681 -73.967829        member  202403-citibike-tripdata.csv  \n",
       "1535852  40.649580 -73.963160        member  202403-citibike-tripdata.csv  \n",
       "2248369  40.679279 -73.981540        member  202403-citibike-tripdata.csv  "
      ]
     },
     "execution_count": 18,
     "metadata": {},
     "output_type": "execute_result"
    }
   ],
   "source": [
    "rides = fetch_batch_raw_data(fetch_data_from, fetch_data_to)\n",
    "print(\"✅ Raw data shape:\", rides.shape)\n",
    "rides.head()\n"
   ]
  },
  {
   "cell_type": "code",
   "execution_count": 20,
   "id": "5dc1cb56",
   "metadata": {},
   "outputs": [],
   "source": [
    "rides = rides.rename(columns={\"started_at\": \"pickup_datetime\", \"start_station_id\": \"pickup_location_id\"})\n"
   ]
  },
  {
   "cell_type": "code",
   "execution_count": 27,
   "id": "b90fed9f",
   "metadata": {},
   "outputs": [
    {
     "name": "stdout",
     "output_type": "stream",
     "text": [
      "Index(['ride_id', 'rideable_type', 'pickup_datetime', 'ended_at',\n",
      "       'start_station_name', 'pickup_location_id', 'end_station_name',\n",
      "       'end_station_id', 'start_lat', 'start_lng', 'end_lat', 'end_lng',\n",
      "       'member_casual', 'source_file', 'pickup_hour'],\n",
      "      dtype='object')\n"
     ]
    },
    {
     "data": {
      "text/html": [
       "<div>\n",
       "<style scoped>\n",
       "    .dataframe tbody tr th:only-of-type {\n",
       "        vertical-align: middle;\n",
       "    }\n",
       "\n",
       "    .dataframe tbody tr th {\n",
       "        vertical-align: top;\n",
       "    }\n",
       "\n",
       "    .dataframe thead th {\n",
       "        text-align: right;\n",
       "    }\n",
       "</style>\n",
       "<table border=\"1\" class=\"dataframe\">\n",
       "  <thead>\n",
       "    <tr style=\"text-align: right;\">\n",
       "      <th></th>\n",
       "      <th>ride_id</th>\n",
       "      <th>rideable_type</th>\n",
       "      <th>pickup_datetime</th>\n",
       "      <th>ended_at</th>\n",
       "      <th>start_station_name</th>\n",
       "      <th>pickup_location_id</th>\n",
       "      <th>end_station_name</th>\n",
       "      <th>end_station_id</th>\n",
       "      <th>start_lat</th>\n",
       "      <th>start_lng</th>\n",
       "      <th>end_lat</th>\n",
       "      <th>end_lng</th>\n",
       "      <th>member_casual</th>\n",
       "      <th>source_file</th>\n",
       "      <th>pickup_hour</th>\n",
       "    </tr>\n",
       "  </thead>\n",
       "  <tbody>\n",
       "    <tr>\n",
       "      <th>2423338</th>\n",
       "      <td>4863AD999C0FF96A</td>\n",
       "      <td>classic_bike</td>\n",
       "      <td>2025-03-03 07:56:26.881</td>\n",
       "      <td>2024-03-04 08:42:32.929</td>\n",
       "      <td>67 St &amp; Erik Pl</td>\n",
       "      <td>2733.03</td>\n",
       "      <td>Old Slip &amp; South St</td>\n",
       "      <td>4993.13</td>\n",
       "      <td>40.633385</td>\n",
       "      <td>-74.016562</td>\n",
       "      <td>40.703367</td>\n",
       "      <td>-74.007868</td>\n",
       "      <td>member</td>\n",
       "      <td>202403-citibike-tripdata.csv</td>\n",
       "      <td>2025-03-03 07:00:00</td>\n",
       "    </tr>\n",
       "    <tr>\n",
       "      <th>1767937</th>\n",
       "      <td>BFDCAE10479EBE64</td>\n",
       "      <td>classic_bike</td>\n",
       "      <td>2025-03-03 11:27:33.039</td>\n",
       "      <td>2024-03-04 11:29:39.185</td>\n",
       "      <td>67 St &amp; Erik Pl</td>\n",
       "      <td>2733.03</td>\n",
       "      <td>5 Ave &amp; 67 St</td>\n",
       "      <td>2782.02</td>\n",
       "      <td>40.633385</td>\n",
       "      <td>-74.016562</td>\n",
       "      <td>40.635679</td>\n",
       "      <td>-74.020005</td>\n",
       "      <td>member</td>\n",
       "      <td>202403-citibike-tripdata.csv</td>\n",
       "      <td>2025-03-03 11:00:00</td>\n",
       "    </tr>\n",
       "    <tr>\n",
       "      <th>1950372</th>\n",
       "      <td>C47793EFA725FFD9</td>\n",
       "      <td>electric_bike</td>\n",
       "      <td>2025-03-03 11:41:17.216</td>\n",
       "      <td>2024-03-04 12:18:30.784</td>\n",
       "      <td>67 St &amp; Erik Pl</td>\n",
       "      <td>2733.03</td>\n",
       "      <td>Caton Ave &amp; Argyle Rd</td>\n",
       "      <td>3303.03</td>\n",
       "      <td>40.633358</td>\n",
       "      <td>-74.016553</td>\n",
       "      <td>40.649681</td>\n",
       "      <td>-73.967829</td>\n",
       "      <td>member</td>\n",
       "      <td>202403-citibike-tripdata.csv</td>\n",
       "      <td>2025-03-03 11:00:00</td>\n",
       "    </tr>\n",
       "    <tr>\n",
       "      <th>1535852</th>\n",
       "      <td>EEA928AACAE45C2E</td>\n",
       "      <td>electric_bike</td>\n",
       "      <td>2025-03-03 17:39:03.303</td>\n",
       "      <td>2024-03-04 18:12:42.351</td>\n",
       "      <td>67 St &amp; Erik Pl</td>\n",
       "      <td>2733.03</td>\n",
       "      <td>E 18 St &amp; Church Ave</td>\n",
       "      <td>3263.01</td>\n",
       "      <td>40.633442</td>\n",
       "      <td>-74.016552</td>\n",
       "      <td>40.649580</td>\n",
       "      <td>-73.963160</td>\n",
       "      <td>member</td>\n",
       "      <td>202403-citibike-tripdata.csv</td>\n",
       "      <td>2025-03-03 17:00:00</td>\n",
       "    </tr>\n",
       "    <tr>\n",
       "      <th>2248369</th>\n",
       "      <td>28498637211D1D1A</td>\n",
       "      <td>classic_bike</td>\n",
       "      <td>2025-03-04 18:05:04.760</td>\n",
       "      <td>2024-03-05 18:38:04.203</td>\n",
       "      <td>67 St &amp; Erik Pl</td>\n",
       "      <td>2733.03</td>\n",
       "      <td>Douglass St &amp; 4 Ave</td>\n",
       "      <td>4175.14</td>\n",
       "      <td>40.633385</td>\n",
       "      <td>-74.016562</td>\n",
       "      <td>40.679279</td>\n",
       "      <td>-73.981540</td>\n",
       "      <td>member</td>\n",
       "      <td>202403-citibike-tripdata.csv</td>\n",
       "      <td>2025-03-04 18:00:00</td>\n",
       "    </tr>\n",
       "  </tbody>\n",
       "</table>\n",
       "</div>"
      ],
      "text/plain": [
       "                  ride_id  rideable_type         pickup_datetime  \\\n",
       "2423338  4863AD999C0FF96A   classic_bike 2025-03-03 07:56:26.881   \n",
       "1767937  BFDCAE10479EBE64   classic_bike 2025-03-03 11:27:33.039   \n",
       "1950372  C47793EFA725FFD9  electric_bike 2025-03-03 11:41:17.216   \n",
       "1535852  EEA928AACAE45C2E  electric_bike 2025-03-03 17:39:03.303   \n",
       "2248369  28498637211D1D1A   classic_bike 2025-03-04 18:05:04.760   \n",
       "\n",
       "                        ended_at start_station_name pickup_location_id  \\\n",
       "2423338  2024-03-04 08:42:32.929    67 St & Erik Pl            2733.03   \n",
       "1767937  2024-03-04 11:29:39.185    67 St & Erik Pl            2733.03   \n",
       "1950372  2024-03-04 12:18:30.784    67 St & Erik Pl            2733.03   \n",
       "1535852  2024-03-04 18:12:42.351    67 St & Erik Pl            2733.03   \n",
       "2248369  2024-03-05 18:38:04.203    67 St & Erik Pl            2733.03   \n",
       "\n",
       "              end_station_name end_station_id  start_lat  start_lng  \\\n",
       "2423338    Old Slip & South St        4993.13  40.633385 -74.016562   \n",
       "1767937          5 Ave & 67 St        2782.02  40.633385 -74.016562   \n",
       "1950372  Caton Ave & Argyle Rd        3303.03  40.633358 -74.016553   \n",
       "1535852   E 18 St & Church Ave        3263.01  40.633442 -74.016552   \n",
       "2248369    Douglass St & 4 Ave        4175.14  40.633385 -74.016562   \n",
       "\n",
       "           end_lat    end_lng member_casual                   source_file  \\\n",
       "2423338  40.703367 -74.007868        member  202403-citibike-tripdata.csv   \n",
       "1767937  40.635679 -74.020005        member  202403-citibike-tripdata.csv   \n",
       "1950372  40.649681 -73.967829        member  202403-citibike-tripdata.csv   \n",
       "1535852  40.649580 -73.963160        member  202403-citibike-tripdata.csv   \n",
       "2248369  40.679279 -73.981540        member  202403-citibike-tripdata.csv   \n",
       "\n",
       "                pickup_hour  \n",
       "2423338 2025-03-03 07:00:00  \n",
       "1767937 2025-03-03 11:00:00  \n",
       "1950372 2025-03-03 11:00:00  \n",
       "1535852 2025-03-03 17:00:00  \n",
       "2248369 2025-03-04 18:00:00  "
      ]
     },
     "execution_count": 27,
     "metadata": {},
     "output_type": "execute_result"
    }
   ],
   "source": [
    "print(rides.columns)\n",
    "rides.head()\n"
   ]
  },
  {
   "cell_type": "code",
   "execution_count": 29,
   "id": "1e9d9d22",
   "metadata": {},
   "outputs": [
    {
     "name": "stderr",
     "output_type": "stream",
     "text": [
      "SettingWithCopyWarning: \n",
      "A value is trying to be set on a copy of a slice from a DataFrame.\n",
      "Try using .loc[row_indexer,col_indexer] = value instead\n",
      "\n",
      "See the caveats in the documentation: https://pandas.pydata.org/pandas-docs/stable/user_guide/indexing.html#returning-a-view-versus-a-copy\n"
     ]
    },
    {
     "name": "stdout",
     "output_type": "stream",
     "text": [
      "📊 Ride counts for top 3 start stations by year:\n",
      " pickup_location_id  year  ride_count\n",
      "            5329.03  2025        6261\n",
      "            6140.05  2025       10652\n",
      "            6948.10  2025        9179\n"
     ]
    }
   ],
   "source": [
    "import pandas as pd\n",
    "\n",
    "# Ensure proper datatypes\n",
    "rides['pickup_datetime'] = pd.to_datetime(rides['pickup_datetime'], errors='coerce')\n",
    "rides = rides[pd.to_numeric(rides['pickup_location_id'], errors='coerce').notna()]\n",
    "rides['pickup_location_id'] = rides['pickup_location_id'].astype(float)\n",
    "\n",
    "# Top 3 station IDs\n",
    "top_station_ids = [6140.05, 6948.10, 5329.03]\n",
    "\n",
    "# Filter for top stations\n",
    "top_rides = rides[rides['pickup_location_id'].isin(top_station_ids)].copy()\n",
    "\n",
    "# Extract year\n",
    "top_rides['year'] = top_rides['pickup_datetime'].dt.year\n",
    "\n",
    "# Group and count\n",
    "ride_counts = (\n",
    "    top_rides\n",
    "    .groupby(['pickup_location_id', 'year'])\n",
    "    .size()\n",
    "    .reset_index(name='ride_count')\n",
    "    .sort_values(['pickup_location_id', 'year'])\n",
    ")\n",
    "\n",
    "# Show the result\n",
    "print(\"📊 Ride counts for top 3 start stations by year:\")\n",
    "print(ride_counts.to_string(index=False))\n"
   ]
  },
  {
   "cell_type": "code",
   "execution_count": 21,
   "id": "4ff901bb",
   "metadata": {},
   "outputs": [
    {
     "name": "stdout",
     "output_type": "stream",
     "text": [
      "✅ Transformed time-series shape: (1554864, 3)\n"
     ]
    },
    {
     "data": {
      "text/html": [
       "<div>\n",
       "<style scoped>\n",
       "    .dataframe tbody tr th:only-of-type {\n",
       "        vertical-align: middle;\n",
       "    }\n",
       "\n",
       "    .dataframe tbody tr th {\n",
       "        vertical-align: top;\n",
       "    }\n",
       "\n",
       "    .dataframe thead th {\n",
       "        text-align: right;\n",
       "    }\n",
       "</style>\n",
       "<table border=\"1\" class=\"dataframe\">\n",
       "  <thead>\n",
       "    <tr style=\"text-align: right;\">\n",
       "      <th></th>\n",
       "      <th>pickup_hour</th>\n",
       "      <th>pickup_location_id</th>\n",
       "      <th>rides</th>\n",
       "    </tr>\n",
       "  </thead>\n",
       "  <tbody>\n",
       "    <tr>\n",
       "      <th>0</th>\n",
       "      <td>2025-03-03 00:00:00</td>\n",
       "      <td>2733.03</td>\n",
       "      <td>0</td>\n",
       "    </tr>\n",
       "    <tr>\n",
       "      <th>1</th>\n",
       "      <td>2025-03-03 01:00:00</td>\n",
       "      <td>2733.03</td>\n",
       "      <td>0</td>\n",
       "    </tr>\n",
       "    <tr>\n",
       "      <th>2</th>\n",
       "      <td>2025-03-03 02:00:00</td>\n",
       "      <td>2733.03</td>\n",
       "      <td>0</td>\n",
       "    </tr>\n",
       "    <tr>\n",
       "      <th>3</th>\n",
       "      <td>2025-03-03 03:00:00</td>\n",
       "      <td>2733.03</td>\n",
       "      <td>0</td>\n",
       "    </tr>\n",
       "    <tr>\n",
       "      <th>4</th>\n",
       "      <td>2025-03-03 04:00:00</td>\n",
       "      <td>2733.03</td>\n",
       "      <td>0</td>\n",
       "    </tr>\n",
       "  </tbody>\n",
       "</table>\n",
       "</div>"
      ],
      "text/plain": [
       "          pickup_hour pickup_location_id  rides\n",
       "0 2025-03-03 00:00:00            2733.03      0\n",
       "1 2025-03-03 01:00:00            2733.03      0\n",
       "2 2025-03-03 02:00:00            2733.03      0\n",
       "3 2025-03-03 03:00:00            2733.03      0\n",
       "4 2025-03-03 04:00:00            2733.03      0"
      ]
     },
     "execution_count": 21,
     "metadata": {},
     "output_type": "execute_result"
    }
   ],
   "source": [
    "ts_data = transform_raw_data_into_ts_data(rides)\n",
    "print(\"✅ Transformed time-series shape:\", ts_data.shape)\n",
    "ts_data.head()\n"
   ]
  },
  {
   "cell_type": "code",
   "execution_count": 30,
   "id": "c34c84f3",
   "metadata": {},
   "outputs": [],
   "source": [
    "# Keep only top 3 station IDs\n",
    "top_station_ids = [6140.05, 6948.10, 5329.03]\n",
    "ts_data = ts_data[ts_data['pickup_location_id'].isin(top_station_ids)].copy()\n",
    "\n",
    "# Convert pickup_location_id and rides to correct dtypes (int)\n",
    "ts_data['pickup_location_id'] = pd.to_numeric(ts_data['pickup_location_id'], errors='coerce').astype(float).astype(int)\n",
    "ts_data['rides'] = pd.to_numeric(ts_data['rides'], errors='coerce').astype(int)\n"
   ]
  },
  {
   "cell_type": "code",
   "execution_count": 32,
   "id": "56f52636",
   "metadata": {},
   "outputs": [],
   "source": [
    "ts_data['pickup_location_id'] = ts_data['pickup_location_id'].astype(\"int32\")\n",
    "ts_data['rides'] = ts_data['rides'].astype(\"int32\")\n"
   ]
  },
  {
   "cell_type": "code",
   "execution_count": 33,
   "id": "1cc01571",
   "metadata": {},
   "outputs": [
    {
     "name": "stdout",
     "output_type": "stream",
     "text": [
      "2025-05-02 23:47:37,891 INFO: Closing external client and cleaning up certificates.\n",
      "Connection closed.\n",
      "2025-05-02 23:47:37,896 INFO: Initializing external client\n",
      "2025-05-02 23:47:37,896 INFO: Base URL: https://c.app.hopsworks.ai:443\n",
      "2025-05-02 23:47:38,495 INFO: Python Engine initialized.\n",
      "\n",
      "Logged in to project, explore it here https://c.app.hopsworks.ai:443/p/1214683\n"
     ]
    },
    {
     "name": "stderr",
     "output_type": "stream",
     "text": [
      "Uploading Dataframe: 0.00% |          | Rows 0/0 | Elapsed Time: 00:00 | Remaining Time: ?\n",
      "UserWarning: Materialization job is already running, aborting new execution.Please wait for the current execution to finish before triggering a new one.You can check the status of the current execution using `fg.materialization_job.get_state()`.or `fg.materialization_job.get_final_state()` or check it out in the Hopsworks UI.at https://c.app.hopsworks.ai:443/p/1214683/jobs/named/time_series_hourly_feature_group_1_offline_fg_materialization.\n",
      "Use fg.materialization_job.run(args=-op offline_fg_materialization -path hdfs:///Projects/sp25_taxi_main/Resources/jobs/time_series_hourly_feature_group_1_offline_fg_materialization/config_1741035530909) to trigger the materialization job again.\n"
     ]
    },
    {
     "data": {
      "text/plain": [
       "(Job('time_series_hourly_feature_group_1_offline_fg_materialization', 'SPARK'),\n",
       " None)"
      ]
     },
     "execution_count": 33,
     "metadata": {},
     "output_type": "execute_result"
    }
   ],
   "source": [
    "import hopsworks\n",
    "\n",
    "project = hopsworks.login(\n",
    "    project=config.HOPSWORKS_PROJECT_NAME,\n",
    "    api_key_value=config.HOPSWORKS_API_KEY\n",
    ")\n",
    "\n",
    "fs = project.get_feature_store()\n",
    "fg = fs.get_feature_group(\n",
    "    name=config.FEATURE_GROUP_NAME,\n",
    "    version=config.FEATURE_GROUP_VERSION\n",
    ")\n",
    "\n",
    "fg.insert(ts_data, write_options={\"wait_for_job\": False})\n"
   ]
  },
  {
   "cell_type": "code",
   "execution_count": 34,
   "id": "804351aa",
   "metadata": {},
   "outputs": [
    {
     "name": "stdout",
     "output_type": "stream",
     "text": [
      "2025-05-03 13:40:07,025 INFO: Closing external client and cleaning up certificates.\n",
      "Connection closed.\n",
      "2025-05-03 13:40:07,048 INFO: Initializing external client\n",
      "2025-05-03 13:40:07,049 INFO: Base URL: https://c.app.hopsworks.ai:443\n",
      "2025-05-03 13:40:07,697 INFO: Python Engine initialized.\n",
      "\n",
      "Logged in to project, explore it here https://c.app.hopsworks.ai:443/p/1214683\n"
     ]
    },
    {
     "name": "stderr",
     "output_type": "stream",
     "text": [
      "JobWarning: All jobs associated to feature group `time_series_hourly_feature_group`, version `1` will be removed.\n"
     ]
    },
    {
     "name": "stdout",
     "output_type": "stream",
     "text": [
      "ℹ️ No existing feature group to delete.\n",
      "✅ Created new feature group with correct schema.\n"
     ]
    }
   ],
   "source": [
    "import hopsworks\n",
    "from hsfs.feature import Feature\n",
    "\n",
    "project = hopsworks.login()\n",
    "fs = project.get_feature_store()\n",
    "\n",
    "# Drop existing feature group if it exists\n",
    "try:\n",
    "    fg = fs.get_feature_group(\"time_series_hourly_feature_group\", version=1)\n",
    "    fg.delete()\n",
    "    print(\"✅ Deleted old feature group.\")\n",
    "except:\n",
    "    print(\"ℹ️ No existing feature group to delete.\")\n",
    "\n",
    "# Define new schema\n",
    "features = [\n",
    "    Feature(name=\"pickup_hour\", type=\"timestamp\"),\n",
    "    Feature(name=\"pickup_location_id\", type=\"string\"),  # Changed from int\n",
    "    Feature(name=\"rides\", type=\"int\"),\n",
    "]\n",
    "\n",
    "# Create new feature group\n",
    "fg = fs.create_feature_group(\n",
    "    name=\"time_series_hourly_feature_group\",\n",
    "    version=1,\n",
    "    description=\"Hourly aggregated Citi Bike rides per location\",\n",
    "    primary_key=[\"pickup_hour\", \"pickup_location_id\"],\n",
    "    event_time=\"pickup_hour\",\n",
    "    features=features,\n",
    "    online_enabled=True\n",
    ")\n",
    "\n",
    "print(\"✅ Created new feature group with correct schema.\")\n"
   ]
  },
  {
   "cell_type": "code",
   "execution_count": 36,
   "id": "d1e5ee0f",
   "metadata": {},
   "outputs": [
    {
     "name": "stdout",
     "output_type": "stream",
     "text": [
      "2025-05-03 15:29:14,609 INFO: Closing external client and cleaning up certificates.\n",
      "Connection closed.\n",
      "2025-05-03 15:29:14,611 INFO: Initializing external client\n",
      "2025-05-03 15:29:14,612 INFO: Base URL: https://c.app.hopsworks.ai:443\n",
      "2025-05-03 15:29:15,283 INFO: Python Engine initialized.\n",
      "\n",
      "Logged in to project, explore it here https://c.app.hopsworks.ai:443/p/1214683\n",
      "✅  Connected. Feature‑store id: 1202314\n"
     ]
    }
   ],
   "source": [
    "import hopsworks\n",
    "import src.config as c           # has the FEATURE_VIEW_NAME / VERSION you use\n",
    "\n",
    "project = hopsworks.login(\n",
    "    project       = c.HOPSWORKS_PROJECT_NAME,\n",
    "    api_key_value = c.HOPSWORKS_API_KEY,\n",
    ")\n",
    "fs = project.get_feature_store()\n",
    "\n",
    "print(\"✅  Connected. Feature‑store id:\", fs.id)\n"
   ]
  },
  {
   "cell_type": "code",
   "execution_count": 37,
   "id": "1e8fe87d",
   "metadata": {},
   "outputs": [
    {
     "name": "stdout",
     "output_type": "stream",
     "text": [
      "ℹ️  Could not delete v1 (probably already gone).\n"
     ]
    },
    {
     "ename": "RestAPIError",
     "evalue": "Metadata operation error: (url: https://c.app.hopsworks.ai/hopsworks-api/api/project/1214683/featurestores/1202314/featureview). Server response: \nHTTP code: 500, HTTP reason: Internal Server Error, body: b'{\"errorCode\":120003,\"usrMsg\":\"Transaction marked for rollback.\",\"errorMsg\":\"The last transaction did not complete as expected\"}', error code: 120003, error msg: The last transaction did not complete as expected, user msg: Transaction marked for rollback.",
     "output_type": "error",
     "traceback": [
      "\u001b[0;31m---------------------------------------------------------------------------\u001b[0m",
      "\u001b[0;31mRestAPIError\u001b[0m                              Traceback (most recent call last)",
      "Cell \u001b[0;32mIn[37], line 17\u001b[0m\n\u001b[1;32m     14\u001b[0m \u001b[38;5;66;03m# ── B) Point the view at the new feature‑group you created\u001b[39;00m\n\u001b[1;32m     15\u001b[0m fg \u001b[38;5;241m=\u001b[39m fs\u001b[38;5;241m.\u001b[39mget_feature_group(\u001b[38;5;124m\"\u001b[39m\u001b[38;5;124mtime_series_hourly_feature_group\u001b[39m\u001b[38;5;124m\"\u001b[39m, version\u001b[38;5;241m=\u001b[39m\u001b[38;5;241m1\u001b[39m)\n\u001b[0;32m---> 17\u001b[0m fv \u001b[38;5;241m=\u001b[39m \u001b[43mfs\u001b[49m\u001b[38;5;241;43m.\u001b[39;49m\u001b[43mcreate_feature_view\u001b[49m\u001b[43m(\u001b[49m\n\u001b[1;32m     18\u001b[0m \u001b[43m    \u001b[49m\u001b[43mname\u001b[49m\u001b[43m        \u001b[49m\u001b[38;5;241;43m=\u001b[39;49m\u001b[43m \u001b[49m\u001b[43mNAME\u001b[49m\u001b[43m,\u001b[49m\n\u001b[1;32m     19\u001b[0m \u001b[43m    \u001b[49m\u001b[43mversion\u001b[49m\u001b[43m     \u001b[49m\u001b[38;5;241;43m=\u001b[39;49m\u001b[43m \u001b[49m\u001b[43mNEW_VER\u001b[49m\u001b[43m,\u001b[49m\n\u001b[1;32m     20\u001b[0m \u001b[43m    \u001b[49m\u001b[43mdescription\u001b[49m\u001b[43m \u001b[49m\u001b[38;5;241;43m=\u001b[39;49m\u001b[43m \u001b[49m\u001b[38;5;124;43m\"\u001b[39;49m\u001b[38;5;124;43mHourly Citi Bike rides (3 top stations)\u001b[39;49m\u001b[38;5;124;43m\"\u001b[39;49m\u001b[43m,\u001b[49m\n\u001b[1;32m     21\u001b[0m \u001b[43m    \u001b[49m\u001b[43mlabels\u001b[49m\u001b[43m      \u001b[49m\u001b[38;5;241;43m=\u001b[39;49m\u001b[43m \u001b[49m\u001b[43m[\u001b[49m\u001b[38;5;124;43m\"\u001b[39;49m\u001b[38;5;124;43mrides\u001b[39;49m\u001b[38;5;124;43m\"\u001b[39;49m\u001b[43m]\u001b[49m\u001b[43m,\u001b[49m\n\u001b[1;32m     22\u001b[0m \u001b[43m    \u001b[49m\u001b[43mquery\u001b[49m\u001b[43m       \u001b[49m\u001b[38;5;241;43m=\u001b[39;49m\u001b[43m \u001b[49m\u001b[43mfg\u001b[49m\u001b[38;5;241;43m.\u001b[39;49m\u001b[43mselect_all\u001b[49m\u001b[43m(\u001b[49m\u001b[43m)\u001b[49m\n\u001b[1;32m     23\u001b[0m \u001b[43m)\u001b[49m\n\u001b[1;32m     25\u001b[0m \u001b[38;5;28mprint\u001b[39m(\u001b[38;5;124mf\u001b[39m\u001b[38;5;124m\"\u001b[39m\u001b[38;5;124m✅  Feature‑view rebuilt: \u001b[39m\u001b[38;5;132;01m{\u001b[39;00mfv\u001b[38;5;241m.\u001b[39mname\u001b[38;5;132;01m}\u001b[39;00m\u001b[38;5;124m  v\u001b[39m\u001b[38;5;132;01m{\u001b[39;00mfv\u001b[38;5;241m.\u001b[39mversion\u001b[38;5;132;01m}\u001b[39;00m\u001b[38;5;124m\"\u001b[39m)\n",
      "File \u001b[0;32m/opt/anaconda3/envs/sp25_citibike/lib/python3.10/site-packages/hopsworks_common/usage.py:246\u001b[0m, in \u001b[0;36mmethod_logger.<locals>.wrapper\u001b[0;34m(*args, **kwargs)\u001b[0m\n\u001b[1;32m    244\u001b[0m \u001b[38;5;28;01mexcept\u001b[39;00m \u001b[38;5;167;01mException\u001b[39;00m \u001b[38;5;28;01mas\u001b[39;00m e:\n\u001b[1;32m    245\u001b[0m     exception \u001b[38;5;241m=\u001b[39m e\n\u001b[0;32m--> 246\u001b[0m     \u001b[38;5;28;01mraise\u001b[39;00m e\n\u001b[1;32m    247\u001b[0m \u001b[38;5;28;01mfinally\u001b[39;00m:\n\u001b[1;32m    248\u001b[0m     \u001b[38;5;28;01mtry\u001b[39;00m:\n",
      "File \u001b[0;32m/opt/anaconda3/envs/sp25_citibike/lib/python3.10/site-packages/hopsworks_common/usage.py:242\u001b[0m, in \u001b[0;36mmethod_logger.<locals>.wrapper\u001b[0;34m(*args, **kwargs)\u001b[0m\n\u001b[1;32m    239\u001b[0m exception \u001b[38;5;241m=\u001b[39m \u001b[38;5;28;01mNone\u001b[39;00m\n\u001b[1;32m    240\u001b[0m \u001b[38;5;28;01mtry\u001b[39;00m:\n\u001b[1;32m    241\u001b[0m     \u001b[38;5;66;03m# Call the original method\u001b[39;00m\n\u001b[0;32m--> 242\u001b[0m     result \u001b[38;5;241m=\u001b[39m \u001b[43mfunc\u001b[49m\u001b[43m(\u001b[49m\u001b[38;5;241;43m*\u001b[39;49m\u001b[43margs\u001b[49m\u001b[43m,\u001b[49m\u001b[43m \u001b[49m\u001b[38;5;241;43m*\u001b[39;49m\u001b[38;5;241;43m*\u001b[39;49m\u001b[43mkwargs\u001b[49m\u001b[43m)\u001b[49m\n\u001b[1;32m    243\u001b[0m     \u001b[38;5;28;01mreturn\u001b[39;00m result\n\u001b[1;32m    244\u001b[0m \u001b[38;5;28;01mexcept\u001b[39;00m \u001b[38;5;167;01mException\u001b[39;00m \u001b[38;5;28;01mas\u001b[39;00m e:\n",
      "File \u001b[0;32m/opt/anaconda3/envs/sp25_citibike/lib/python3.10/site-packages/hsfs/feature_store.py:1665\u001b[0m, in \u001b[0;36mFeatureStore.create_feature_view\u001b[0;34m(self, name, query, version, description, labels, inference_helper_columns, training_helper_columns, transformation_functions, logging_enabled)\u001b[0m\n\u001b[1;32m   1561\u001b[0m \u001b[38;5;250m\u001b[39m\u001b[38;5;124;03m\"\"\"Create a feature view metadata object and saved it to hopsworks.\u001b[39;00m\n\u001b[1;32m   1562\u001b[0m \n\u001b[1;32m   1563\u001b[0m \u001b[38;5;124;03m!!! example\u001b[39;00m\n\u001b[0;32m   (...)\u001b[0m\n\u001b[1;32m   1650\u001b[0m \u001b[38;5;124;03m    `FeatureView`: The feature view metadata object.\u001b[39;00m\n\u001b[1;32m   1651\u001b[0m \u001b[38;5;124;03m\"\"\"\u001b[39;00m\n\u001b[1;32m   1652\u001b[0m feat_view \u001b[38;5;241m=\u001b[39m feature_view\u001b[38;5;241m.\u001b[39mFeatureView(\n\u001b[1;32m   1653\u001b[0m     name\u001b[38;5;241m=\u001b[39mname,\n\u001b[1;32m   1654\u001b[0m     query\u001b[38;5;241m=\u001b[39mquery,\n\u001b[0;32m   (...)\u001b[0m\n\u001b[1;32m   1663\u001b[0m     logging_enabled\u001b[38;5;241m=\u001b[39mlogging_enabled,\n\u001b[1;32m   1664\u001b[0m )\n\u001b[0;32m-> 1665\u001b[0m \u001b[38;5;28;01mreturn\u001b[39;00m \u001b[38;5;28;43mself\u001b[39;49m\u001b[38;5;241;43m.\u001b[39;49m\u001b[43m_feature_view_engine\u001b[49m\u001b[38;5;241;43m.\u001b[39;49m\u001b[43msave\u001b[49m\u001b[43m(\u001b[49m\u001b[43mfeat_view\u001b[49m\u001b[43m)\u001b[49m\n",
      "File \u001b[0;32m/opt/anaconda3/envs/sp25_citibike/lib/python3.10/site-packages/hsfs/core/feature_view_engine.py:144\u001b[0m, in \u001b[0;36mFeatureViewEngine.save\u001b[0;34m(self, feature_view_obj)\u001b[0m\n\u001b[1;32m    131\u001b[0m         (\n\u001b[1;32m    132\u001b[0m             feature,\n\u001b[1;32m    133\u001b[0m             prefix,\n\u001b[1;32m    134\u001b[0m             featuregroup,\n\u001b[1;32m    135\u001b[0m         ) \u001b[38;5;241m=\u001b[39m feature_view_obj\u001b[38;5;241m.\u001b[39mquery\u001b[38;5;241m.\u001b[39m_get_feature_by_name(helper_column_name)\n\u001b[1;32m    136\u001b[0m         feature_view_obj\u001b[38;5;241m.\u001b[39m_features\u001b[38;5;241m.\u001b[39mappend(\n\u001b[1;32m    137\u001b[0m             training_dataset_feature\u001b[38;5;241m.\u001b[39mTrainingDatasetFeature(\n\u001b[1;32m    138\u001b[0m                 name\u001b[38;5;241m=\u001b[39mfeature\u001b[38;5;241m.\u001b[39mname,\n\u001b[0;32m   (...)\u001b[0m\n\u001b[1;32m    141\u001b[0m             )\n\u001b[1;32m    142\u001b[0m         )\n\u001b[0;32m--> 144\u001b[0m updated_fv \u001b[38;5;241m=\u001b[39m \u001b[38;5;28;43mself\u001b[39;49m\u001b[38;5;241;43m.\u001b[39;49m\u001b[43m_feature_view_api\u001b[49m\u001b[38;5;241;43m.\u001b[39;49m\u001b[43mpost\u001b[49m\u001b[43m(\u001b[49m\u001b[43mfeature_view_obj\u001b[49m\u001b[43m)\u001b[49m\n\u001b[1;32m    145\u001b[0m \u001b[38;5;28mprint\u001b[39m(\n\u001b[1;32m    146\u001b[0m     \u001b[38;5;124m\"\u001b[39m\u001b[38;5;124mFeature view created successfully, explore it at \u001b[39m\u001b[38;5;130;01m\\n\u001b[39;00m\u001b[38;5;124m\"\u001b[39m\n\u001b[1;32m    147\u001b[0m     \u001b[38;5;241m+\u001b[39m \u001b[38;5;28mself\u001b[39m\u001b[38;5;241m.\u001b[39m_get_feature_view_url(updated_fv)\n\u001b[1;32m    148\u001b[0m )\n\u001b[1;32m    149\u001b[0m \u001b[38;5;28;01mreturn\u001b[39;00m updated_fv\n",
      "File \u001b[0;32m/opt/anaconda3/envs/sp25_citibike/lib/python3.10/site-packages/hsfs/core/feature_view_api.py:73\u001b[0m, in \u001b[0;36mFeatureViewApi.post\u001b[0;34m(self, feature_view_obj)\u001b[0m\n\u001b[1;32m     68\u001b[0m \u001b[38;5;28;01mdef\u001b[39;00m\u001b[38;5;250m \u001b[39m\u001b[38;5;21mpost\u001b[39m(\n\u001b[1;32m     69\u001b[0m     \u001b[38;5;28mself\u001b[39m, feature_view_obj: feature_view\u001b[38;5;241m.\u001b[39mFeatureView\n\u001b[1;32m     70\u001b[0m ) \u001b[38;5;241m-\u001b[39m\u001b[38;5;241m>\u001b[39m feature_view\u001b[38;5;241m.\u001b[39mFeatureView:\n\u001b[1;32m     71\u001b[0m     headers \u001b[38;5;241m=\u001b[39m {\u001b[38;5;124m\"\u001b[39m\u001b[38;5;124mcontent-type\u001b[39m\u001b[38;5;124m\"\u001b[39m: \u001b[38;5;124m\"\u001b[39m\u001b[38;5;124mapplication/json\u001b[39m\u001b[38;5;124m\"\u001b[39m}\n\u001b[1;32m     72\u001b[0m     \u001b[38;5;28;01mreturn\u001b[39;00m feature_view_obj\u001b[38;5;241m.\u001b[39mupdate_from_response_json(\n\u001b[0;32m---> 73\u001b[0m         \u001b[38;5;28;43mself\u001b[39;49m\u001b[38;5;241;43m.\u001b[39;49m\u001b[43m_client\u001b[49m\u001b[38;5;241;43m.\u001b[39;49m\u001b[43m_send_request\u001b[49m\u001b[43m(\u001b[49m\n\u001b[1;32m     74\u001b[0m \u001b[43m            \u001b[49m\u001b[38;5;28;43mself\u001b[39;49m\u001b[38;5;241;43m.\u001b[39;49m\u001b[43m_POST\u001b[49m\u001b[43m,\u001b[49m\n\u001b[1;32m     75\u001b[0m \u001b[43m            \u001b[49m\u001b[38;5;28;43mself\u001b[39;49m\u001b[38;5;241;43m.\u001b[39;49m\u001b[43m_base_path\u001b[49m\u001b[43m,\u001b[49m\n\u001b[1;32m     76\u001b[0m \u001b[43m            \u001b[49m\u001b[43mheaders\u001b[49m\u001b[38;5;241;43m=\u001b[39;49m\u001b[43mheaders\u001b[49m\u001b[43m,\u001b[49m\n\u001b[1;32m     77\u001b[0m \u001b[43m            \u001b[49m\u001b[43mdata\u001b[49m\u001b[38;5;241;43m=\u001b[39;49m\u001b[43mfeature_view_obj\u001b[49m\u001b[38;5;241;43m.\u001b[39;49m\u001b[43mjson\u001b[49m\u001b[43m(\u001b[49m\u001b[43m)\u001b[49m\u001b[43m,\u001b[49m\n\u001b[1;32m     78\u001b[0m \u001b[43m        \u001b[49m\u001b[43m)\u001b[49m\n\u001b[1;32m     79\u001b[0m     )\n",
      "File \u001b[0;32m/opt/anaconda3/envs/sp25_citibike/lib/python3.10/site-packages/hopsworks_common/decorators.py:48\u001b[0m, in \u001b[0;36mconnected.<locals>.if_connected\u001b[0;34m(inst, *args, **kwargs)\u001b[0m\n\u001b[1;32m     46\u001b[0m \u001b[38;5;28;01mif\u001b[39;00m \u001b[38;5;129;01mnot\u001b[39;00m inst\u001b[38;5;241m.\u001b[39m_connected:\n\u001b[1;32m     47\u001b[0m     \u001b[38;5;28;01mraise\u001b[39;00m NoHopsworksConnectionError\n\u001b[0;32m---> 48\u001b[0m \u001b[38;5;28;01mreturn\u001b[39;00m \u001b[43mfn\u001b[49m\u001b[43m(\u001b[49m\u001b[43minst\u001b[49m\u001b[43m,\u001b[49m\u001b[43m \u001b[49m\u001b[38;5;241;43m*\u001b[39;49m\u001b[43margs\u001b[49m\u001b[43m,\u001b[49m\u001b[43m \u001b[49m\u001b[38;5;241;43m*\u001b[39;49m\u001b[38;5;241;43m*\u001b[39;49m\u001b[43mkwargs\u001b[49m\u001b[43m)\u001b[49m\n",
      "File \u001b[0;32m/opt/anaconda3/envs/sp25_citibike/lib/python3.10/site-packages/hopsworks_common/client/base.py:186\u001b[0m, in \u001b[0;36mClient._send_request\u001b[0;34m(self, method, path_params, query_params, headers, data, stream, files, with_base_path_params)\u001b[0m\n\u001b[1;32m    181\u001b[0m     response \u001b[38;5;241m=\u001b[39m \u001b[38;5;28mself\u001b[39m\u001b[38;5;241m.\u001b[39m_retry_token_expired(\n\u001b[1;32m    182\u001b[0m         request, stream, \u001b[38;5;28mself\u001b[39m\u001b[38;5;241m.\u001b[39mTOKEN_EXPIRED_RETRY_INTERVAL, \u001b[38;5;241m1\u001b[39m\n\u001b[1;32m    183\u001b[0m     )\n\u001b[1;32m    185\u001b[0m \u001b[38;5;28;01mif\u001b[39;00m response\u001b[38;5;241m.\u001b[39mstatus_code \u001b[38;5;241m/\u001b[39m\u001b[38;5;241m/\u001b[39m \u001b[38;5;241m100\u001b[39m \u001b[38;5;241m!=\u001b[39m \u001b[38;5;241m2\u001b[39m:\n\u001b[0;32m--> 186\u001b[0m     \u001b[38;5;28;01mraise\u001b[39;00m exceptions\u001b[38;5;241m.\u001b[39mRestAPIError(url, response)\n\u001b[1;32m    188\u001b[0m \u001b[38;5;28;01mif\u001b[39;00m stream:\n\u001b[1;32m    189\u001b[0m     \u001b[38;5;28;01mreturn\u001b[39;00m response\n",
      "\u001b[0;31mRestAPIError\u001b[0m: Metadata operation error: (url: https://c.app.hopsworks.ai/hopsworks-api/api/project/1214683/featurestores/1202314/featureview). Server response: \nHTTP code: 500, HTTP reason: Internal Server Error, body: b'{\"errorCode\":120003,\"usrMsg\":\"Transaction marked for rollback.\",\"errorMsg\":\"The last transaction did not complete as expected\"}', error code: 120003, error msg: The last transaction did not complete as expected, user msg: Transaction marked for rollback."
     ]
    }
   ],
   "source": [
    "from hsfs.feature import Feature\n",
    "\n",
    "NAME    = c.FEATURE_VIEW_NAME        # \"time_series_hourly_feature_view\"\n",
    "OLD_VER = c.FEATURE_VIEW_VERSION     # 1\n",
    "NEW_VER = OLD_VER + 1                # 2\n",
    "\n",
    "# ── A) Delete the stale v1 (ignore error if it’s already gone)\n",
    "try:\n",
    "    fs.get_feature_view(NAME, version=OLD_VER).delete()\n",
    "    print(f\"🗑️  Deleted old feature‑view {NAME} v{OLD_VER}\")\n",
    "except Exception as e:\n",
    "    print(f\"ℹ️  Could not delete v{OLD_VER} (probably already gone).\")\n",
    "\n",
    "# ── B) Point the view at the new feature‑group you created\n",
    "fg = fs.get_feature_group(\"time_series_hourly_feature_group\", version=1)\n",
    "\n",
    "fv = fs.create_feature_view(\n",
    "    name        = NAME,\n",
    "    version     = NEW_VER,\n",
    "    description = \"Hourly Citi Bike rides (3 top stations)\",\n",
    "    labels      = [\"rides\"],\n",
    "    query       = fg.select_all()\n",
    ")\n",
    "\n",
    "print(f\"✅  Feature‑view rebuilt: {fv.name}  v{fv.version}\")\n"
   ]
  },
  {
   "cell_type": "code",
   "execution_count": null,
   "id": "8eb3c0a0",
   "metadata": {},
   "outputs": [
    {
     "name": "stdout",
     "output_type": "stream",
     "text": [
      "2025-05-03 15:31:58,693 INFO: Closing external client and cleaning up certificates.\n",
      "Connection closed.\n",
      "2025-05-03 15:31:58,695 INFO: Initializing external client\n",
      "2025-05-03 15:31:58,696 INFO: Base URL: https://c.app.hopsworks.ai:443\n",
      "2025-05-03 15:31:59,308 INFO: Python Engine initialized.\n",
      "\n",
      "Logged in to project, explore it here https://c.app.hopsworks.ai:443/p/1214683\n"
     ]
    },
    {
     "ename": "RestAPIError",
     "evalue": "Metadata operation error: (url: https://c.app.hopsworks.ai/hopsworks-api/api/project/1214683/featurestores/1202314/featureview). Server response: \nHTTP code: 500, HTTP reason: Internal Server Error, body: b'{\"errorCode\":120003,\"usrMsg\":\"Transaction marked for rollback.\",\"errorMsg\":\"The last transaction did not complete as expected\"}', error code: 120003, error msg: The last transaction did not complete as expected, user msg: Transaction marked for rollback.",
     "output_type": "error",
     "traceback": [
      "\u001b[0;31m---------------------------------------------------------------------------\u001b[0m",
      "\u001b[0;31mRestAPIError\u001b[0m                              Traceback (most recent call last)",
      "Cell \u001b[0;32mIn[38], line 14\u001b[0m\n\u001b[1;32m     10\u001b[0m NEW_VER  \u001b[38;5;241m=\u001b[39m \u001b[38;5;241m3\u001b[39m                            \u001b[38;5;66;03m# skip v2 that failed\u001b[39;00m\n\u001b[1;32m     12\u001b[0m fg \u001b[38;5;241m=\u001b[39m fs\u001b[38;5;241m.\u001b[39mget_feature_group(\u001b[38;5;124m\"\u001b[39m\u001b[38;5;124mtime_series_hourly_feature_group\u001b[39m\u001b[38;5;124m\"\u001b[39m, version\u001b[38;5;241m=\u001b[39m\u001b[38;5;241m1\u001b[39m)\n\u001b[0;32m---> 14\u001b[0m fv \u001b[38;5;241m=\u001b[39m \u001b[43mfs\u001b[49m\u001b[38;5;241;43m.\u001b[39;49m\u001b[43mcreate_feature_view\u001b[49m\u001b[43m(\u001b[49m\n\u001b[1;32m     15\u001b[0m \u001b[43m    \u001b[49m\u001b[43mname\u001b[49m\u001b[43m        \u001b[49m\u001b[38;5;241;43m=\u001b[39;49m\u001b[43m \u001b[49m\u001b[43mNAME\u001b[49m\u001b[43m,\u001b[49m\n\u001b[1;32m     16\u001b[0m \u001b[43m    \u001b[49m\u001b[43mversion\u001b[49m\u001b[43m     \u001b[49m\u001b[38;5;241;43m=\u001b[39;49m\u001b[43m \u001b[49m\u001b[43mNEW_VER\u001b[49m\u001b[43m,\u001b[49m\n\u001b[1;32m     17\u001b[0m \u001b[43m    \u001b[49m\u001b[43mdescription\u001b[49m\u001b[43m \u001b[49m\u001b[38;5;241;43m=\u001b[39;49m\u001b[43m \u001b[49m\u001b[38;5;124;43m\"\u001b[39;49m\u001b[38;5;124;43mHourly Citi Bike rides (3 top stations)\u001b[39;49m\u001b[38;5;124;43m\"\u001b[39;49m\u001b[43m,\u001b[49m\n\u001b[1;32m     18\u001b[0m \u001b[43m    \u001b[49m\u001b[43mlabels\u001b[49m\u001b[43m      \u001b[49m\u001b[38;5;241;43m=\u001b[39;49m\u001b[43m \u001b[49m\u001b[43m[\u001b[49m\u001b[38;5;124;43m\"\u001b[39;49m\u001b[38;5;124;43mrides\u001b[39;49m\u001b[38;5;124;43m\"\u001b[39;49m\u001b[43m]\u001b[49m\u001b[43m,\u001b[49m\n\u001b[1;32m     19\u001b[0m \u001b[43m    \u001b[49m\u001b[43mquery\u001b[49m\u001b[43m       \u001b[49m\u001b[38;5;241;43m=\u001b[39;49m\u001b[43m \u001b[49m\u001b[43mfg\u001b[49m\u001b[38;5;241;43m.\u001b[39;49m\u001b[43mselect_all\u001b[49m\u001b[43m(\u001b[49m\u001b[43m)\u001b[49m\n\u001b[1;32m     20\u001b[0m \u001b[43m)\u001b[49m\n\u001b[1;32m     22\u001b[0m \u001b[38;5;28mprint\u001b[39m(\u001b[38;5;124mf\u001b[39m\u001b[38;5;124m\"\u001b[39m\u001b[38;5;124m✅  Feature‑view created: \u001b[39m\u001b[38;5;132;01m{\u001b[39;00mfv\u001b[38;5;241m.\u001b[39mname\u001b[38;5;132;01m}\u001b[39;00m\u001b[38;5;124m  v\u001b[39m\u001b[38;5;132;01m{\u001b[39;00mfv\u001b[38;5;241m.\u001b[39mversion\u001b[38;5;132;01m}\u001b[39;00m\u001b[38;5;124m\"\u001b[39m)\n",
      "File \u001b[0;32m/opt/anaconda3/envs/sp25_citibike/lib/python3.10/site-packages/hopsworks_common/usage.py:246\u001b[0m, in \u001b[0;36mmethod_logger.<locals>.wrapper\u001b[0;34m(*args, **kwargs)\u001b[0m\n\u001b[1;32m    244\u001b[0m \u001b[38;5;28;01mexcept\u001b[39;00m \u001b[38;5;167;01mException\u001b[39;00m \u001b[38;5;28;01mas\u001b[39;00m e:\n\u001b[1;32m    245\u001b[0m     exception \u001b[38;5;241m=\u001b[39m e\n\u001b[0;32m--> 246\u001b[0m     \u001b[38;5;28;01mraise\u001b[39;00m e\n\u001b[1;32m    247\u001b[0m \u001b[38;5;28;01mfinally\u001b[39;00m:\n\u001b[1;32m    248\u001b[0m     \u001b[38;5;28;01mtry\u001b[39;00m:\n",
      "File \u001b[0;32m/opt/anaconda3/envs/sp25_citibike/lib/python3.10/site-packages/hopsworks_common/usage.py:242\u001b[0m, in \u001b[0;36mmethod_logger.<locals>.wrapper\u001b[0;34m(*args, **kwargs)\u001b[0m\n\u001b[1;32m    239\u001b[0m exception \u001b[38;5;241m=\u001b[39m \u001b[38;5;28;01mNone\u001b[39;00m\n\u001b[1;32m    240\u001b[0m \u001b[38;5;28;01mtry\u001b[39;00m:\n\u001b[1;32m    241\u001b[0m     \u001b[38;5;66;03m# Call the original method\u001b[39;00m\n\u001b[0;32m--> 242\u001b[0m     result \u001b[38;5;241m=\u001b[39m \u001b[43mfunc\u001b[49m\u001b[43m(\u001b[49m\u001b[38;5;241;43m*\u001b[39;49m\u001b[43margs\u001b[49m\u001b[43m,\u001b[49m\u001b[43m \u001b[49m\u001b[38;5;241;43m*\u001b[39;49m\u001b[38;5;241;43m*\u001b[39;49m\u001b[43mkwargs\u001b[49m\u001b[43m)\u001b[49m\n\u001b[1;32m    243\u001b[0m     \u001b[38;5;28;01mreturn\u001b[39;00m result\n\u001b[1;32m    244\u001b[0m \u001b[38;5;28;01mexcept\u001b[39;00m \u001b[38;5;167;01mException\u001b[39;00m \u001b[38;5;28;01mas\u001b[39;00m e:\n",
      "File \u001b[0;32m/opt/anaconda3/envs/sp25_citibike/lib/python3.10/site-packages/hsfs/feature_store.py:1665\u001b[0m, in \u001b[0;36mFeatureStore.create_feature_view\u001b[0;34m(self, name, query, version, description, labels, inference_helper_columns, training_helper_columns, transformation_functions, logging_enabled)\u001b[0m\n\u001b[1;32m   1561\u001b[0m \u001b[38;5;250m\u001b[39m\u001b[38;5;124;03m\"\"\"Create a feature view metadata object and saved it to hopsworks.\u001b[39;00m\n\u001b[1;32m   1562\u001b[0m \n\u001b[1;32m   1563\u001b[0m \u001b[38;5;124;03m!!! example\u001b[39;00m\n\u001b[0;32m   (...)\u001b[0m\n\u001b[1;32m   1650\u001b[0m \u001b[38;5;124;03m    `FeatureView`: The feature view metadata object.\u001b[39;00m\n\u001b[1;32m   1651\u001b[0m \u001b[38;5;124;03m\"\"\"\u001b[39;00m\n\u001b[1;32m   1652\u001b[0m feat_view \u001b[38;5;241m=\u001b[39m feature_view\u001b[38;5;241m.\u001b[39mFeatureView(\n\u001b[1;32m   1653\u001b[0m     name\u001b[38;5;241m=\u001b[39mname,\n\u001b[1;32m   1654\u001b[0m     query\u001b[38;5;241m=\u001b[39mquery,\n\u001b[0;32m   (...)\u001b[0m\n\u001b[1;32m   1663\u001b[0m     logging_enabled\u001b[38;5;241m=\u001b[39mlogging_enabled,\n\u001b[1;32m   1664\u001b[0m )\n\u001b[0;32m-> 1665\u001b[0m \u001b[38;5;28;01mreturn\u001b[39;00m \u001b[38;5;28;43mself\u001b[39;49m\u001b[38;5;241;43m.\u001b[39;49m\u001b[43m_feature_view_engine\u001b[49m\u001b[38;5;241;43m.\u001b[39;49m\u001b[43msave\u001b[49m\u001b[43m(\u001b[49m\u001b[43mfeat_view\u001b[49m\u001b[43m)\u001b[49m\n",
      "File \u001b[0;32m/opt/anaconda3/envs/sp25_citibike/lib/python3.10/site-packages/hsfs/core/feature_view_engine.py:144\u001b[0m, in \u001b[0;36mFeatureViewEngine.save\u001b[0;34m(self, feature_view_obj)\u001b[0m\n\u001b[1;32m    131\u001b[0m         (\n\u001b[1;32m    132\u001b[0m             feature,\n\u001b[1;32m    133\u001b[0m             prefix,\n\u001b[1;32m    134\u001b[0m             featuregroup,\n\u001b[1;32m    135\u001b[0m         ) \u001b[38;5;241m=\u001b[39m feature_view_obj\u001b[38;5;241m.\u001b[39mquery\u001b[38;5;241m.\u001b[39m_get_feature_by_name(helper_column_name)\n\u001b[1;32m    136\u001b[0m         feature_view_obj\u001b[38;5;241m.\u001b[39m_features\u001b[38;5;241m.\u001b[39mappend(\n\u001b[1;32m    137\u001b[0m             training_dataset_feature\u001b[38;5;241m.\u001b[39mTrainingDatasetFeature(\n\u001b[1;32m    138\u001b[0m                 name\u001b[38;5;241m=\u001b[39mfeature\u001b[38;5;241m.\u001b[39mname,\n\u001b[0;32m   (...)\u001b[0m\n\u001b[1;32m    141\u001b[0m             )\n\u001b[1;32m    142\u001b[0m         )\n\u001b[0;32m--> 144\u001b[0m updated_fv \u001b[38;5;241m=\u001b[39m \u001b[38;5;28;43mself\u001b[39;49m\u001b[38;5;241;43m.\u001b[39;49m\u001b[43m_feature_view_api\u001b[49m\u001b[38;5;241;43m.\u001b[39;49m\u001b[43mpost\u001b[49m\u001b[43m(\u001b[49m\u001b[43mfeature_view_obj\u001b[49m\u001b[43m)\u001b[49m\n\u001b[1;32m    145\u001b[0m \u001b[38;5;28mprint\u001b[39m(\n\u001b[1;32m    146\u001b[0m     \u001b[38;5;124m\"\u001b[39m\u001b[38;5;124mFeature view created successfully, explore it at \u001b[39m\u001b[38;5;130;01m\\n\u001b[39;00m\u001b[38;5;124m\"\u001b[39m\n\u001b[1;32m    147\u001b[0m     \u001b[38;5;241m+\u001b[39m \u001b[38;5;28mself\u001b[39m\u001b[38;5;241m.\u001b[39m_get_feature_view_url(updated_fv)\n\u001b[1;32m    148\u001b[0m )\n\u001b[1;32m    149\u001b[0m \u001b[38;5;28;01mreturn\u001b[39;00m updated_fv\n",
      "File \u001b[0;32m/opt/anaconda3/envs/sp25_citibike/lib/python3.10/site-packages/hsfs/core/feature_view_api.py:73\u001b[0m, in \u001b[0;36mFeatureViewApi.post\u001b[0;34m(self, feature_view_obj)\u001b[0m\n\u001b[1;32m     68\u001b[0m \u001b[38;5;28;01mdef\u001b[39;00m\u001b[38;5;250m \u001b[39m\u001b[38;5;21mpost\u001b[39m(\n\u001b[1;32m     69\u001b[0m     \u001b[38;5;28mself\u001b[39m, feature_view_obj: feature_view\u001b[38;5;241m.\u001b[39mFeatureView\n\u001b[1;32m     70\u001b[0m ) \u001b[38;5;241m-\u001b[39m\u001b[38;5;241m>\u001b[39m feature_view\u001b[38;5;241m.\u001b[39mFeatureView:\n\u001b[1;32m     71\u001b[0m     headers \u001b[38;5;241m=\u001b[39m {\u001b[38;5;124m\"\u001b[39m\u001b[38;5;124mcontent-type\u001b[39m\u001b[38;5;124m\"\u001b[39m: \u001b[38;5;124m\"\u001b[39m\u001b[38;5;124mapplication/json\u001b[39m\u001b[38;5;124m\"\u001b[39m}\n\u001b[1;32m     72\u001b[0m     \u001b[38;5;28;01mreturn\u001b[39;00m feature_view_obj\u001b[38;5;241m.\u001b[39mupdate_from_response_json(\n\u001b[0;32m---> 73\u001b[0m         \u001b[38;5;28;43mself\u001b[39;49m\u001b[38;5;241;43m.\u001b[39;49m\u001b[43m_client\u001b[49m\u001b[38;5;241;43m.\u001b[39;49m\u001b[43m_send_request\u001b[49m\u001b[43m(\u001b[49m\n\u001b[1;32m     74\u001b[0m \u001b[43m            \u001b[49m\u001b[38;5;28;43mself\u001b[39;49m\u001b[38;5;241;43m.\u001b[39;49m\u001b[43m_POST\u001b[49m\u001b[43m,\u001b[49m\n\u001b[1;32m     75\u001b[0m \u001b[43m            \u001b[49m\u001b[38;5;28;43mself\u001b[39;49m\u001b[38;5;241;43m.\u001b[39;49m\u001b[43m_base_path\u001b[49m\u001b[43m,\u001b[49m\n\u001b[1;32m     76\u001b[0m \u001b[43m            \u001b[49m\u001b[43mheaders\u001b[49m\u001b[38;5;241;43m=\u001b[39;49m\u001b[43mheaders\u001b[49m\u001b[43m,\u001b[49m\n\u001b[1;32m     77\u001b[0m \u001b[43m            \u001b[49m\u001b[43mdata\u001b[49m\u001b[38;5;241;43m=\u001b[39;49m\u001b[43mfeature_view_obj\u001b[49m\u001b[38;5;241;43m.\u001b[39;49m\u001b[43mjson\u001b[49m\u001b[43m(\u001b[49m\u001b[43m)\u001b[49m\u001b[43m,\u001b[49m\n\u001b[1;32m     78\u001b[0m \u001b[43m        \u001b[49m\u001b[43m)\u001b[49m\n\u001b[1;32m     79\u001b[0m     )\n",
      "File \u001b[0;32m/opt/anaconda3/envs/sp25_citibike/lib/python3.10/site-packages/hopsworks_common/decorators.py:48\u001b[0m, in \u001b[0;36mconnected.<locals>.if_connected\u001b[0;34m(inst, *args, **kwargs)\u001b[0m\n\u001b[1;32m     46\u001b[0m \u001b[38;5;28;01mif\u001b[39;00m \u001b[38;5;129;01mnot\u001b[39;00m inst\u001b[38;5;241m.\u001b[39m_connected:\n\u001b[1;32m     47\u001b[0m     \u001b[38;5;28;01mraise\u001b[39;00m NoHopsworksConnectionError\n\u001b[0;32m---> 48\u001b[0m \u001b[38;5;28;01mreturn\u001b[39;00m \u001b[43mfn\u001b[49m\u001b[43m(\u001b[49m\u001b[43minst\u001b[49m\u001b[43m,\u001b[49m\u001b[43m \u001b[49m\u001b[38;5;241;43m*\u001b[39;49m\u001b[43margs\u001b[49m\u001b[43m,\u001b[49m\u001b[43m \u001b[49m\u001b[38;5;241;43m*\u001b[39;49m\u001b[38;5;241;43m*\u001b[39;49m\u001b[43mkwargs\u001b[49m\u001b[43m)\u001b[49m\n",
      "File \u001b[0;32m/opt/anaconda3/envs/sp25_citibike/lib/python3.10/site-packages/hopsworks_common/client/base.py:186\u001b[0m, in \u001b[0;36mClient._send_request\u001b[0;34m(self, method, path_params, query_params, headers, data, stream, files, with_base_path_params)\u001b[0m\n\u001b[1;32m    181\u001b[0m     response \u001b[38;5;241m=\u001b[39m \u001b[38;5;28mself\u001b[39m\u001b[38;5;241m.\u001b[39m_retry_token_expired(\n\u001b[1;32m    182\u001b[0m         request, stream, \u001b[38;5;28mself\u001b[39m\u001b[38;5;241m.\u001b[39mTOKEN_EXPIRED_RETRY_INTERVAL, \u001b[38;5;241m1\u001b[39m\n\u001b[1;32m    183\u001b[0m     )\n\u001b[1;32m    185\u001b[0m \u001b[38;5;28;01mif\u001b[39;00m response\u001b[38;5;241m.\u001b[39mstatus_code \u001b[38;5;241m/\u001b[39m\u001b[38;5;241m/\u001b[39m \u001b[38;5;241m100\u001b[39m \u001b[38;5;241m!=\u001b[39m \u001b[38;5;241m2\u001b[39m:\n\u001b[0;32m--> 186\u001b[0m     \u001b[38;5;28;01mraise\u001b[39;00m exceptions\u001b[38;5;241m.\u001b[39mRestAPIError(url, response)\n\u001b[1;32m    188\u001b[0m \u001b[38;5;28;01mif\u001b[39;00m stream:\n\u001b[1;32m    189\u001b[0m     \u001b[38;5;28;01mreturn\u001b[39;00m response\n",
      "\u001b[0;31mRestAPIError\u001b[0m: Metadata operation error: (url: https://c.app.hopsworks.ai/hopsworks-api/api/project/1214683/featurestores/1202314/featureview). Server response: \nHTTP code: 500, HTTP reason: Internal Server Error, body: b'{\"errorCode\":120003,\"usrMsg\":\"Transaction marked for rollback.\",\"errorMsg\":\"The last transaction did not complete as expected\"}', error code: 120003, error msg: The last transaction did not complete as expected, user msg: Transaction marked for rollback."
     ]
    }
   ],
   "source": [
    "# --- reconnect (fresh session is safest) -----------------\n",
    "project = hopsworks.login(\n",
    "    project       = c.HOPSWORKS_PROJECT_NAME,\n",
    "    api_key_value = c.HOPSWORKS_API_KEY,\n",
    ")\n",
    "fs = project.get_feature_store()\n",
    "\n",
    "# --- choose the next clean version -----------------------\n",
    "NAME     = c.FEATURE_VIEW_NAME          # \"time_series_hourly_feature_view\"\n",
    "NEW_VER  = 3                            # skip v2 that failed\n",
    "\n",
    "fg = fs.get_feature_group(\"time_series_hourly_feature_group\", version=1)\n",
    "\n",
    "fv = fs.create_feature_view(\n",
    "    name        = NAME,\n",
    "    version     = NEW_VER,\n",
    "    description = \"Hourly Citi Bike rides (3 top stations)\",\n",
    "    labels      = [\"rides\"],\n",
    "    query       = fg.select_all()\n",
    ")\n",
    "\n",
    "print(f\"✅  Feature‑view created: {fv.name}  v{fv.version}\")\n"
   ]
  },
  {
   "cell_type": "code",
   "execution_count": 39,
   "id": "7f5fc978",
   "metadata": {},
   "outputs": [
    {
     "name": "stdout",
     "output_type": "stream",
     "text": [
      "2025-05-03 15:33:31,220 INFO: Closing external client and cleaning up certificates.\n",
      "Connection closed.\n",
      "2025-05-03 15:33:31,222 INFO: Initializing external client\n",
      "2025-05-03 15:33:31,222 INFO: Base URL: https://c.app.hopsworks.ai:443\n",
      "2025-05-03 15:33:31,848 INFO: Python Engine initialized.\n",
      "\n",
      "Logged in to project, explore it here https://c.app.hopsworks.ai:443/p/1214683\n"
     ]
    },
    {
     "ename": "RestAPIError",
     "evalue": "Metadata operation error: (url: https://c.app.hopsworks.ai/hopsworks-api/api/project/1214683/featurestores/1202314/featureview). Server response: \nHTTP code: 500, HTTP reason: Internal Server Error, body: b'{\"errorCode\":120003,\"usrMsg\":\"Transaction marked for rollback.\",\"errorMsg\":\"The last transaction did not complete as expected\"}', error code: 120003, error msg: The last transaction did not complete as expected, user msg: Transaction marked for rollback.",
     "output_type": "error",
     "traceback": [
      "\u001b[0;31m---------------------------------------------------------------------------\u001b[0m",
      "\u001b[0;31mRestAPIError\u001b[0m                              Traceback (most recent call last)",
      "Cell \u001b[0;32mIn[39], line 14\u001b[0m\n\u001b[1;32m     10\u001b[0m NEW_VER  \u001b[38;5;241m=\u001b[39m \u001b[38;5;241m1\u001b[39m                            \u001b[38;5;66;03m# start at 1 again\u001b[39;00m\n\u001b[1;32m     12\u001b[0m fg \u001b[38;5;241m=\u001b[39m fs\u001b[38;5;241m.\u001b[39mget_feature_group(\u001b[38;5;124m\"\u001b[39m\u001b[38;5;124mtime_series_hourly_feature_group\u001b[39m\u001b[38;5;124m\"\u001b[39m, version\u001b[38;5;241m=\u001b[39m\u001b[38;5;241m1\u001b[39m)\n\u001b[0;32m---> 14\u001b[0m fv \u001b[38;5;241m=\u001b[39m \u001b[43mfs\u001b[49m\u001b[38;5;241;43m.\u001b[39;49m\u001b[43mcreate_feature_view\u001b[49m\u001b[43m(\u001b[49m\n\u001b[1;32m     15\u001b[0m \u001b[43m    \u001b[49m\u001b[43mname\u001b[49m\u001b[43m        \u001b[49m\u001b[38;5;241;43m=\u001b[39;49m\u001b[43m \u001b[49m\u001b[43mNEW_NAME\u001b[49m\u001b[43m,\u001b[49m\n\u001b[1;32m     16\u001b[0m \u001b[43m    \u001b[49m\u001b[43mversion\u001b[49m\u001b[43m     \u001b[49m\u001b[38;5;241;43m=\u001b[39;49m\u001b[43m \u001b[49m\u001b[43mNEW_VER\u001b[49m\u001b[43m,\u001b[49m\n\u001b[1;32m     17\u001b[0m \u001b[43m    \u001b[49m\u001b[43mdescription\u001b[49m\u001b[43m \u001b[49m\u001b[38;5;241;43m=\u001b[39;49m\u001b[43m \u001b[49m\u001b[38;5;124;43m\"\u001b[39;49m\u001b[38;5;124;43mHourly Citi Bike rides (3 top stations)\u001b[39;49m\u001b[38;5;124;43m\"\u001b[39;49m\u001b[43m,\u001b[49m\n\u001b[1;32m     18\u001b[0m \u001b[43m    \u001b[49m\u001b[43mlabels\u001b[49m\u001b[43m      \u001b[49m\u001b[38;5;241;43m=\u001b[39;49m\u001b[43m \u001b[49m\u001b[43m[\u001b[49m\u001b[38;5;124;43m\"\u001b[39;49m\u001b[38;5;124;43mrides\u001b[39;49m\u001b[38;5;124;43m\"\u001b[39;49m\u001b[43m]\u001b[49m\u001b[43m,\u001b[49m\n\u001b[1;32m     19\u001b[0m \u001b[43m    \u001b[49m\u001b[43mquery\u001b[49m\u001b[43m       \u001b[49m\u001b[38;5;241;43m=\u001b[39;49m\u001b[43m \u001b[49m\u001b[43mfg\u001b[49m\u001b[38;5;241;43m.\u001b[39;49m\u001b[43mselect_all\u001b[49m\u001b[43m(\u001b[49m\u001b[43m)\u001b[49m\n\u001b[1;32m     20\u001b[0m \u001b[43m)\u001b[49m\n\u001b[1;32m     22\u001b[0m \u001b[38;5;28mprint\u001b[39m(\u001b[38;5;124mf\u001b[39m\u001b[38;5;124m\"\u001b[39m\u001b[38;5;124m✅  Feature‑view created: \u001b[39m\u001b[38;5;132;01m{\u001b[39;00mfv\u001b[38;5;241m.\u001b[39mname\u001b[38;5;132;01m}\u001b[39;00m\u001b[38;5;124m  v\u001b[39m\u001b[38;5;132;01m{\u001b[39;00mfv\u001b[38;5;241m.\u001b[39mversion\u001b[38;5;132;01m}\u001b[39;00m\u001b[38;5;124m\"\u001b[39m)\n",
      "File \u001b[0;32m/opt/anaconda3/envs/sp25_citibike/lib/python3.10/site-packages/hopsworks_common/usage.py:246\u001b[0m, in \u001b[0;36mmethod_logger.<locals>.wrapper\u001b[0;34m(*args, **kwargs)\u001b[0m\n\u001b[1;32m    244\u001b[0m \u001b[38;5;28;01mexcept\u001b[39;00m \u001b[38;5;167;01mException\u001b[39;00m \u001b[38;5;28;01mas\u001b[39;00m e:\n\u001b[1;32m    245\u001b[0m     exception \u001b[38;5;241m=\u001b[39m e\n\u001b[0;32m--> 246\u001b[0m     \u001b[38;5;28;01mraise\u001b[39;00m e\n\u001b[1;32m    247\u001b[0m \u001b[38;5;28;01mfinally\u001b[39;00m:\n\u001b[1;32m    248\u001b[0m     \u001b[38;5;28;01mtry\u001b[39;00m:\n",
      "File \u001b[0;32m/opt/anaconda3/envs/sp25_citibike/lib/python3.10/site-packages/hopsworks_common/usage.py:242\u001b[0m, in \u001b[0;36mmethod_logger.<locals>.wrapper\u001b[0;34m(*args, **kwargs)\u001b[0m\n\u001b[1;32m    239\u001b[0m exception \u001b[38;5;241m=\u001b[39m \u001b[38;5;28;01mNone\u001b[39;00m\n\u001b[1;32m    240\u001b[0m \u001b[38;5;28;01mtry\u001b[39;00m:\n\u001b[1;32m    241\u001b[0m     \u001b[38;5;66;03m# Call the original method\u001b[39;00m\n\u001b[0;32m--> 242\u001b[0m     result \u001b[38;5;241m=\u001b[39m \u001b[43mfunc\u001b[49m\u001b[43m(\u001b[49m\u001b[38;5;241;43m*\u001b[39;49m\u001b[43margs\u001b[49m\u001b[43m,\u001b[49m\u001b[43m \u001b[49m\u001b[38;5;241;43m*\u001b[39;49m\u001b[38;5;241;43m*\u001b[39;49m\u001b[43mkwargs\u001b[49m\u001b[43m)\u001b[49m\n\u001b[1;32m    243\u001b[0m     \u001b[38;5;28;01mreturn\u001b[39;00m result\n\u001b[1;32m    244\u001b[0m \u001b[38;5;28;01mexcept\u001b[39;00m \u001b[38;5;167;01mException\u001b[39;00m \u001b[38;5;28;01mas\u001b[39;00m e:\n",
      "File \u001b[0;32m/opt/anaconda3/envs/sp25_citibike/lib/python3.10/site-packages/hsfs/feature_store.py:1665\u001b[0m, in \u001b[0;36mFeatureStore.create_feature_view\u001b[0;34m(self, name, query, version, description, labels, inference_helper_columns, training_helper_columns, transformation_functions, logging_enabled)\u001b[0m\n\u001b[1;32m   1561\u001b[0m \u001b[38;5;250m\u001b[39m\u001b[38;5;124;03m\"\"\"Create a feature view metadata object and saved it to hopsworks.\u001b[39;00m\n\u001b[1;32m   1562\u001b[0m \n\u001b[1;32m   1563\u001b[0m \u001b[38;5;124;03m!!! example\u001b[39;00m\n\u001b[0;32m   (...)\u001b[0m\n\u001b[1;32m   1650\u001b[0m \u001b[38;5;124;03m    `FeatureView`: The feature view metadata object.\u001b[39;00m\n\u001b[1;32m   1651\u001b[0m \u001b[38;5;124;03m\"\"\"\u001b[39;00m\n\u001b[1;32m   1652\u001b[0m feat_view \u001b[38;5;241m=\u001b[39m feature_view\u001b[38;5;241m.\u001b[39mFeatureView(\n\u001b[1;32m   1653\u001b[0m     name\u001b[38;5;241m=\u001b[39mname,\n\u001b[1;32m   1654\u001b[0m     query\u001b[38;5;241m=\u001b[39mquery,\n\u001b[0;32m   (...)\u001b[0m\n\u001b[1;32m   1663\u001b[0m     logging_enabled\u001b[38;5;241m=\u001b[39mlogging_enabled,\n\u001b[1;32m   1664\u001b[0m )\n\u001b[0;32m-> 1665\u001b[0m \u001b[38;5;28;01mreturn\u001b[39;00m \u001b[38;5;28;43mself\u001b[39;49m\u001b[38;5;241;43m.\u001b[39;49m\u001b[43m_feature_view_engine\u001b[49m\u001b[38;5;241;43m.\u001b[39;49m\u001b[43msave\u001b[49m\u001b[43m(\u001b[49m\u001b[43mfeat_view\u001b[49m\u001b[43m)\u001b[49m\n",
      "File \u001b[0;32m/opt/anaconda3/envs/sp25_citibike/lib/python3.10/site-packages/hsfs/core/feature_view_engine.py:144\u001b[0m, in \u001b[0;36mFeatureViewEngine.save\u001b[0;34m(self, feature_view_obj)\u001b[0m\n\u001b[1;32m    131\u001b[0m         (\n\u001b[1;32m    132\u001b[0m             feature,\n\u001b[1;32m    133\u001b[0m             prefix,\n\u001b[1;32m    134\u001b[0m             featuregroup,\n\u001b[1;32m    135\u001b[0m         ) \u001b[38;5;241m=\u001b[39m feature_view_obj\u001b[38;5;241m.\u001b[39mquery\u001b[38;5;241m.\u001b[39m_get_feature_by_name(helper_column_name)\n\u001b[1;32m    136\u001b[0m         feature_view_obj\u001b[38;5;241m.\u001b[39m_features\u001b[38;5;241m.\u001b[39mappend(\n\u001b[1;32m    137\u001b[0m             training_dataset_feature\u001b[38;5;241m.\u001b[39mTrainingDatasetFeature(\n\u001b[1;32m    138\u001b[0m                 name\u001b[38;5;241m=\u001b[39mfeature\u001b[38;5;241m.\u001b[39mname,\n\u001b[0;32m   (...)\u001b[0m\n\u001b[1;32m    141\u001b[0m             )\n\u001b[1;32m    142\u001b[0m         )\n\u001b[0;32m--> 144\u001b[0m updated_fv \u001b[38;5;241m=\u001b[39m \u001b[38;5;28;43mself\u001b[39;49m\u001b[38;5;241;43m.\u001b[39;49m\u001b[43m_feature_view_api\u001b[49m\u001b[38;5;241;43m.\u001b[39;49m\u001b[43mpost\u001b[49m\u001b[43m(\u001b[49m\u001b[43mfeature_view_obj\u001b[49m\u001b[43m)\u001b[49m\n\u001b[1;32m    145\u001b[0m \u001b[38;5;28mprint\u001b[39m(\n\u001b[1;32m    146\u001b[0m     \u001b[38;5;124m\"\u001b[39m\u001b[38;5;124mFeature view created successfully, explore it at \u001b[39m\u001b[38;5;130;01m\\n\u001b[39;00m\u001b[38;5;124m\"\u001b[39m\n\u001b[1;32m    147\u001b[0m     \u001b[38;5;241m+\u001b[39m \u001b[38;5;28mself\u001b[39m\u001b[38;5;241m.\u001b[39m_get_feature_view_url(updated_fv)\n\u001b[1;32m    148\u001b[0m )\n\u001b[1;32m    149\u001b[0m \u001b[38;5;28;01mreturn\u001b[39;00m updated_fv\n",
      "File \u001b[0;32m/opt/anaconda3/envs/sp25_citibike/lib/python3.10/site-packages/hsfs/core/feature_view_api.py:73\u001b[0m, in \u001b[0;36mFeatureViewApi.post\u001b[0;34m(self, feature_view_obj)\u001b[0m\n\u001b[1;32m     68\u001b[0m \u001b[38;5;28;01mdef\u001b[39;00m\u001b[38;5;250m \u001b[39m\u001b[38;5;21mpost\u001b[39m(\n\u001b[1;32m     69\u001b[0m     \u001b[38;5;28mself\u001b[39m, feature_view_obj: feature_view\u001b[38;5;241m.\u001b[39mFeatureView\n\u001b[1;32m     70\u001b[0m ) \u001b[38;5;241m-\u001b[39m\u001b[38;5;241m>\u001b[39m feature_view\u001b[38;5;241m.\u001b[39mFeatureView:\n\u001b[1;32m     71\u001b[0m     headers \u001b[38;5;241m=\u001b[39m {\u001b[38;5;124m\"\u001b[39m\u001b[38;5;124mcontent-type\u001b[39m\u001b[38;5;124m\"\u001b[39m: \u001b[38;5;124m\"\u001b[39m\u001b[38;5;124mapplication/json\u001b[39m\u001b[38;5;124m\"\u001b[39m}\n\u001b[1;32m     72\u001b[0m     \u001b[38;5;28;01mreturn\u001b[39;00m feature_view_obj\u001b[38;5;241m.\u001b[39mupdate_from_response_json(\n\u001b[0;32m---> 73\u001b[0m         \u001b[38;5;28;43mself\u001b[39;49m\u001b[38;5;241;43m.\u001b[39;49m\u001b[43m_client\u001b[49m\u001b[38;5;241;43m.\u001b[39;49m\u001b[43m_send_request\u001b[49m\u001b[43m(\u001b[49m\n\u001b[1;32m     74\u001b[0m \u001b[43m            \u001b[49m\u001b[38;5;28;43mself\u001b[39;49m\u001b[38;5;241;43m.\u001b[39;49m\u001b[43m_POST\u001b[49m\u001b[43m,\u001b[49m\n\u001b[1;32m     75\u001b[0m \u001b[43m            \u001b[49m\u001b[38;5;28;43mself\u001b[39;49m\u001b[38;5;241;43m.\u001b[39;49m\u001b[43m_base_path\u001b[49m\u001b[43m,\u001b[49m\n\u001b[1;32m     76\u001b[0m \u001b[43m            \u001b[49m\u001b[43mheaders\u001b[49m\u001b[38;5;241;43m=\u001b[39;49m\u001b[43mheaders\u001b[49m\u001b[43m,\u001b[49m\n\u001b[1;32m     77\u001b[0m \u001b[43m            \u001b[49m\u001b[43mdata\u001b[49m\u001b[38;5;241;43m=\u001b[39;49m\u001b[43mfeature_view_obj\u001b[49m\u001b[38;5;241;43m.\u001b[39;49m\u001b[43mjson\u001b[49m\u001b[43m(\u001b[49m\u001b[43m)\u001b[49m\u001b[43m,\u001b[49m\n\u001b[1;32m     78\u001b[0m \u001b[43m        \u001b[49m\u001b[43m)\u001b[49m\n\u001b[1;32m     79\u001b[0m     )\n",
      "File \u001b[0;32m/opt/anaconda3/envs/sp25_citibike/lib/python3.10/site-packages/hopsworks_common/decorators.py:48\u001b[0m, in \u001b[0;36mconnected.<locals>.if_connected\u001b[0;34m(inst, *args, **kwargs)\u001b[0m\n\u001b[1;32m     46\u001b[0m \u001b[38;5;28;01mif\u001b[39;00m \u001b[38;5;129;01mnot\u001b[39;00m inst\u001b[38;5;241m.\u001b[39m_connected:\n\u001b[1;32m     47\u001b[0m     \u001b[38;5;28;01mraise\u001b[39;00m NoHopsworksConnectionError\n\u001b[0;32m---> 48\u001b[0m \u001b[38;5;28;01mreturn\u001b[39;00m \u001b[43mfn\u001b[49m\u001b[43m(\u001b[49m\u001b[43minst\u001b[49m\u001b[43m,\u001b[49m\u001b[43m \u001b[49m\u001b[38;5;241;43m*\u001b[39;49m\u001b[43margs\u001b[49m\u001b[43m,\u001b[49m\u001b[43m \u001b[49m\u001b[38;5;241;43m*\u001b[39;49m\u001b[38;5;241;43m*\u001b[39;49m\u001b[43mkwargs\u001b[49m\u001b[43m)\u001b[49m\n",
      "File \u001b[0;32m/opt/anaconda3/envs/sp25_citibike/lib/python3.10/site-packages/hopsworks_common/client/base.py:186\u001b[0m, in \u001b[0;36mClient._send_request\u001b[0;34m(self, method, path_params, query_params, headers, data, stream, files, with_base_path_params)\u001b[0m\n\u001b[1;32m    181\u001b[0m     response \u001b[38;5;241m=\u001b[39m \u001b[38;5;28mself\u001b[39m\u001b[38;5;241m.\u001b[39m_retry_token_expired(\n\u001b[1;32m    182\u001b[0m         request, stream, \u001b[38;5;28mself\u001b[39m\u001b[38;5;241m.\u001b[39mTOKEN_EXPIRED_RETRY_INTERVAL, \u001b[38;5;241m1\u001b[39m\n\u001b[1;32m    183\u001b[0m     )\n\u001b[1;32m    185\u001b[0m \u001b[38;5;28;01mif\u001b[39;00m response\u001b[38;5;241m.\u001b[39mstatus_code \u001b[38;5;241m/\u001b[39m\u001b[38;5;241m/\u001b[39m \u001b[38;5;241m100\u001b[39m \u001b[38;5;241m!=\u001b[39m \u001b[38;5;241m2\u001b[39m:\n\u001b[0;32m--> 186\u001b[0m     \u001b[38;5;28;01mraise\u001b[39;00m exceptions\u001b[38;5;241m.\u001b[39mRestAPIError(url, response)\n\u001b[1;32m    188\u001b[0m \u001b[38;5;28;01mif\u001b[39;00m stream:\n\u001b[1;32m    189\u001b[0m     \u001b[38;5;28;01mreturn\u001b[39;00m response\n",
      "\u001b[0;31mRestAPIError\u001b[0m: Metadata operation error: (url: https://c.app.hopsworks.ai/hopsworks-api/api/project/1214683/featurestores/1202314/featureview). Server response: \nHTTP code: 500, HTTP reason: Internal Server Error, body: b'{\"errorCode\":120003,\"usrMsg\":\"Transaction marked for rollback.\",\"errorMsg\":\"The last transaction did not complete as expected\"}', error code: 120003, error msg: The last transaction did not complete as expected, user msg: Transaction marked for rollback."
     ]
    }
   ],
   "source": [
    "import hopsworks, src.config as c\n",
    "\n",
    "project = hopsworks.login(\n",
    "    project       = c.HOPSWORKS_PROJECT_NAME,\n",
    "    api_key_value = c.HOPSWORKS_API_KEY,\n",
    ")\n",
    "fs = project.get_feature_store()\n",
    "\n",
    "NEW_NAME = \"cb_hourly_feature_view\"     # any fresh name\n",
    "NEW_VER  = 1                            # start at 1 again\n",
    "\n",
    "fg = fs.get_feature_group(\"time_series_hourly_feature_group\", version=1)\n",
    "\n",
    "fv = fs.create_feature_view(\n",
    "    name        = NEW_NAME,\n",
    "    version     = NEW_VER,\n",
    "    description = \"Hourly Citi Bike rides (3 top stations)\",\n",
    "    labels      = [\"rides\"],\n",
    "    query       = fg.select_all()\n",
    ")\n",
    "\n",
    "print(f\"✅  Feature‑view created: {fv.name}  v{fv.version}\")\n"
   ]
  },
  {
   "cell_type": "code",
   "execution_count": 41,
   "id": "b38a57d0",
   "metadata": {},
   "outputs": [
    {
     "ename": "RestAPIError",
     "evalue": "Metadata operation error: (url: https://c.app.hopsworks.ai/hopsworks-api/api/project/1214683/featurestores/1202314/featureview/None). Server response: \nHTTP code: 404, HTTP reason: Not Found, body: b'{\"errorCode\":120004,\"usrMsg\":\"HTTP 404 Not Found\",\"errorMsg\":\"Web application exception occurred\"}', error code: 120004, error msg: Web application exception occurred, user msg: HTTP 404 Not Found",
     "output_type": "error",
     "traceback": [
      "\u001b[0;31m---------------------------------------------------------------------------\u001b[0m",
      "\u001b[0;31mRestAPIError\u001b[0m                              Traceback (most recent call last)",
      "Cell \u001b[0;32mIn[41], line 2\u001b[0m\n\u001b[1;32m      1\u001b[0m \u001b[38;5;66;03m# list every feature‑view in the store\u001b[39;00m\n\u001b[0;32m----> 2\u001b[0m views \u001b[38;5;241m=\u001b[39m \u001b[43mfs\u001b[49m\u001b[38;5;241;43m.\u001b[39;49m\u001b[43mget_feature_views\u001b[49m\u001b[43m(\u001b[49m\u001b[43mname\u001b[49m\u001b[38;5;241;43m=\u001b[39;49m\u001b[38;5;28;43;01mNone\u001b[39;49;00m\u001b[43m)\u001b[49m   \u001b[38;5;66;03m# ← pass name=None\u001b[39;00m\n\u001b[1;32m      3\u001b[0m \u001b[38;5;28;01mfor\u001b[39;00m v \u001b[38;5;129;01min\u001b[39;00m views:\n\u001b[1;32m      4\u001b[0m     \u001b[38;5;66;03m# .id may not be exposed in some versions; print status too\u001b[39;00m\n\u001b[1;32m      5\u001b[0m     \u001b[38;5;28mprint\u001b[39m(\u001b[38;5;124mf\u001b[39m\u001b[38;5;124m\"\u001b[39m\u001b[38;5;132;01m{\u001b[39;00mv\u001b[38;5;241m.\u001b[39mname\u001b[38;5;132;01m:\u001b[39;00m\u001b[38;5;124m<35\u001b[39m\u001b[38;5;132;01m}\u001b[39;00m\u001b[38;5;124m  v\u001b[39m\u001b[38;5;132;01m{\u001b[39;00mv\u001b[38;5;241m.\u001b[39mversion\u001b[38;5;132;01m:\u001b[39;00m\u001b[38;5;124m<2\u001b[39m\u001b[38;5;132;01m}\u001b[39;00m\u001b[38;5;124m  status=\u001b[39m\u001b[38;5;132;01m{\u001b[39;00m\u001b[38;5;28mgetattr\u001b[39m(v,\u001b[38;5;250m \u001b[39m\u001b[38;5;124m'\u001b[39m\u001b[38;5;124mstatus\u001b[39m\u001b[38;5;124m'\u001b[39m,\u001b[38;5;250m \u001b[39m\u001b[38;5;124m'\u001b[39m\u001b[38;5;124m‑\u001b[39m\u001b[38;5;124m'\u001b[39m)\u001b[38;5;132;01m}\u001b[39;00m\u001b[38;5;124m  id=\u001b[39m\u001b[38;5;132;01m{\u001b[39;00m\u001b[38;5;28mgetattr\u001b[39m(v,\u001b[38;5;250m \u001b[39m\u001b[38;5;124m'\u001b[39m\u001b[38;5;124mid\u001b[39m\u001b[38;5;124m'\u001b[39m,\u001b[38;5;250m \u001b[39m\u001b[38;5;124m'\u001b[39m\u001b[38;5;124m‑\u001b[39m\u001b[38;5;124m'\u001b[39m)\u001b[38;5;132;01m}\u001b[39;00m\u001b[38;5;124m\"\u001b[39m)\n",
      "File \u001b[0;32m/opt/anaconda3/envs/sp25_citibike/lib/python3.10/site-packages/hopsworks_common/usage.py:246\u001b[0m, in \u001b[0;36mmethod_logger.<locals>.wrapper\u001b[0;34m(*args, **kwargs)\u001b[0m\n\u001b[1;32m    244\u001b[0m \u001b[38;5;28;01mexcept\u001b[39;00m \u001b[38;5;167;01mException\u001b[39;00m \u001b[38;5;28;01mas\u001b[39;00m e:\n\u001b[1;32m    245\u001b[0m     exception \u001b[38;5;241m=\u001b[39m e\n\u001b[0;32m--> 246\u001b[0m     \u001b[38;5;28;01mraise\u001b[39;00m e\n\u001b[1;32m    247\u001b[0m \u001b[38;5;28;01mfinally\u001b[39;00m:\n\u001b[1;32m    248\u001b[0m     \u001b[38;5;28;01mtry\u001b[39;00m:\n",
      "File \u001b[0;32m/opt/anaconda3/envs/sp25_citibike/lib/python3.10/site-packages/hopsworks_common/usage.py:242\u001b[0m, in \u001b[0;36mmethod_logger.<locals>.wrapper\u001b[0;34m(*args, **kwargs)\u001b[0m\n\u001b[1;32m    239\u001b[0m exception \u001b[38;5;241m=\u001b[39m \u001b[38;5;28;01mNone\u001b[39;00m\n\u001b[1;32m    240\u001b[0m \u001b[38;5;28;01mtry\u001b[39;00m:\n\u001b[1;32m    241\u001b[0m     \u001b[38;5;66;03m# Call the original method\u001b[39;00m\n\u001b[0;32m--> 242\u001b[0m     result \u001b[38;5;241m=\u001b[39m \u001b[43mfunc\u001b[49m\u001b[43m(\u001b[49m\u001b[38;5;241;43m*\u001b[39;49m\u001b[43margs\u001b[49m\u001b[43m,\u001b[49m\u001b[43m \u001b[49m\u001b[38;5;241;43m*\u001b[39;49m\u001b[38;5;241;43m*\u001b[39;49m\u001b[43mkwargs\u001b[49m\u001b[43m)\u001b[49m\n\u001b[1;32m    243\u001b[0m     \u001b[38;5;28;01mreturn\u001b[39;00m result\n\u001b[1;32m    244\u001b[0m \u001b[38;5;28;01mexcept\u001b[39;00m \u001b[38;5;167;01mException\u001b[39;00m \u001b[38;5;28;01mas\u001b[39;00m e:\n",
      "File \u001b[0;32m/opt/anaconda3/envs/sp25_citibike/lib/python3.10/site-packages/hsfs/feature_store.py:1815\u001b[0m, in \u001b[0;36mFeatureStore.get_feature_views\u001b[0;34m(self, name)\u001b[0m\n\u001b[1;32m   1789\u001b[0m \u001b[38;5;129m@usage\u001b[39m\u001b[38;5;241m.\u001b[39mmethod_logger\n\u001b[1;32m   1790\u001b[0m \u001b[38;5;28;01mdef\u001b[39;00m\u001b[38;5;250m \u001b[39m\u001b[38;5;21mget_feature_views\u001b[39m(\u001b[38;5;28mself\u001b[39m, name: \u001b[38;5;28mstr\u001b[39m) \u001b[38;5;241m-\u001b[39m\u001b[38;5;241m>\u001b[39m List[feature_view\u001b[38;5;241m.\u001b[39mFeatureView]:\n\u001b[1;32m   1791\u001b[0m \u001b[38;5;250m    \u001b[39m\u001b[38;5;124;03m\"\"\"Get a list of all versions of a feature view entity from the feature store.\u001b[39;00m\n\u001b[1;32m   1792\u001b[0m \n\u001b[1;32m   1793\u001b[0m \u001b[38;5;124;03m    Getting a feature view from the Feature Store means getting its metadata.\u001b[39;00m\n\u001b[0;32m   (...)\u001b[0m\n\u001b[1;32m   1813\u001b[0m \u001b[38;5;124;03m        `hopsworks.client.exceptions.RestAPIError`: If the backend encounters an error when handling the request\u001b[39;00m\n\u001b[1;32m   1814\u001b[0m \u001b[38;5;124;03m    \"\"\"\u001b[39;00m\n\u001b[0;32m-> 1815\u001b[0m     \u001b[38;5;28;01mreturn\u001b[39;00m \u001b[38;5;28;43mself\u001b[39;49m\u001b[38;5;241;43m.\u001b[39;49m\u001b[43m_feature_view_engine\u001b[49m\u001b[38;5;241;43m.\u001b[39;49m\u001b[43mget\u001b[49m\u001b[43m(\u001b[49m\u001b[43mname\u001b[49m\u001b[43m)\u001b[49m\n",
      "File \u001b[0;32m/opt/anaconda3/envs/sp25_citibike/lib/python3.10/site-packages/hsfs/core/feature_view_engine.py:188\u001b[0m, in \u001b[0;36mFeatureViewEngine.get\u001b[0;34m(self, name, version)\u001b[0m\n\u001b[1;32m    186\u001b[0m     fv \u001b[38;5;241m=\u001b[39m \u001b[38;5;28mself\u001b[39m\u001b[38;5;241m.\u001b[39m_feature_view_api\u001b[38;5;241m.\u001b[39mget_by_name_version(name, version)\n\u001b[1;32m    187\u001b[0m \u001b[38;5;28;01melse\u001b[39;00m:\n\u001b[0;32m--> 188\u001b[0m     fv \u001b[38;5;241m=\u001b[39m \u001b[38;5;28;43mself\u001b[39;49m\u001b[38;5;241;43m.\u001b[39;49m\u001b[43m_feature_view_api\u001b[49m\u001b[38;5;241;43m.\u001b[39;49m\u001b[43mget_by_name\u001b[49m\u001b[43m(\u001b[49m\u001b[43mname\u001b[49m\u001b[43m)\u001b[49m\n\u001b[1;32m    189\u001b[0m \u001b[38;5;28;01mreturn\u001b[39;00m fv\n",
      "File \u001b[0;32m/opt/anaconda3/envs/sp25_citibike/lib/python3.10/site-packages/hopsworks_common/decorators.py:75\u001b[0m, in \u001b[0;36mcatch_not_found.<locals>.decorator.<locals>.g\u001b[0;34m(*args, **kwds)\u001b[0m\n\u001b[1;32m     73\u001b[0m     \u001b[38;5;28;01mreturn\u001b[39;00m fallback_return\n\u001b[1;32m     74\u001b[0m \u001b[38;5;28;01melse\u001b[39;00m:\n\u001b[0;32m---> 75\u001b[0m     \u001b[38;5;28;01mraise\u001b[39;00m e\n",
      "File \u001b[0;32m/opt/anaconda3/envs/sp25_citibike/lib/python3.10/site-packages/hopsworks_common/decorators.py:67\u001b[0m, in \u001b[0;36mcatch_not_found.<locals>.decorator.<locals>.g\u001b[0;34m(*args, **kwds)\u001b[0m\n\u001b[1;32m     65\u001b[0m     not_found_error_codes\u001b[38;5;241m.\u001b[39mappend(object_class\u001b[38;5;241m.\u001b[39mNOT_FOUND_ERROR_CODE)\n\u001b[1;32m     66\u001b[0m \u001b[38;5;28;01mtry\u001b[39;00m:\n\u001b[0;32m---> 67\u001b[0m     \u001b[38;5;28;01mreturn\u001b[39;00m \u001b[43mf\u001b[49m\u001b[43m(\u001b[49m\u001b[38;5;241;43m*\u001b[39;49m\u001b[43margs\u001b[49m\u001b[43m,\u001b[49m\u001b[43m \u001b[49m\u001b[38;5;241;43m*\u001b[39;49m\u001b[38;5;241;43m*\u001b[39;49m\u001b[43mkwds\u001b[49m\u001b[43m)\u001b[49m\n\u001b[1;32m     68\u001b[0m \u001b[38;5;28;01mexcept\u001b[39;00m RestAPIError \u001b[38;5;28;01mas\u001b[39;00m e:\n\u001b[1;32m     69\u001b[0m     \u001b[38;5;28;01mif\u001b[39;00m (\n\u001b[1;32m     70\u001b[0m         e\u001b[38;5;241m.\u001b[39mresponse\u001b[38;5;241m.\u001b[39mstatus_code \u001b[38;5;129;01min\u001b[39;00m [\u001b[38;5;241m400\u001b[39m, \u001b[38;5;241m404\u001b[39m]\n\u001b[1;32m     71\u001b[0m         \u001b[38;5;129;01mand\u001b[39;00m e\u001b[38;5;241m.\u001b[39mresponse\u001b[38;5;241m.\u001b[39mjson()\u001b[38;5;241m.\u001b[39mget(\u001b[38;5;124m\"\u001b[39m\u001b[38;5;124merrorCode\u001b[39m\u001b[38;5;124m\"\u001b[39m, \u001b[38;5;124m\"\u001b[39m\u001b[38;5;124m\"\u001b[39m) \u001b[38;5;129;01min\u001b[39;00m not_found_error_codes\n\u001b[1;32m     72\u001b[0m     ):\n",
      "File \u001b[0;32m/opt/anaconda3/envs/sp25_citibike/lib/python3.10/site-packages/hsfs/core/feature_view_api.py:124\u001b[0m, in \u001b[0;36mFeatureViewApi.get_by_name\u001b[0;34m(self, name)\u001b[0m\n\u001b[1;32m    118\u001b[0m     \u001b[38;5;28;01mraise\u001b[39;00m \u001b[38;5;167;01mValueError\u001b[39;00m(\n\u001b[1;32m    119\u001b[0m         \u001b[38;5;124m\"\u001b[39m\u001b[38;5;124mCannot get back the feature view because the query defined is no longer valid.\u001b[39m\u001b[38;5;124m\"\u001b[39m\n\u001b[1;32m    120\u001b[0m         \u001b[38;5;124m\"\u001b[39m\u001b[38;5;124m Some feature groups used in the query may have been deleted. You can clean up this feature view on the UI\u001b[39m\u001b[38;5;124m\"\u001b[39m\n\u001b[1;32m    121\u001b[0m         \u001b[38;5;124m\"\u001b[39m\u001b[38;5;124m or `FeatureView.clean`.\u001b[39m\u001b[38;5;124m\"\u001b[39m\n\u001b[1;32m    122\u001b[0m     ) \u001b[38;5;28;01mfrom\u001b[39;00m\u001b[38;5;250m \u001b[39m\u001b[38;5;21;01me\u001b[39;00m\n\u001b[1;32m    123\u001b[0m \u001b[38;5;28;01melse\u001b[39;00m:\n\u001b[0;32m--> 124\u001b[0m     \u001b[38;5;28;01mraise\u001b[39;00m e\n",
      "File \u001b[0;32m/opt/anaconda3/envs/sp25_citibike/lib/python3.10/site-packages/hsfs/core/feature_view_api.py:110\u001b[0m, in \u001b[0;36mFeatureViewApi.get_by_name\u001b[0;34m(self, name)\u001b[0m\n\u001b[1;32m    106\u001b[0m path \u001b[38;5;241m=\u001b[39m \u001b[38;5;28mself\u001b[39m\u001b[38;5;241m.\u001b[39m_base_path \u001b[38;5;241m+\u001b[39m [name]\n\u001b[1;32m    107\u001b[0m \u001b[38;5;28;01mtry\u001b[39;00m:\n\u001b[1;32m    108\u001b[0m     \u001b[38;5;28;01mreturn\u001b[39;00m [\n\u001b[1;32m    109\u001b[0m         feature_view\u001b[38;5;241m.\u001b[39mFeatureView\u001b[38;5;241m.\u001b[39mfrom_response_json(fv)\n\u001b[0;32m--> 110\u001b[0m         \u001b[38;5;28;01mfor\u001b[39;00m fv \u001b[38;5;129;01min\u001b[39;00m \u001b[38;5;28;43mself\u001b[39;49m\u001b[38;5;241;43m.\u001b[39;49m\u001b[43m_client\u001b[49m\u001b[38;5;241;43m.\u001b[39;49m\u001b[43m_send_request\u001b[49m\u001b[43m(\u001b[49m\n\u001b[1;32m    111\u001b[0m \u001b[43m            \u001b[49m\u001b[38;5;28;43mself\u001b[39;49m\u001b[38;5;241;43m.\u001b[39;49m\u001b[43m_GET\u001b[49m\u001b[43m,\u001b[49m\n\u001b[1;32m    112\u001b[0m \u001b[43m            \u001b[49m\u001b[43mpath\u001b[49m\u001b[43m,\u001b[49m\n\u001b[1;32m    113\u001b[0m \u001b[43m            \u001b[49m\u001b[43m{\u001b[49m\u001b[38;5;124;43m\"\u001b[39;49m\u001b[38;5;124;43mexpand\u001b[39;49m\u001b[38;5;124;43m\"\u001b[39;49m\u001b[43m:\u001b[49m\u001b[43m \u001b[49m\u001b[43m[\u001b[49m\u001b[38;5;124;43m\"\u001b[39;49m\u001b[38;5;124;43mquery\u001b[39;49m\u001b[38;5;124;43m\"\u001b[39;49m\u001b[43m,\u001b[49m\u001b[43m \u001b[49m\u001b[38;5;124;43m\"\u001b[39;49m\u001b[38;5;124;43mfeatures\u001b[39;49m\u001b[38;5;124;43m\"\u001b[39;49m\u001b[43m,\u001b[49m\u001b[43m \u001b[49m\u001b[38;5;124;43m\"\u001b[39;49m\u001b[38;5;124;43mtransformationfunctions\u001b[39;49m\u001b[38;5;124;43m\"\u001b[39;49m\u001b[43m]\u001b[49m\u001b[43m}\u001b[49m\u001b[43m,\u001b[49m\n\u001b[1;32m    114\u001b[0m \u001b[43m        \u001b[49m\u001b[43m)\u001b[49m[\u001b[38;5;124m\"\u001b[39m\u001b[38;5;124mitems\u001b[39m\u001b[38;5;124m\"\u001b[39m]\n\u001b[1;32m    115\u001b[0m     ]\n\u001b[1;32m    116\u001b[0m \u001b[38;5;28;01mexcept\u001b[39;00m RestAPIError \u001b[38;5;28;01mas\u001b[39;00m e:\n\u001b[1;32m    117\u001b[0m     \u001b[38;5;28;01mif\u001b[39;00m e\u001b[38;5;241m.\u001b[39mresponse\u001b[38;5;241m.\u001b[39mjson()\u001b[38;5;241m.\u001b[39mget(\u001b[38;5;124m\"\u001b[39m\u001b[38;5;124merrorCode\u001b[39m\u001b[38;5;124m\"\u001b[39m, \u001b[38;5;124m\"\u001b[39m\u001b[38;5;124m\"\u001b[39m) \u001b[38;5;241m==\u001b[39m \u001b[38;5;241m270009\u001b[39m:\n",
      "File \u001b[0;32m/opt/anaconda3/envs/sp25_citibike/lib/python3.10/site-packages/hopsworks_common/decorators.py:48\u001b[0m, in \u001b[0;36mconnected.<locals>.if_connected\u001b[0;34m(inst, *args, **kwargs)\u001b[0m\n\u001b[1;32m     46\u001b[0m \u001b[38;5;28;01mif\u001b[39;00m \u001b[38;5;129;01mnot\u001b[39;00m inst\u001b[38;5;241m.\u001b[39m_connected:\n\u001b[1;32m     47\u001b[0m     \u001b[38;5;28;01mraise\u001b[39;00m NoHopsworksConnectionError\n\u001b[0;32m---> 48\u001b[0m \u001b[38;5;28;01mreturn\u001b[39;00m \u001b[43mfn\u001b[49m\u001b[43m(\u001b[49m\u001b[43minst\u001b[49m\u001b[43m,\u001b[49m\u001b[43m \u001b[49m\u001b[38;5;241;43m*\u001b[39;49m\u001b[43margs\u001b[49m\u001b[43m,\u001b[49m\u001b[43m \u001b[49m\u001b[38;5;241;43m*\u001b[39;49m\u001b[38;5;241;43m*\u001b[39;49m\u001b[43mkwargs\u001b[49m\u001b[43m)\u001b[49m\n",
      "File \u001b[0;32m/opt/anaconda3/envs/sp25_citibike/lib/python3.10/site-packages/hopsworks_common/client/base.py:186\u001b[0m, in \u001b[0;36mClient._send_request\u001b[0;34m(self, method, path_params, query_params, headers, data, stream, files, with_base_path_params)\u001b[0m\n\u001b[1;32m    181\u001b[0m     response \u001b[38;5;241m=\u001b[39m \u001b[38;5;28mself\u001b[39m\u001b[38;5;241m.\u001b[39m_retry_token_expired(\n\u001b[1;32m    182\u001b[0m         request, stream, \u001b[38;5;28mself\u001b[39m\u001b[38;5;241m.\u001b[39mTOKEN_EXPIRED_RETRY_INTERVAL, \u001b[38;5;241m1\u001b[39m\n\u001b[1;32m    183\u001b[0m     )\n\u001b[1;32m    185\u001b[0m \u001b[38;5;28;01mif\u001b[39;00m response\u001b[38;5;241m.\u001b[39mstatus_code \u001b[38;5;241m/\u001b[39m\u001b[38;5;241m/\u001b[39m \u001b[38;5;241m100\u001b[39m \u001b[38;5;241m!=\u001b[39m \u001b[38;5;241m2\u001b[39m:\n\u001b[0;32m--> 186\u001b[0m     \u001b[38;5;28;01mraise\u001b[39;00m exceptions\u001b[38;5;241m.\u001b[39mRestAPIError(url, response)\n\u001b[1;32m    188\u001b[0m \u001b[38;5;28;01mif\u001b[39;00m stream:\n\u001b[1;32m    189\u001b[0m     \u001b[38;5;28;01mreturn\u001b[39;00m response\n",
      "\u001b[0;31mRestAPIError\u001b[0m: Metadata operation error: (url: https://c.app.hopsworks.ai/hopsworks-api/api/project/1214683/featurestores/1202314/featureview/None). Server response: \nHTTP code: 404, HTTP reason: Not Found, body: b'{\"errorCode\":120004,\"usrMsg\":\"HTTP 404 Not Found\",\"errorMsg\":\"Web application exception occurred\"}', error code: 120004, error msg: Web application exception occurred, user msg: HTTP 404 Not Found"
     ]
    }
   ],
   "source": [
    "# list every feature‑view in the store\n",
    "views = fs.get_feature_views(name=None)   # ← pass name=None\n",
    "for v in views:\n",
    "    # .id may not be exposed in some versions; print status too\n",
    "    print(f\"{v.name:<35}  v{v.version:<2}  status={getattr(v, 'status', '‑')}  id={getattr(v, 'id', '‑')}\")\n"
   ]
  },
  {
   "cell_type": "code",
   "execution_count": 42,
   "id": "5499abee",
   "metadata": {},
   "outputs": [
    {
     "ename": "ValueError",
     "evalue": "Cannot get back the feature view because the query defined is no longer valid. Some feature groups used in the query may have been deleted. You can clean up this feature view on the UI or `FeatureView.clean`.",
     "output_type": "error",
     "traceback": [
      "\u001b[0;31m---------------------------------------------------------------------------\u001b[0m",
      "\u001b[0;31mRestAPIError\u001b[0m                              Traceback (most recent call last)",
      "File \u001b[0;32m/opt/anaconda3/envs/sp25_citibike/lib/python3.10/site-packages/hsfs/core/feature_view_api.py:110\u001b[0m, in \u001b[0;36mFeatureViewApi.get_by_name\u001b[0;34m(self, name)\u001b[0m\n\u001b[1;32m    107\u001b[0m \u001b[38;5;28;01mtry\u001b[39;00m:\n\u001b[1;32m    108\u001b[0m     \u001b[38;5;28;01mreturn\u001b[39;00m [\n\u001b[1;32m    109\u001b[0m         feature_view\u001b[38;5;241m.\u001b[39mFeatureView\u001b[38;5;241m.\u001b[39mfrom_response_json(fv)\n\u001b[0;32m--> 110\u001b[0m         \u001b[38;5;28;01mfor\u001b[39;00m fv \u001b[38;5;129;01min\u001b[39;00m \u001b[38;5;28;43mself\u001b[39;49m\u001b[38;5;241;43m.\u001b[39;49m\u001b[43m_client\u001b[49m\u001b[38;5;241;43m.\u001b[39;49m\u001b[43m_send_request\u001b[49m\u001b[43m(\u001b[49m\n\u001b[1;32m    111\u001b[0m \u001b[43m            \u001b[49m\u001b[38;5;28;43mself\u001b[39;49m\u001b[38;5;241;43m.\u001b[39;49m\u001b[43m_GET\u001b[49m\u001b[43m,\u001b[49m\n\u001b[1;32m    112\u001b[0m \u001b[43m            \u001b[49m\u001b[43mpath\u001b[49m\u001b[43m,\u001b[49m\n\u001b[1;32m    113\u001b[0m \u001b[43m            \u001b[49m\u001b[43m{\u001b[49m\u001b[38;5;124;43m\"\u001b[39;49m\u001b[38;5;124;43mexpand\u001b[39;49m\u001b[38;5;124;43m\"\u001b[39;49m\u001b[43m:\u001b[49m\u001b[43m \u001b[49m\u001b[43m[\u001b[49m\u001b[38;5;124;43m\"\u001b[39;49m\u001b[38;5;124;43mquery\u001b[39;49m\u001b[38;5;124;43m\"\u001b[39;49m\u001b[43m,\u001b[49m\u001b[43m \u001b[49m\u001b[38;5;124;43m\"\u001b[39;49m\u001b[38;5;124;43mfeatures\u001b[39;49m\u001b[38;5;124;43m\"\u001b[39;49m\u001b[43m,\u001b[49m\u001b[43m \u001b[49m\u001b[38;5;124;43m\"\u001b[39;49m\u001b[38;5;124;43mtransformationfunctions\u001b[39;49m\u001b[38;5;124;43m\"\u001b[39;49m\u001b[43m]\u001b[49m\u001b[43m}\u001b[49m\u001b[43m,\u001b[49m\n\u001b[1;32m    114\u001b[0m \u001b[43m        \u001b[49m\u001b[43m)\u001b[49m[\u001b[38;5;124m\"\u001b[39m\u001b[38;5;124mitems\u001b[39m\u001b[38;5;124m\"\u001b[39m]\n\u001b[1;32m    115\u001b[0m     ]\n\u001b[1;32m    116\u001b[0m \u001b[38;5;28;01mexcept\u001b[39;00m RestAPIError \u001b[38;5;28;01mas\u001b[39;00m e:\n",
      "File \u001b[0;32m/opt/anaconda3/envs/sp25_citibike/lib/python3.10/site-packages/hopsworks_common/decorators.py:48\u001b[0m, in \u001b[0;36mconnected.<locals>.if_connected\u001b[0;34m(inst, *args, **kwargs)\u001b[0m\n\u001b[1;32m     47\u001b[0m     \u001b[38;5;28;01mraise\u001b[39;00m NoHopsworksConnectionError\n\u001b[0;32m---> 48\u001b[0m \u001b[38;5;28;01mreturn\u001b[39;00m \u001b[43mfn\u001b[49m\u001b[43m(\u001b[49m\u001b[43minst\u001b[49m\u001b[43m,\u001b[49m\u001b[43m \u001b[49m\u001b[38;5;241;43m*\u001b[39;49m\u001b[43margs\u001b[49m\u001b[43m,\u001b[49m\u001b[43m \u001b[49m\u001b[38;5;241;43m*\u001b[39;49m\u001b[38;5;241;43m*\u001b[39;49m\u001b[43mkwargs\u001b[49m\u001b[43m)\u001b[49m\n",
      "File \u001b[0;32m/opt/anaconda3/envs/sp25_citibike/lib/python3.10/site-packages/hopsworks_common/client/base.py:186\u001b[0m, in \u001b[0;36mClient._send_request\u001b[0;34m(self, method, path_params, query_params, headers, data, stream, files, with_base_path_params)\u001b[0m\n\u001b[1;32m    185\u001b[0m \u001b[38;5;28;01mif\u001b[39;00m response\u001b[38;5;241m.\u001b[39mstatus_code \u001b[38;5;241m/\u001b[39m\u001b[38;5;241m/\u001b[39m \u001b[38;5;241m100\u001b[39m \u001b[38;5;241m!=\u001b[39m \u001b[38;5;241m2\u001b[39m:\n\u001b[0;32m--> 186\u001b[0m     \u001b[38;5;28;01mraise\u001b[39;00m exceptions\u001b[38;5;241m.\u001b[39mRestAPIError(url, response)\n\u001b[1;32m    188\u001b[0m \u001b[38;5;28;01mif\u001b[39;00m stream:\n",
      "\u001b[0;31mRestAPIError\u001b[0m: Metadata operation error: (url: https://c.app.hopsworks.ai/hopsworks-api/api/project/1214683/featurestores/1202314/featureview/time_series_hourly_feature_view). Server response: \nHTTP code: 404, HTTP reason: Not Found, body: b'{\"errorCode\":270009,\"usrMsg\":\"Cannot construct the query. Parent feature groups of the following features are not available anymore: pickup_hour, pickup_location_id, rides\",\"errorMsg\":\"Featuregroup wasn\\'t found.\"}', error code: 270009, error msg: Featuregroup wasn't found., user msg: Cannot construct the query. Parent feature groups of the following features are not available anymore: pickup_hour, pickup_location_id, rides",
      "\nThe above exception was the direct cause of the following exception:\n",
      "\u001b[0;31mValueError\u001b[0m                                Traceback (most recent call last)",
      "Cell \u001b[0;32mIn[42], line 3\u001b[0m\n\u001b[1;32m      1\u001b[0m VIEW_NAME \u001b[38;5;241m=\u001b[39m c\u001b[38;5;241m.\u001b[39mFEATURE_VIEW_NAME          \u001b[38;5;66;03m# \"time_series_hourly_feature_view\"\u001b[39;00m\n\u001b[0;32m----> 3\u001b[0m views \u001b[38;5;241m=\u001b[39m \u001b[43mfs\u001b[49m\u001b[38;5;241;43m.\u001b[39;49m\u001b[43mget_feature_views\u001b[49m\u001b[43m(\u001b[49m\u001b[43mname\u001b[49m\u001b[38;5;241;43m=\u001b[39;49m\u001b[43mVIEW_NAME\u001b[49m\u001b[43m)\u001b[49m   \u001b[38;5;66;03m# returns *all* versions for that name\u001b[39;00m\n\u001b[1;32m      4\u001b[0m \u001b[38;5;28;01mfor\u001b[39;00m v \u001b[38;5;129;01min\u001b[39;00m views:\n\u001b[1;32m      5\u001b[0m     \u001b[38;5;28mprint\u001b[39m(\u001b[38;5;124mf\u001b[39m\u001b[38;5;124m\"\u001b[39m\u001b[38;5;132;01m{\u001b[39;00mv\u001b[38;5;241m.\u001b[39mname\u001b[38;5;132;01m:\u001b[39;00m\u001b[38;5;124m<35\u001b[39m\u001b[38;5;132;01m}\u001b[39;00m\u001b[38;5;124m  v\u001b[39m\u001b[38;5;132;01m{\u001b[39;00mv\u001b[38;5;241m.\u001b[39mversion\u001b[38;5;132;01m:\u001b[39;00m\u001b[38;5;124m<3\u001b[39m\u001b[38;5;132;01m}\u001b[39;00m\u001b[38;5;124m   status=\u001b[39m\u001b[38;5;132;01m{\u001b[39;00m\u001b[38;5;28mgetattr\u001b[39m(v,\u001b[38;5;124m'\u001b[39m\u001b[38;5;124mstatus\u001b[39m\u001b[38;5;124m'\u001b[39m,\u001b[38;5;124m'\u001b[39m\u001b[38;5;124m‑\u001b[39m\u001b[38;5;124m'\u001b[39m)\u001b[38;5;132;01m}\u001b[39;00m\u001b[38;5;124m\"\u001b[39m)\n",
      "File \u001b[0;32m/opt/anaconda3/envs/sp25_citibike/lib/python3.10/site-packages/hopsworks_common/usage.py:246\u001b[0m, in \u001b[0;36mmethod_logger.<locals>.wrapper\u001b[0;34m(*args, **kwargs)\u001b[0m\n\u001b[1;32m    244\u001b[0m \u001b[38;5;28;01mexcept\u001b[39;00m \u001b[38;5;167;01mException\u001b[39;00m \u001b[38;5;28;01mas\u001b[39;00m e:\n\u001b[1;32m    245\u001b[0m     exception \u001b[38;5;241m=\u001b[39m e\n\u001b[0;32m--> 246\u001b[0m     \u001b[38;5;28;01mraise\u001b[39;00m e\n\u001b[1;32m    247\u001b[0m \u001b[38;5;28;01mfinally\u001b[39;00m:\n\u001b[1;32m    248\u001b[0m     \u001b[38;5;28;01mtry\u001b[39;00m:\n",
      "File \u001b[0;32m/opt/anaconda3/envs/sp25_citibike/lib/python3.10/site-packages/hopsworks_common/usage.py:242\u001b[0m, in \u001b[0;36mmethod_logger.<locals>.wrapper\u001b[0;34m(*args, **kwargs)\u001b[0m\n\u001b[1;32m    239\u001b[0m exception \u001b[38;5;241m=\u001b[39m \u001b[38;5;28;01mNone\u001b[39;00m\n\u001b[1;32m    240\u001b[0m \u001b[38;5;28;01mtry\u001b[39;00m:\n\u001b[1;32m    241\u001b[0m     \u001b[38;5;66;03m# Call the original method\u001b[39;00m\n\u001b[0;32m--> 242\u001b[0m     result \u001b[38;5;241m=\u001b[39m \u001b[43mfunc\u001b[49m\u001b[43m(\u001b[49m\u001b[38;5;241;43m*\u001b[39;49m\u001b[43margs\u001b[49m\u001b[43m,\u001b[49m\u001b[43m \u001b[49m\u001b[38;5;241;43m*\u001b[39;49m\u001b[38;5;241;43m*\u001b[39;49m\u001b[43mkwargs\u001b[49m\u001b[43m)\u001b[49m\n\u001b[1;32m    243\u001b[0m     \u001b[38;5;28;01mreturn\u001b[39;00m result\n\u001b[1;32m    244\u001b[0m \u001b[38;5;28;01mexcept\u001b[39;00m \u001b[38;5;167;01mException\u001b[39;00m \u001b[38;5;28;01mas\u001b[39;00m e:\n",
      "File \u001b[0;32m/opt/anaconda3/envs/sp25_citibike/lib/python3.10/site-packages/hsfs/feature_store.py:1815\u001b[0m, in \u001b[0;36mFeatureStore.get_feature_views\u001b[0;34m(self, name)\u001b[0m\n\u001b[1;32m   1789\u001b[0m \u001b[38;5;129m@usage\u001b[39m\u001b[38;5;241m.\u001b[39mmethod_logger\n\u001b[1;32m   1790\u001b[0m \u001b[38;5;28;01mdef\u001b[39;00m\u001b[38;5;250m \u001b[39m\u001b[38;5;21mget_feature_views\u001b[39m(\u001b[38;5;28mself\u001b[39m, name: \u001b[38;5;28mstr\u001b[39m) \u001b[38;5;241m-\u001b[39m\u001b[38;5;241m>\u001b[39m List[feature_view\u001b[38;5;241m.\u001b[39mFeatureView]:\n\u001b[1;32m   1791\u001b[0m \u001b[38;5;250m    \u001b[39m\u001b[38;5;124;03m\"\"\"Get a list of all versions of a feature view entity from the feature store.\u001b[39;00m\n\u001b[1;32m   1792\u001b[0m \n\u001b[1;32m   1793\u001b[0m \u001b[38;5;124;03m    Getting a feature view from the Feature Store means getting its metadata.\u001b[39;00m\n\u001b[0;32m   (...)\u001b[0m\n\u001b[1;32m   1813\u001b[0m \u001b[38;5;124;03m        `hopsworks.client.exceptions.RestAPIError`: If the backend encounters an error when handling the request\u001b[39;00m\n\u001b[1;32m   1814\u001b[0m \u001b[38;5;124;03m    \"\"\"\u001b[39;00m\n\u001b[0;32m-> 1815\u001b[0m     \u001b[38;5;28;01mreturn\u001b[39;00m \u001b[38;5;28;43mself\u001b[39;49m\u001b[38;5;241;43m.\u001b[39;49m\u001b[43m_feature_view_engine\u001b[49m\u001b[38;5;241;43m.\u001b[39;49m\u001b[43mget\u001b[49m\u001b[43m(\u001b[49m\u001b[43mname\u001b[49m\u001b[43m)\u001b[49m\n",
      "File \u001b[0;32m/opt/anaconda3/envs/sp25_citibike/lib/python3.10/site-packages/hsfs/core/feature_view_engine.py:188\u001b[0m, in \u001b[0;36mFeatureViewEngine.get\u001b[0;34m(self, name, version)\u001b[0m\n\u001b[1;32m    186\u001b[0m     fv \u001b[38;5;241m=\u001b[39m \u001b[38;5;28mself\u001b[39m\u001b[38;5;241m.\u001b[39m_feature_view_api\u001b[38;5;241m.\u001b[39mget_by_name_version(name, version)\n\u001b[1;32m    187\u001b[0m \u001b[38;5;28;01melse\u001b[39;00m:\n\u001b[0;32m--> 188\u001b[0m     fv \u001b[38;5;241m=\u001b[39m \u001b[38;5;28;43mself\u001b[39;49m\u001b[38;5;241;43m.\u001b[39;49m\u001b[43m_feature_view_api\u001b[49m\u001b[38;5;241;43m.\u001b[39;49m\u001b[43mget_by_name\u001b[49m\u001b[43m(\u001b[49m\u001b[43mname\u001b[49m\u001b[43m)\u001b[49m\n\u001b[1;32m    189\u001b[0m \u001b[38;5;28;01mreturn\u001b[39;00m fv\n",
      "File \u001b[0;32m/opt/anaconda3/envs/sp25_citibike/lib/python3.10/site-packages/hopsworks_common/decorators.py:67\u001b[0m, in \u001b[0;36mcatch_not_found.<locals>.decorator.<locals>.g\u001b[0;34m(*args, **kwds)\u001b[0m\n\u001b[1;32m     65\u001b[0m     not_found_error_codes\u001b[38;5;241m.\u001b[39mappend(object_class\u001b[38;5;241m.\u001b[39mNOT_FOUND_ERROR_CODE)\n\u001b[1;32m     66\u001b[0m \u001b[38;5;28;01mtry\u001b[39;00m:\n\u001b[0;32m---> 67\u001b[0m     \u001b[38;5;28;01mreturn\u001b[39;00m \u001b[43mf\u001b[49m\u001b[43m(\u001b[49m\u001b[38;5;241;43m*\u001b[39;49m\u001b[43margs\u001b[49m\u001b[43m,\u001b[49m\u001b[43m \u001b[49m\u001b[38;5;241;43m*\u001b[39;49m\u001b[38;5;241;43m*\u001b[39;49m\u001b[43mkwds\u001b[49m\u001b[43m)\u001b[49m\n\u001b[1;32m     68\u001b[0m \u001b[38;5;28;01mexcept\u001b[39;00m RestAPIError \u001b[38;5;28;01mas\u001b[39;00m e:\n\u001b[1;32m     69\u001b[0m     \u001b[38;5;28;01mif\u001b[39;00m (\n\u001b[1;32m     70\u001b[0m         e\u001b[38;5;241m.\u001b[39mresponse\u001b[38;5;241m.\u001b[39mstatus_code \u001b[38;5;129;01min\u001b[39;00m [\u001b[38;5;241m400\u001b[39m, \u001b[38;5;241m404\u001b[39m]\n\u001b[1;32m     71\u001b[0m         \u001b[38;5;129;01mand\u001b[39;00m e\u001b[38;5;241m.\u001b[39mresponse\u001b[38;5;241m.\u001b[39mjson()\u001b[38;5;241m.\u001b[39mget(\u001b[38;5;124m\"\u001b[39m\u001b[38;5;124merrorCode\u001b[39m\u001b[38;5;124m\"\u001b[39m, \u001b[38;5;124m\"\u001b[39m\u001b[38;5;124m\"\u001b[39m) \u001b[38;5;129;01min\u001b[39;00m not_found_error_codes\n\u001b[1;32m     72\u001b[0m     ):\n",
      "File \u001b[0;32m/opt/anaconda3/envs/sp25_citibike/lib/python3.10/site-packages/hsfs/core/feature_view_api.py:118\u001b[0m, in \u001b[0;36mFeatureViewApi.get_by_name\u001b[0;34m(self, name)\u001b[0m\n\u001b[1;32m    116\u001b[0m \u001b[38;5;28;01mexcept\u001b[39;00m RestAPIError \u001b[38;5;28;01mas\u001b[39;00m e:\n\u001b[1;32m    117\u001b[0m     \u001b[38;5;28;01mif\u001b[39;00m e\u001b[38;5;241m.\u001b[39mresponse\u001b[38;5;241m.\u001b[39mjson()\u001b[38;5;241m.\u001b[39mget(\u001b[38;5;124m\"\u001b[39m\u001b[38;5;124merrorCode\u001b[39m\u001b[38;5;124m\"\u001b[39m, \u001b[38;5;124m\"\u001b[39m\u001b[38;5;124m\"\u001b[39m) \u001b[38;5;241m==\u001b[39m \u001b[38;5;241m270009\u001b[39m:\n\u001b[0;32m--> 118\u001b[0m         \u001b[38;5;28;01mraise\u001b[39;00m \u001b[38;5;167;01mValueError\u001b[39;00m(\n\u001b[1;32m    119\u001b[0m             \u001b[38;5;124m\"\u001b[39m\u001b[38;5;124mCannot get back the feature view because the query defined is no longer valid.\u001b[39m\u001b[38;5;124m\"\u001b[39m\n\u001b[1;32m    120\u001b[0m             \u001b[38;5;124m\"\u001b[39m\u001b[38;5;124m Some feature groups used in the query may have been deleted. You can clean up this feature view on the UI\u001b[39m\u001b[38;5;124m\"\u001b[39m\n\u001b[1;32m    121\u001b[0m             \u001b[38;5;124m\"\u001b[39m\u001b[38;5;124m or `FeatureView.clean`.\u001b[39m\u001b[38;5;124m\"\u001b[39m\n\u001b[1;32m    122\u001b[0m         ) \u001b[38;5;28;01mfrom\u001b[39;00m\u001b[38;5;250m \u001b[39m\u001b[38;5;21;01me\u001b[39;00m\n\u001b[1;32m    123\u001b[0m     \u001b[38;5;28;01melse\u001b[39;00m:\n\u001b[1;32m    124\u001b[0m         \u001b[38;5;28;01mraise\u001b[39;00m e\n",
      "\u001b[0;31mValueError\u001b[0m: Cannot get back the feature view because the query defined is no longer valid. Some feature groups used in the query may have been deleted. You can clean up this feature view on the UI or `FeatureView.clean`."
     ]
    }
   ],
   "source": [
    "VIEW_NAME = c.FEATURE_VIEW_NAME          # \"time_series_hourly_feature_view\"\n",
    "\n",
    "views = fs.get_feature_views(name=VIEW_NAME)   # returns *all* versions for that name\n",
    "for v in views:\n",
    "    print(f\"{v.name:<35}  v{v.version:<3}   status={getattr(v,'status','‑')}\")\n"
   ]
  },
  {
   "cell_type": "code",
   "execution_count": 43,
   "id": "4515a839",
   "metadata": {},
   "outputs": [
    {
     "name": "stdout",
     "output_type": "stream",
     "text": [
      "🗑️  found time_series_hourly_feature_view v2 – cleaning …\n"
     ]
    },
    {
     "ename": "AttributeError",
     "evalue": "'NoneType' object has no attribute 'clean'",
     "output_type": "error",
     "traceback": [
      "\u001b[0;31m---------------------------------------------------------------------------\u001b[0m",
      "\u001b[0;31mAttributeError\u001b[0m                            Traceback (most recent call last)",
      "Cell \u001b[0;32mIn[43], line 10\u001b[0m\n\u001b[1;32m      8\u001b[0m     fv \u001b[38;5;241m=\u001b[39m fs\u001b[38;5;241m.\u001b[39mget_feature_view(VIEW, version\u001b[38;5;241m=\u001b[39mv)\n\u001b[1;32m      9\u001b[0m     \u001b[38;5;28mprint\u001b[39m(\u001b[38;5;124mf\u001b[39m\u001b[38;5;124m\"\u001b[39m\u001b[38;5;124m🗑️  found \u001b[39m\u001b[38;5;132;01m{\u001b[39;00mVIEW\u001b[38;5;132;01m}\u001b[39;00m\u001b[38;5;124m v\u001b[39m\u001b[38;5;132;01m{\u001b[39;00mv\u001b[38;5;132;01m}\u001b[39;00m\u001b[38;5;124m – cleaning …\u001b[39m\u001b[38;5;124m\"\u001b[39m)\n\u001b[0;32m---> 10\u001b[0m     \u001b[43mfv\u001b[49m\u001b[38;5;241;43m.\u001b[39;49m\u001b[43mclean\u001b[49m(hard_delete\u001b[38;5;241m=\u001b[39m\u001b[38;5;28;01mTrue\u001b[39;00m)          \u001b[38;5;66;03m# <- *really* removes metadata\u001b[39;00m\n\u001b[1;32m     11\u001b[0m     \u001b[38;5;28mprint\u001b[39m(\u001b[38;5;124mf\u001b[39m\u001b[38;5;124m\"\u001b[39m\u001b[38;5;124m   → deleted v\u001b[39m\u001b[38;5;132;01m{\u001b[39;00mv\u001b[38;5;132;01m}\u001b[39;00m\u001b[38;5;124m\"\u001b[39m)\n\u001b[1;32m     12\u001b[0m \u001b[38;5;28;01mexcept\u001b[39;00m (\u001b[38;5;167;01mValueError\u001b[39;00m, RestAPIError):\n",
      "\u001b[0;31mAttributeError\u001b[0m: 'NoneType' object has no attribute 'clean'"
     ]
    }
   ],
   "source": [
    "from hsfs.client.exceptions import RestAPIError\n",
    "\n",
    "VIEW = c.FEATURE_VIEW_NAME          # \"time_series_hourly_feature_view\"\n",
    "\n",
    "# brute‑force try versions 1‑10 and hard‑delete if they exist\n",
    "for v in range(1, 11):\n",
    "    try:\n",
    "        fv = fs.get_feature_view(VIEW, version=v)\n",
    "        print(f\"🗑️  found {VIEW} v{v} – cleaning …\")\n",
    "        fv.clean(hard_delete=True)          # <- *really* removes metadata\n",
    "        print(f\"   → deleted v{v}\")\n",
    "    except (ValueError, RestAPIError):\n",
    "        pass                                # view/version not present / already invalid\n"
   ]
  },
  {
   "cell_type": "code",
   "execution_count": 44,
   "id": "5f5c8d03",
   "metadata": {},
   "outputs": [],
   "source": [
    "from hsfs.client.exceptions import RestAPIError\n",
    "\n",
    "VIEW = c.FEATURE_VIEW_NAME          # \"time_series_hourly_feature_view\"\n",
    "\n",
    "for v in range(1, 11):\n",
    "    try:\n",
    "        fv = fs.get_feature_view(VIEW, version=v)\n",
    "        if fv is None:                       # ← skip missing / corrupt entries\n",
    "            continue\n",
    "        print(f\"🗑️  found {VIEW} v{v} – cleaning …\")\n",
    "        fv.clean(hard_delete=True)\n",
    "        print(f\"   → deleted v{v}\")\n",
    "    except (ValueError, RestAPIError):\n",
    "        pass\n"
   ]
  },
  {
   "cell_type": "code",
   "execution_count": 45,
   "id": "67559ef4",
   "metadata": {},
   "outputs": [
    {
     "ename": "RestAPIError",
     "evalue": "Metadata operation error: (url: https://c.app.hopsworks.ai/hopsworks-api/api/project/1214683/featurestores/1202314/featureview). Server response: \nHTTP code: 400, HTTP reason: Bad Request, body: b'{\"errorCode\":270179,\"usrMsg\":\"Feature view: time_series_hourly_feature_view, version: 1\",\"errorMsg\":\"The provided feature view name and version already exists\"}', error code: 270179, error msg: The provided feature view name and version already exists, user msg: Feature view: time_series_hourly_feature_view, version: 1",
     "output_type": "error",
     "traceback": [
      "\u001b[0;31m---------------------------------------------------------------------------\u001b[0m",
      "\u001b[0;31mRestAPIError\u001b[0m                              Traceback (most recent call last)",
      "Cell \u001b[0;32mIn[45], line 4\u001b[0m\n\u001b[1;32m      1\u001b[0m \u001b[38;5;66;03m# still in the same notebook / Python session\u001b[39;00m\n\u001b[1;32m      2\u001b[0m fg \u001b[38;5;241m=\u001b[39m fs\u001b[38;5;241m.\u001b[39mget_feature_group(\u001b[38;5;124m\"\u001b[39m\u001b[38;5;124mtime_series_hourly_feature_group\u001b[39m\u001b[38;5;124m\"\u001b[39m, version\u001b[38;5;241m=\u001b[39m\u001b[38;5;241m1\u001b[39m)\n\u001b[0;32m----> 4\u001b[0m fv \u001b[38;5;241m=\u001b[39m \u001b[43mfs\u001b[49m\u001b[38;5;241;43m.\u001b[39;49m\u001b[43mcreate_feature_view\u001b[49m\u001b[43m(\u001b[49m\n\u001b[1;32m      5\u001b[0m \u001b[43m    \u001b[49m\u001b[43mname\u001b[49m\u001b[43m        \u001b[49m\u001b[38;5;241;43m=\u001b[39;49m\u001b[43m \u001b[49m\u001b[43mc\u001b[49m\u001b[38;5;241;43m.\u001b[39;49m\u001b[43mFEATURE_VIEW_NAME\u001b[49m\u001b[43m,\u001b[49m\u001b[43m     \u001b[49m\u001b[38;5;66;43;03m# \"time_series_hourly_feature_view\"\u001b[39;49;00m\n\u001b[1;32m      6\u001b[0m \u001b[43m    \u001b[49m\u001b[43mversion\u001b[49m\u001b[43m     \u001b[49m\u001b[38;5;241;43m=\u001b[39;49m\u001b[43m \u001b[49m\u001b[38;5;241;43m1\u001b[39;49m\u001b[43m,\u001b[49m\u001b[43m                       \u001b[49m\u001b[38;5;66;43;03m# brand‑new v1\u001b[39;49;00m\n\u001b[1;32m      7\u001b[0m \u001b[43m    \u001b[49m\u001b[43mdescription\u001b[49m\u001b[43m \u001b[49m\u001b[38;5;241;43m=\u001b[39;49m\u001b[43m \u001b[49m\u001b[38;5;124;43m\"\u001b[39;49m\u001b[38;5;124;43mHourly Citi Bike rides (3 top stations)\u001b[39;49m\u001b[38;5;124;43m\"\u001b[39;49m\u001b[43m,\u001b[49m\n\u001b[1;32m      8\u001b[0m \u001b[43m    \u001b[49m\u001b[43mlabels\u001b[49m\u001b[43m      \u001b[49m\u001b[38;5;241;43m=\u001b[39;49m\u001b[43m \u001b[49m\u001b[43m[\u001b[49m\u001b[38;5;124;43m\"\u001b[39;49m\u001b[38;5;124;43mrides\u001b[39;49m\u001b[38;5;124;43m\"\u001b[39;49m\u001b[43m]\u001b[49m\u001b[43m,\u001b[49m\n\u001b[1;32m      9\u001b[0m \u001b[43m    \u001b[49m\u001b[43mquery\u001b[49m\u001b[43m       \u001b[49m\u001b[38;5;241;43m=\u001b[39;49m\u001b[43m \u001b[49m\u001b[43mfg\u001b[49m\u001b[38;5;241;43m.\u001b[39;49m\u001b[43mselect_all\u001b[49m\u001b[43m(\u001b[49m\u001b[43m)\u001b[49m\n\u001b[1;32m     10\u001b[0m \u001b[43m)\u001b[49m\n\u001b[1;32m     12\u001b[0m \u001b[38;5;28mprint\u001b[39m(\u001b[38;5;124m\"\u001b[39m\u001b[38;5;124m✅  Feature‑view ready:\u001b[39m\u001b[38;5;124m\"\u001b[39m, fv\u001b[38;5;241m.\u001b[39mname, \u001b[38;5;124m\"\u001b[39m\u001b[38;5;124mv\u001b[39m\u001b[38;5;124m\"\u001b[39m, fv\u001b[38;5;241m.\u001b[39mversion)\n",
      "File \u001b[0;32m/opt/anaconda3/envs/sp25_citibike/lib/python3.10/site-packages/hopsworks_common/usage.py:246\u001b[0m, in \u001b[0;36mmethod_logger.<locals>.wrapper\u001b[0;34m(*args, **kwargs)\u001b[0m\n\u001b[1;32m    244\u001b[0m \u001b[38;5;28;01mexcept\u001b[39;00m \u001b[38;5;167;01mException\u001b[39;00m \u001b[38;5;28;01mas\u001b[39;00m e:\n\u001b[1;32m    245\u001b[0m     exception \u001b[38;5;241m=\u001b[39m e\n\u001b[0;32m--> 246\u001b[0m     \u001b[38;5;28;01mraise\u001b[39;00m e\n\u001b[1;32m    247\u001b[0m \u001b[38;5;28;01mfinally\u001b[39;00m:\n\u001b[1;32m    248\u001b[0m     \u001b[38;5;28;01mtry\u001b[39;00m:\n",
      "File \u001b[0;32m/opt/anaconda3/envs/sp25_citibike/lib/python3.10/site-packages/hopsworks_common/usage.py:242\u001b[0m, in \u001b[0;36mmethod_logger.<locals>.wrapper\u001b[0;34m(*args, **kwargs)\u001b[0m\n\u001b[1;32m    239\u001b[0m exception \u001b[38;5;241m=\u001b[39m \u001b[38;5;28;01mNone\u001b[39;00m\n\u001b[1;32m    240\u001b[0m \u001b[38;5;28;01mtry\u001b[39;00m:\n\u001b[1;32m    241\u001b[0m     \u001b[38;5;66;03m# Call the original method\u001b[39;00m\n\u001b[0;32m--> 242\u001b[0m     result \u001b[38;5;241m=\u001b[39m \u001b[43mfunc\u001b[49m\u001b[43m(\u001b[49m\u001b[38;5;241;43m*\u001b[39;49m\u001b[43margs\u001b[49m\u001b[43m,\u001b[49m\u001b[43m \u001b[49m\u001b[38;5;241;43m*\u001b[39;49m\u001b[38;5;241;43m*\u001b[39;49m\u001b[43mkwargs\u001b[49m\u001b[43m)\u001b[49m\n\u001b[1;32m    243\u001b[0m     \u001b[38;5;28;01mreturn\u001b[39;00m result\n\u001b[1;32m    244\u001b[0m \u001b[38;5;28;01mexcept\u001b[39;00m \u001b[38;5;167;01mException\u001b[39;00m \u001b[38;5;28;01mas\u001b[39;00m e:\n",
      "File \u001b[0;32m/opt/anaconda3/envs/sp25_citibike/lib/python3.10/site-packages/hsfs/feature_store.py:1665\u001b[0m, in \u001b[0;36mFeatureStore.create_feature_view\u001b[0;34m(self, name, query, version, description, labels, inference_helper_columns, training_helper_columns, transformation_functions, logging_enabled)\u001b[0m\n\u001b[1;32m   1561\u001b[0m \u001b[38;5;250m\u001b[39m\u001b[38;5;124;03m\"\"\"Create a feature view metadata object and saved it to hopsworks.\u001b[39;00m\n\u001b[1;32m   1562\u001b[0m \n\u001b[1;32m   1563\u001b[0m \u001b[38;5;124;03m!!! example\u001b[39;00m\n\u001b[0;32m   (...)\u001b[0m\n\u001b[1;32m   1650\u001b[0m \u001b[38;5;124;03m    `FeatureView`: The feature view metadata object.\u001b[39;00m\n\u001b[1;32m   1651\u001b[0m \u001b[38;5;124;03m\"\"\"\u001b[39;00m\n\u001b[1;32m   1652\u001b[0m feat_view \u001b[38;5;241m=\u001b[39m feature_view\u001b[38;5;241m.\u001b[39mFeatureView(\n\u001b[1;32m   1653\u001b[0m     name\u001b[38;5;241m=\u001b[39mname,\n\u001b[1;32m   1654\u001b[0m     query\u001b[38;5;241m=\u001b[39mquery,\n\u001b[0;32m   (...)\u001b[0m\n\u001b[1;32m   1663\u001b[0m     logging_enabled\u001b[38;5;241m=\u001b[39mlogging_enabled,\n\u001b[1;32m   1664\u001b[0m )\n\u001b[0;32m-> 1665\u001b[0m \u001b[38;5;28;01mreturn\u001b[39;00m \u001b[38;5;28;43mself\u001b[39;49m\u001b[38;5;241;43m.\u001b[39;49m\u001b[43m_feature_view_engine\u001b[49m\u001b[38;5;241;43m.\u001b[39;49m\u001b[43msave\u001b[49m\u001b[43m(\u001b[49m\u001b[43mfeat_view\u001b[49m\u001b[43m)\u001b[49m\n",
      "File \u001b[0;32m/opt/anaconda3/envs/sp25_citibike/lib/python3.10/site-packages/hsfs/core/feature_view_engine.py:144\u001b[0m, in \u001b[0;36mFeatureViewEngine.save\u001b[0;34m(self, feature_view_obj)\u001b[0m\n\u001b[1;32m    131\u001b[0m         (\n\u001b[1;32m    132\u001b[0m             feature,\n\u001b[1;32m    133\u001b[0m             prefix,\n\u001b[1;32m    134\u001b[0m             featuregroup,\n\u001b[1;32m    135\u001b[0m         ) \u001b[38;5;241m=\u001b[39m feature_view_obj\u001b[38;5;241m.\u001b[39mquery\u001b[38;5;241m.\u001b[39m_get_feature_by_name(helper_column_name)\n\u001b[1;32m    136\u001b[0m         feature_view_obj\u001b[38;5;241m.\u001b[39m_features\u001b[38;5;241m.\u001b[39mappend(\n\u001b[1;32m    137\u001b[0m             training_dataset_feature\u001b[38;5;241m.\u001b[39mTrainingDatasetFeature(\n\u001b[1;32m    138\u001b[0m                 name\u001b[38;5;241m=\u001b[39mfeature\u001b[38;5;241m.\u001b[39mname,\n\u001b[0;32m   (...)\u001b[0m\n\u001b[1;32m    141\u001b[0m             )\n\u001b[1;32m    142\u001b[0m         )\n\u001b[0;32m--> 144\u001b[0m updated_fv \u001b[38;5;241m=\u001b[39m \u001b[38;5;28;43mself\u001b[39;49m\u001b[38;5;241;43m.\u001b[39;49m\u001b[43m_feature_view_api\u001b[49m\u001b[38;5;241;43m.\u001b[39;49m\u001b[43mpost\u001b[49m\u001b[43m(\u001b[49m\u001b[43mfeature_view_obj\u001b[49m\u001b[43m)\u001b[49m\n\u001b[1;32m    145\u001b[0m \u001b[38;5;28mprint\u001b[39m(\n\u001b[1;32m    146\u001b[0m     \u001b[38;5;124m\"\u001b[39m\u001b[38;5;124mFeature view created successfully, explore it at \u001b[39m\u001b[38;5;130;01m\\n\u001b[39;00m\u001b[38;5;124m\"\u001b[39m\n\u001b[1;32m    147\u001b[0m     \u001b[38;5;241m+\u001b[39m \u001b[38;5;28mself\u001b[39m\u001b[38;5;241m.\u001b[39m_get_feature_view_url(updated_fv)\n\u001b[1;32m    148\u001b[0m )\n\u001b[1;32m    149\u001b[0m \u001b[38;5;28;01mreturn\u001b[39;00m updated_fv\n",
      "File \u001b[0;32m/opt/anaconda3/envs/sp25_citibike/lib/python3.10/site-packages/hsfs/core/feature_view_api.py:73\u001b[0m, in \u001b[0;36mFeatureViewApi.post\u001b[0;34m(self, feature_view_obj)\u001b[0m\n\u001b[1;32m     68\u001b[0m \u001b[38;5;28;01mdef\u001b[39;00m\u001b[38;5;250m \u001b[39m\u001b[38;5;21mpost\u001b[39m(\n\u001b[1;32m     69\u001b[0m     \u001b[38;5;28mself\u001b[39m, feature_view_obj: feature_view\u001b[38;5;241m.\u001b[39mFeatureView\n\u001b[1;32m     70\u001b[0m ) \u001b[38;5;241m-\u001b[39m\u001b[38;5;241m>\u001b[39m feature_view\u001b[38;5;241m.\u001b[39mFeatureView:\n\u001b[1;32m     71\u001b[0m     headers \u001b[38;5;241m=\u001b[39m {\u001b[38;5;124m\"\u001b[39m\u001b[38;5;124mcontent-type\u001b[39m\u001b[38;5;124m\"\u001b[39m: \u001b[38;5;124m\"\u001b[39m\u001b[38;5;124mapplication/json\u001b[39m\u001b[38;5;124m\"\u001b[39m}\n\u001b[1;32m     72\u001b[0m     \u001b[38;5;28;01mreturn\u001b[39;00m feature_view_obj\u001b[38;5;241m.\u001b[39mupdate_from_response_json(\n\u001b[0;32m---> 73\u001b[0m         \u001b[38;5;28;43mself\u001b[39;49m\u001b[38;5;241;43m.\u001b[39;49m\u001b[43m_client\u001b[49m\u001b[38;5;241;43m.\u001b[39;49m\u001b[43m_send_request\u001b[49m\u001b[43m(\u001b[49m\n\u001b[1;32m     74\u001b[0m \u001b[43m            \u001b[49m\u001b[38;5;28;43mself\u001b[39;49m\u001b[38;5;241;43m.\u001b[39;49m\u001b[43m_POST\u001b[49m\u001b[43m,\u001b[49m\n\u001b[1;32m     75\u001b[0m \u001b[43m            \u001b[49m\u001b[38;5;28;43mself\u001b[39;49m\u001b[38;5;241;43m.\u001b[39;49m\u001b[43m_base_path\u001b[49m\u001b[43m,\u001b[49m\n\u001b[1;32m     76\u001b[0m \u001b[43m            \u001b[49m\u001b[43mheaders\u001b[49m\u001b[38;5;241;43m=\u001b[39;49m\u001b[43mheaders\u001b[49m\u001b[43m,\u001b[49m\n\u001b[1;32m     77\u001b[0m \u001b[43m            \u001b[49m\u001b[43mdata\u001b[49m\u001b[38;5;241;43m=\u001b[39;49m\u001b[43mfeature_view_obj\u001b[49m\u001b[38;5;241;43m.\u001b[39;49m\u001b[43mjson\u001b[49m\u001b[43m(\u001b[49m\u001b[43m)\u001b[49m\u001b[43m,\u001b[49m\n\u001b[1;32m     78\u001b[0m \u001b[43m        \u001b[49m\u001b[43m)\u001b[49m\n\u001b[1;32m     79\u001b[0m     )\n",
      "File \u001b[0;32m/opt/anaconda3/envs/sp25_citibike/lib/python3.10/site-packages/hopsworks_common/decorators.py:48\u001b[0m, in \u001b[0;36mconnected.<locals>.if_connected\u001b[0;34m(inst, *args, **kwargs)\u001b[0m\n\u001b[1;32m     46\u001b[0m \u001b[38;5;28;01mif\u001b[39;00m \u001b[38;5;129;01mnot\u001b[39;00m inst\u001b[38;5;241m.\u001b[39m_connected:\n\u001b[1;32m     47\u001b[0m     \u001b[38;5;28;01mraise\u001b[39;00m NoHopsworksConnectionError\n\u001b[0;32m---> 48\u001b[0m \u001b[38;5;28;01mreturn\u001b[39;00m \u001b[43mfn\u001b[49m\u001b[43m(\u001b[49m\u001b[43minst\u001b[49m\u001b[43m,\u001b[49m\u001b[43m \u001b[49m\u001b[38;5;241;43m*\u001b[39;49m\u001b[43margs\u001b[49m\u001b[43m,\u001b[49m\u001b[43m \u001b[49m\u001b[38;5;241;43m*\u001b[39;49m\u001b[38;5;241;43m*\u001b[39;49m\u001b[43mkwargs\u001b[49m\u001b[43m)\u001b[49m\n",
      "File \u001b[0;32m/opt/anaconda3/envs/sp25_citibike/lib/python3.10/site-packages/hopsworks_common/client/base.py:186\u001b[0m, in \u001b[0;36mClient._send_request\u001b[0;34m(self, method, path_params, query_params, headers, data, stream, files, with_base_path_params)\u001b[0m\n\u001b[1;32m    181\u001b[0m     response \u001b[38;5;241m=\u001b[39m \u001b[38;5;28mself\u001b[39m\u001b[38;5;241m.\u001b[39m_retry_token_expired(\n\u001b[1;32m    182\u001b[0m         request, stream, \u001b[38;5;28mself\u001b[39m\u001b[38;5;241m.\u001b[39mTOKEN_EXPIRED_RETRY_INTERVAL, \u001b[38;5;241m1\u001b[39m\n\u001b[1;32m    183\u001b[0m     )\n\u001b[1;32m    185\u001b[0m \u001b[38;5;28;01mif\u001b[39;00m response\u001b[38;5;241m.\u001b[39mstatus_code \u001b[38;5;241m/\u001b[39m\u001b[38;5;241m/\u001b[39m \u001b[38;5;241m100\u001b[39m \u001b[38;5;241m!=\u001b[39m \u001b[38;5;241m2\u001b[39m:\n\u001b[0;32m--> 186\u001b[0m     \u001b[38;5;28;01mraise\u001b[39;00m exceptions\u001b[38;5;241m.\u001b[39mRestAPIError(url, response)\n\u001b[1;32m    188\u001b[0m \u001b[38;5;28;01mif\u001b[39;00m stream:\n\u001b[1;32m    189\u001b[0m     \u001b[38;5;28;01mreturn\u001b[39;00m response\n",
      "\u001b[0;31mRestAPIError\u001b[0m: Metadata operation error: (url: https://c.app.hopsworks.ai/hopsworks-api/api/project/1214683/featurestores/1202314/featureview). Server response: \nHTTP code: 400, HTTP reason: Bad Request, body: b'{\"errorCode\":270179,\"usrMsg\":\"Feature view: time_series_hourly_feature_view, version: 1\",\"errorMsg\":\"The provided feature view name and version already exists\"}', error code: 270179, error msg: The provided feature view name and version already exists, user msg: Feature view: time_series_hourly_feature_view, version: 1"
     ]
    }
   ],
   "source": [
    "# still in the same notebook / Python session\n",
    "fg = fs.get_feature_group(\"time_series_hourly_feature_group\", version=1)\n",
    "\n",
    "fv = fs.create_feature_view(\n",
    "    name        = c.FEATURE_VIEW_NAME,     # \"time_series_hourly_feature_view\"\n",
    "    version     = 1,                       # brand‑new v1\n",
    "    description = \"Hourly Citi Bike rides (3 top stations)\",\n",
    "    labels      = [\"rides\"],\n",
    "    query       = fg.select_all()\n",
    ")\n",
    "\n",
    "print(\"✅  Feature‑view ready:\", fv.name, \"v\", fv.version)\n"
   ]
  },
  {
   "cell_type": "code",
   "execution_count": 48,
   "id": "2fc358e9",
   "metadata": {},
   "outputs": [
    {
     "name": "stdout",
     "output_type": "stream",
     "text": [
      "🔍 trying hard‑delete of time_series_hourly_feature_view v1 …\n"
     ]
    },
    {
     "ename": "AttributeError",
     "evalue": "'FeatureViewApi' object has no attribute 'delete'",
     "output_type": "error",
     "traceback": [
      "\u001b[0;31m---------------------------------------------------------------------------\u001b[0m",
      "\u001b[0;31mAttributeError\u001b[0m                            Traceback (most recent call last)",
      "Cell \u001b[0;32mIn[48], line 15\u001b[0m\n\u001b[1;32m     13\u001b[0m \u001b[38;5;28;01mtry\u001b[39;00m:\n\u001b[1;32m     14\u001b[0m     \u001b[38;5;28mprint\u001b[39m(\u001b[38;5;124mf\u001b[39m\u001b[38;5;124m\"\u001b[39m\u001b[38;5;124m🔍 trying hard‑delete of \u001b[39m\u001b[38;5;132;01m{\u001b[39;00mVIEW_NAME\u001b[38;5;132;01m}\u001b[39;00m\u001b[38;5;124m v\u001b[39m\u001b[38;5;132;01m{\u001b[39;00mVIEW_VER\u001b[38;5;132;01m}\u001b[39;00m\u001b[38;5;124m …\u001b[39m\u001b[38;5;124m\"\u001b[39m)\n\u001b[0;32m---> 15\u001b[0m     \u001b[43m_fv_api\u001b[49m\u001b[38;5;241;43m.\u001b[39;49m\u001b[43mdelete\u001b[49m(name\u001b[38;5;241m=\u001b[39mVIEW_NAME, version\u001b[38;5;241m=\u001b[39mVIEW_VER, hard_delete\u001b[38;5;241m=\u001b[39m\u001b[38;5;28;01mTrue\u001b[39;00m)\n\u001b[1;32m     16\u001b[0m     \u001b[38;5;28mprint\u001b[39m(\u001b[38;5;124m\"\u001b[39m\u001b[38;5;124m✅ hard‑deleted\u001b[39m\u001b[38;5;124m\"\u001b[39m)\n\u001b[1;32m     17\u001b[0m \u001b[38;5;28;01mexcept\u001b[39;00m RestAPIError:\n",
      "\u001b[0;31mAttributeError\u001b[0m: 'FeatureViewApi' object has no attribute 'delete'"
     ]
    }
   ],
   "source": [
    "from hsfs.core.feature_view_api import FeatureViewApi\n",
    "from hopsworks.client.exceptions import RestAPIError\n",
    "\n",
    "VIEW_NAME = c.FEATURE_VIEW_NAME    # \"time_series_hourly_feature_view\"\n",
    "VIEW_VER  = 1\n",
    "\n",
    "# get the numeric id of the current feature‑store\n",
    "store_id = fs.id            # <‑─ this exists on the FeatureStore object\n",
    "# (in older hsfs versions it’s `fs._id`; use whichever is present)\n",
    "\n",
    "_fv_api = FeatureViewApi(store_id)\n",
    "\n",
    "try:\n",
    "    print(f\"🔍 trying hard‑delete of {VIEW_NAME} v{VIEW_VER} …\")\n",
    "    _fv_api.delete(name=VIEW_NAME, version=VIEW_VER, hard_delete=True)\n",
    "    print(\"✅ hard‑deleted\")\n",
    "except RestAPIError:\n",
    "    print(\"ℹ️  nothing to delete – continuing\")\n"
   ]
  },
  {
   "cell_type": "code",
   "execution_count": 49,
   "id": "4ef8cf1f",
   "metadata": {},
   "outputs": [
    {
     "name": "stdout",
     "output_type": "stream",
     "text": [
      "🗑️  cleaning time_series_hourly_feature_view v2 …\n"
     ]
    },
    {
     "ename": "AttributeError",
     "evalue": "'NoneType' object has no attribute 'clean'",
     "output_type": "error",
     "traceback": [
      "\u001b[0;31m---------------------------------------------------------------------------\u001b[0m",
      "\u001b[0;31mAttributeError\u001b[0m                            Traceback (most recent call last)",
      "Cell \u001b[0;32mIn[49], line 9\u001b[0m\n\u001b[1;32m      7\u001b[0m     fv \u001b[38;5;241m=\u001b[39m fs\u001b[38;5;241m.\u001b[39mget_feature_view(VIEW, version\u001b[38;5;241m=\u001b[39mv)\n\u001b[1;32m      8\u001b[0m     \u001b[38;5;28mprint\u001b[39m(\u001b[38;5;124mf\u001b[39m\u001b[38;5;124m\"\u001b[39m\u001b[38;5;124m🗑️  cleaning \u001b[39m\u001b[38;5;132;01m{\u001b[39;00mVIEW\u001b[38;5;132;01m}\u001b[39;00m\u001b[38;5;124m v\u001b[39m\u001b[38;5;132;01m{\u001b[39;00mv\u001b[38;5;132;01m}\u001b[39;00m\u001b[38;5;124m …\u001b[39m\u001b[38;5;124m\"\u001b[39m)\n\u001b[0;32m----> 9\u001b[0m     \u001b[43mfv\u001b[49m\u001b[38;5;241;43m.\u001b[39;49m\u001b[43mclean\u001b[49m(hard_delete\u001b[38;5;241m=\u001b[39m\u001b[38;5;28;01mTrue\u001b[39;00m)   \u001b[38;5;66;03m# <-- really drops metadata\u001b[39;00m\n\u001b[1;32m     10\u001b[0m \u001b[38;5;28;01mexcept\u001b[39;00m (\u001b[38;5;167;01mValueError\u001b[39;00m, RestAPIError):\n\u001b[1;32m     11\u001b[0m     \u001b[38;5;66;03m# either the view/version doesn’t exist, or the query is broken\u001b[39;00m\n\u001b[1;32m     12\u001b[0m     \u001b[38;5;28;01mcontinue\u001b[39;00m\n",
      "\u001b[0;31mAttributeError\u001b[0m: 'NoneType' object has no attribute 'clean'"
     ]
    }
   ],
   "source": [
    "from hsfs.client.exceptions import RestAPIError\n",
    "\n",
    "VIEW = c.FEATURE_VIEW_NAME          # \"time_series_hourly_feature_view\"\n",
    "\n",
    "for v in range(1, 11):               # try v1 … v10\n",
    "    try:\n",
    "        fv = fs.get_feature_view(VIEW, version=v)\n",
    "        print(f\"🗑️  cleaning {VIEW} v{v} …\")\n",
    "        fv.clean(hard_delete=True)   # <-- really drops metadata\n",
    "    except (ValueError, RestAPIError):\n",
    "        # either the view/version doesn’t exist, or the query is broken\n",
    "        continue\n"
   ]
  },
  {
   "cell_type": "code",
   "execution_count": 50,
   "id": "a85275c1",
   "metadata": {},
   "outputs": [
    {
     "name": "stdout",
     "output_type": "stream",
     "text": [
      "2025-05-03 16:02:11,889 INFO: Closing external client and cleaning up certificates.\n",
      "Connection closed.\n",
      "2025-05-03 16:02:11,892 INFO: Initializing external client\n",
      "2025-05-03 16:02:11,893 INFO: Base URL: https://c.app.hopsworks.ai:443\n",
      "2025-05-03 16:02:12,564 INFO: Python Engine initialized.\n",
      "\n",
      "Logged in to project, explore it here https://c.app.hopsworks.ai:443/p/1214683\n"
     ]
    },
    {
     "ename": "RestAPIError",
     "evalue": "Metadata operation error: (url: https://c.app.hopsworks.ai/hopsworks-api/api/project/1214683/featurestores/1202314/featureview). Server response: \nHTTP code: 500, HTTP reason: Internal Server Error, body: b'{\"errorCode\":120003,\"usrMsg\":\"Transaction marked for rollback.\",\"errorMsg\":\"The last transaction did not complete as expected\"}', error code: 120003, error msg: The last transaction did not complete as expected, user msg: Transaction marked for rollback.",
     "output_type": "error",
     "traceback": [
      "\u001b[0;31m---------------------------------------------------------------------------\u001b[0m",
      "\u001b[0;31mRestAPIError\u001b[0m                              Traceback (most recent call last)",
      "Cell \u001b[0;32mIn[50], line 13\u001b[0m\n\u001b[1;32m     10\u001b[0m \u001b[38;5;66;03m# ── point the view at the feature‑group we populated ────\u001b[39;00m\n\u001b[1;32m     11\u001b[0m fg \u001b[38;5;241m=\u001b[39m fs\u001b[38;5;241m.\u001b[39mget_feature_group(\u001b[38;5;124m\"\u001b[39m\u001b[38;5;124mtime_series_hourly_feature_group\u001b[39m\u001b[38;5;124m\"\u001b[39m, version\u001b[38;5;241m=\u001b[39m\u001b[38;5;241m1\u001b[39m)\n\u001b[0;32m---> 13\u001b[0m fv \u001b[38;5;241m=\u001b[39m \u001b[43mfs\u001b[49m\u001b[38;5;241;43m.\u001b[39;49m\u001b[43mcreate_feature_view\u001b[49m\u001b[43m(\u001b[49m\n\u001b[1;32m     14\u001b[0m \u001b[43m    \u001b[49m\u001b[43mname\u001b[49m\u001b[43m        \u001b[49m\u001b[38;5;241;43m=\u001b[39;49m\u001b[43m \u001b[49m\u001b[43mc\u001b[49m\u001b[38;5;241;43m.\u001b[39;49m\u001b[43mFEATURE_VIEW_NAME\u001b[49m\u001b[43m,\u001b[49m\u001b[43m       \u001b[49m\u001b[38;5;66;43;03m# \"time_series_hourly_feature_view\"\u001b[39;49;00m\n\u001b[1;32m     15\u001b[0m \u001b[43m    \u001b[49m\u001b[43mversion\u001b[49m\u001b[43m     \u001b[49m\u001b[38;5;241;43m=\u001b[39;49m\u001b[43m \u001b[49m\u001b[38;5;241;43m1\u001b[39;49m\u001b[43m,\u001b[49m\u001b[43m                         \u001b[49m\u001b[38;5;66;43;03m# new v1 (store is empty now)\u001b[39;49;00m\n\u001b[1;32m     16\u001b[0m \u001b[43m    \u001b[49m\u001b[43mdescription\u001b[49m\u001b[43m \u001b[49m\u001b[38;5;241;43m=\u001b[39;49m\u001b[43m \u001b[49m\u001b[38;5;124;43m\"\u001b[39;49m\u001b[38;5;124;43mHourly Citi Bike rides (3 top stations)\u001b[39;49m\u001b[38;5;124;43m\"\u001b[39;49m\u001b[43m,\u001b[49m\n\u001b[1;32m     17\u001b[0m \u001b[43m    \u001b[49m\u001b[43mlabels\u001b[49m\u001b[43m      \u001b[49m\u001b[38;5;241;43m=\u001b[39;49m\u001b[43m \u001b[49m\u001b[43m[\u001b[49m\u001b[38;5;124;43m\"\u001b[39;49m\u001b[38;5;124;43mrides\u001b[39;49m\u001b[38;5;124;43m\"\u001b[39;49m\u001b[43m]\u001b[49m\u001b[43m,\u001b[49m\n\u001b[1;32m     18\u001b[0m \u001b[43m    \u001b[49m\u001b[43mquery\u001b[49m\u001b[43m       \u001b[49m\u001b[38;5;241;43m=\u001b[39;49m\u001b[43m \u001b[49m\u001b[43mfg\u001b[49m\u001b[38;5;241;43m.\u001b[39;49m\u001b[43mselect_all\u001b[49m\u001b[43m(\u001b[49m\u001b[43m)\u001b[49m\n\u001b[1;32m     19\u001b[0m \u001b[43m)\u001b[49m\n\u001b[1;32m     21\u001b[0m \u001b[38;5;28mprint\u001b[39m(\u001b[38;5;124m\"\u001b[39m\u001b[38;5;124m✅ feature‑view created:\u001b[39m\u001b[38;5;124m\"\u001b[39m, fv\u001b[38;5;241m.\u001b[39mname, \u001b[38;5;124m\"\u001b[39m\u001b[38;5;124mv\u001b[39m\u001b[38;5;124m\"\u001b[39m, fv\u001b[38;5;241m.\u001b[39mversion)\n",
      "File \u001b[0;32m/opt/anaconda3/envs/sp25_citibike/lib/python3.10/site-packages/hopsworks_common/usage.py:246\u001b[0m, in \u001b[0;36mmethod_logger.<locals>.wrapper\u001b[0;34m(*args, **kwargs)\u001b[0m\n\u001b[1;32m    244\u001b[0m \u001b[38;5;28;01mexcept\u001b[39;00m \u001b[38;5;167;01mException\u001b[39;00m \u001b[38;5;28;01mas\u001b[39;00m e:\n\u001b[1;32m    245\u001b[0m     exception \u001b[38;5;241m=\u001b[39m e\n\u001b[0;32m--> 246\u001b[0m     \u001b[38;5;28;01mraise\u001b[39;00m e\n\u001b[1;32m    247\u001b[0m \u001b[38;5;28;01mfinally\u001b[39;00m:\n\u001b[1;32m    248\u001b[0m     \u001b[38;5;28;01mtry\u001b[39;00m:\n",
      "File \u001b[0;32m/opt/anaconda3/envs/sp25_citibike/lib/python3.10/site-packages/hopsworks_common/usage.py:242\u001b[0m, in \u001b[0;36mmethod_logger.<locals>.wrapper\u001b[0;34m(*args, **kwargs)\u001b[0m\n\u001b[1;32m    239\u001b[0m exception \u001b[38;5;241m=\u001b[39m \u001b[38;5;28;01mNone\u001b[39;00m\n\u001b[1;32m    240\u001b[0m \u001b[38;5;28;01mtry\u001b[39;00m:\n\u001b[1;32m    241\u001b[0m     \u001b[38;5;66;03m# Call the original method\u001b[39;00m\n\u001b[0;32m--> 242\u001b[0m     result \u001b[38;5;241m=\u001b[39m \u001b[43mfunc\u001b[49m\u001b[43m(\u001b[49m\u001b[38;5;241;43m*\u001b[39;49m\u001b[43margs\u001b[49m\u001b[43m,\u001b[49m\u001b[43m \u001b[49m\u001b[38;5;241;43m*\u001b[39;49m\u001b[38;5;241;43m*\u001b[39;49m\u001b[43mkwargs\u001b[49m\u001b[43m)\u001b[49m\n\u001b[1;32m    243\u001b[0m     \u001b[38;5;28;01mreturn\u001b[39;00m result\n\u001b[1;32m    244\u001b[0m \u001b[38;5;28;01mexcept\u001b[39;00m \u001b[38;5;167;01mException\u001b[39;00m \u001b[38;5;28;01mas\u001b[39;00m e:\n",
      "File \u001b[0;32m/opt/anaconda3/envs/sp25_citibike/lib/python3.10/site-packages/hsfs/feature_store.py:1665\u001b[0m, in \u001b[0;36mFeatureStore.create_feature_view\u001b[0;34m(self, name, query, version, description, labels, inference_helper_columns, training_helper_columns, transformation_functions, logging_enabled)\u001b[0m\n\u001b[1;32m   1561\u001b[0m \u001b[38;5;250m\u001b[39m\u001b[38;5;124;03m\"\"\"Create a feature view metadata object and saved it to hopsworks.\u001b[39;00m\n\u001b[1;32m   1562\u001b[0m \n\u001b[1;32m   1563\u001b[0m \u001b[38;5;124;03m!!! example\u001b[39;00m\n\u001b[0;32m   (...)\u001b[0m\n\u001b[1;32m   1650\u001b[0m \u001b[38;5;124;03m    `FeatureView`: The feature view metadata object.\u001b[39;00m\n\u001b[1;32m   1651\u001b[0m \u001b[38;5;124;03m\"\"\"\u001b[39;00m\n\u001b[1;32m   1652\u001b[0m feat_view \u001b[38;5;241m=\u001b[39m feature_view\u001b[38;5;241m.\u001b[39mFeatureView(\n\u001b[1;32m   1653\u001b[0m     name\u001b[38;5;241m=\u001b[39mname,\n\u001b[1;32m   1654\u001b[0m     query\u001b[38;5;241m=\u001b[39mquery,\n\u001b[0;32m   (...)\u001b[0m\n\u001b[1;32m   1663\u001b[0m     logging_enabled\u001b[38;5;241m=\u001b[39mlogging_enabled,\n\u001b[1;32m   1664\u001b[0m )\n\u001b[0;32m-> 1665\u001b[0m \u001b[38;5;28;01mreturn\u001b[39;00m \u001b[38;5;28;43mself\u001b[39;49m\u001b[38;5;241;43m.\u001b[39;49m\u001b[43m_feature_view_engine\u001b[49m\u001b[38;5;241;43m.\u001b[39;49m\u001b[43msave\u001b[49m\u001b[43m(\u001b[49m\u001b[43mfeat_view\u001b[49m\u001b[43m)\u001b[49m\n",
      "File \u001b[0;32m/opt/anaconda3/envs/sp25_citibike/lib/python3.10/site-packages/hsfs/core/feature_view_engine.py:144\u001b[0m, in \u001b[0;36mFeatureViewEngine.save\u001b[0;34m(self, feature_view_obj)\u001b[0m\n\u001b[1;32m    131\u001b[0m         (\n\u001b[1;32m    132\u001b[0m             feature,\n\u001b[1;32m    133\u001b[0m             prefix,\n\u001b[1;32m    134\u001b[0m             featuregroup,\n\u001b[1;32m    135\u001b[0m         ) \u001b[38;5;241m=\u001b[39m feature_view_obj\u001b[38;5;241m.\u001b[39mquery\u001b[38;5;241m.\u001b[39m_get_feature_by_name(helper_column_name)\n\u001b[1;32m    136\u001b[0m         feature_view_obj\u001b[38;5;241m.\u001b[39m_features\u001b[38;5;241m.\u001b[39mappend(\n\u001b[1;32m    137\u001b[0m             training_dataset_feature\u001b[38;5;241m.\u001b[39mTrainingDatasetFeature(\n\u001b[1;32m    138\u001b[0m                 name\u001b[38;5;241m=\u001b[39mfeature\u001b[38;5;241m.\u001b[39mname,\n\u001b[0;32m   (...)\u001b[0m\n\u001b[1;32m    141\u001b[0m             )\n\u001b[1;32m    142\u001b[0m         )\n\u001b[0;32m--> 144\u001b[0m updated_fv \u001b[38;5;241m=\u001b[39m \u001b[38;5;28;43mself\u001b[39;49m\u001b[38;5;241;43m.\u001b[39;49m\u001b[43m_feature_view_api\u001b[49m\u001b[38;5;241;43m.\u001b[39;49m\u001b[43mpost\u001b[49m\u001b[43m(\u001b[49m\u001b[43mfeature_view_obj\u001b[49m\u001b[43m)\u001b[49m\n\u001b[1;32m    145\u001b[0m \u001b[38;5;28mprint\u001b[39m(\n\u001b[1;32m    146\u001b[0m     \u001b[38;5;124m\"\u001b[39m\u001b[38;5;124mFeature view created successfully, explore it at \u001b[39m\u001b[38;5;130;01m\\n\u001b[39;00m\u001b[38;5;124m\"\u001b[39m\n\u001b[1;32m    147\u001b[0m     \u001b[38;5;241m+\u001b[39m \u001b[38;5;28mself\u001b[39m\u001b[38;5;241m.\u001b[39m_get_feature_view_url(updated_fv)\n\u001b[1;32m    148\u001b[0m )\n\u001b[1;32m    149\u001b[0m \u001b[38;5;28;01mreturn\u001b[39;00m updated_fv\n",
      "File \u001b[0;32m/opt/anaconda3/envs/sp25_citibike/lib/python3.10/site-packages/hsfs/core/feature_view_api.py:73\u001b[0m, in \u001b[0;36mFeatureViewApi.post\u001b[0;34m(self, feature_view_obj)\u001b[0m\n\u001b[1;32m     68\u001b[0m \u001b[38;5;28;01mdef\u001b[39;00m\u001b[38;5;250m \u001b[39m\u001b[38;5;21mpost\u001b[39m(\n\u001b[1;32m     69\u001b[0m     \u001b[38;5;28mself\u001b[39m, feature_view_obj: feature_view\u001b[38;5;241m.\u001b[39mFeatureView\n\u001b[1;32m     70\u001b[0m ) \u001b[38;5;241m-\u001b[39m\u001b[38;5;241m>\u001b[39m feature_view\u001b[38;5;241m.\u001b[39mFeatureView:\n\u001b[1;32m     71\u001b[0m     headers \u001b[38;5;241m=\u001b[39m {\u001b[38;5;124m\"\u001b[39m\u001b[38;5;124mcontent-type\u001b[39m\u001b[38;5;124m\"\u001b[39m: \u001b[38;5;124m\"\u001b[39m\u001b[38;5;124mapplication/json\u001b[39m\u001b[38;5;124m\"\u001b[39m}\n\u001b[1;32m     72\u001b[0m     \u001b[38;5;28;01mreturn\u001b[39;00m feature_view_obj\u001b[38;5;241m.\u001b[39mupdate_from_response_json(\n\u001b[0;32m---> 73\u001b[0m         \u001b[38;5;28;43mself\u001b[39;49m\u001b[38;5;241;43m.\u001b[39;49m\u001b[43m_client\u001b[49m\u001b[38;5;241;43m.\u001b[39;49m\u001b[43m_send_request\u001b[49m\u001b[43m(\u001b[49m\n\u001b[1;32m     74\u001b[0m \u001b[43m            \u001b[49m\u001b[38;5;28;43mself\u001b[39;49m\u001b[38;5;241;43m.\u001b[39;49m\u001b[43m_POST\u001b[49m\u001b[43m,\u001b[49m\n\u001b[1;32m     75\u001b[0m \u001b[43m            \u001b[49m\u001b[38;5;28;43mself\u001b[39;49m\u001b[38;5;241;43m.\u001b[39;49m\u001b[43m_base_path\u001b[49m\u001b[43m,\u001b[49m\n\u001b[1;32m     76\u001b[0m \u001b[43m            \u001b[49m\u001b[43mheaders\u001b[49m\u001b[38;5;241;43m=\u001b[39;49m\u001b[43mheaders\u001b[49m\u001b[43m,\u001b[49m\n\u001b[1;32m     77\u001b[0m \u001b[43m            \u001b[49m\u001b[43mdata\u001b[49m\u001b[38;5;241;43m=\u001b[39;49m\u001b[43mfeature_view_obj\u001b[49m\u001b[38;5;241;43m.\u001b[39;49m\u001b[43mjson\u001b[49m\u001b[43m(\u001b[49m\u001b[43m)\u001b[49m\u001b[43m,\u001b[49m\n\u001b[1;32m     78\u001b[0m \u001b[43m        \u001b[49m\u001b[43m)\u001b[49m\n\u001b[1;32m     79\u001b[0m     )\n",
      "File \u001b[0;32m/opt/anaconda3/envs/sp25_citibike/lib/python3.10/site-packages/hopsworks_common/decorators.py:48\u001b[0m, in \u001b[0;36mconnected.<locals>.if_connected\u001b[0;34m(inst, *args, **kwargs)\u001b[0m\n\u001b[1;32m     46\u001b[0m \u001b[38;5;28;01mif\u001b[39;00m \u001b[38;5;129;01mnot\u001b[39;00m inst\u001b[38;5;241m.\u001b[39m_connected:\n\u001b[1;32m     47\u001b[0m     \u001b[38;5;28;01mraise\u001b[39;00m NoHopsworksConnectionError\n\u001b[0;32m---> 48\u001b[0m \u001b[38;5;28;01mreturn\u001b[39;00m \u001b[43mfn\u001b[49m\u001b[43m(\u001b[49m\u001b[43minst\u001b[49m\u001b[43m,\u001b[49m\u001b[43m \u001b[49m\u001b[38;5;241;43m*\u001b[39;49m\u001b[43margs\u001b[49m\u001b[43m,\u001b[49m\u001b[43m \u001b[49m\u001b[38;5;241;43m*\u001b[39;49m\u001b[38;5;241;43m*\u001b[39;49m\u001b[43mkwargs\u001b[49m\u001b[43m)\u001b[49m\n",
      "File \u001b[0;32m/opt/anaconda3/envs/sp25_citibike/lib/python3.10/site-packages/hopsworks_common/client/base.py:186\u001b[0m, in \u001b[0;36mClient._send_request\u001b[0;34m(self, method, path_params, query_params, headers, data, stream, files, with_base_path_params)\u001b[0m\n\u001b[1;32m    181\u001b[0m     response \u001b[38;5;241m=\u001b[39m \u001b[38;5;28mself\u001b[39m\u001b[38;5;241m.\u001b[39m_retry_token_expired(\n\u001b[1;32m    182\u001b[0m         request, stream, \u001b[38;5;28mself\u001b[39m\u001b[38;5;241m.\u001b[39mTOKEN_EXPIRED_RETRY_INTERVAL, \u001b[38;5;241m1\u001b[39m\n\u001b[1;32m    183\u001b[0m     )\n\u001b[1;32m    185\u001b[0m \u001b[38;5;28;01mif\u001b[39;00m response\u001b[38;5;241m.\u001b[39mstatus_code \u001b[38;5;241m/\u001b[39m\u001b[38;5;241m/\u001b[39m \u001b[38;5;241m100\u001b[39m \u001b[38;5;241m!=\u001b[39m \u001b[38;5;241m2\u001b[39m:\n\u001b[0;32m--> 186\u001b[0m     \u001b[38;5;28;01mraise\u001b[39;00m exceptions\u001b[38;5;241m.\u001b[39mRestAPIError(url, response)\n\u001b[1;32m    188\u001b[0m \u001b[38;5;28;01mif\u001b[39;00m stream:\n\u001b[1;32m    189\u001b[0m     \u001b[38;5;28;01mreturn\u001b[39;00m response\n",
      "\u001b[0;31mRestAPIError\u001b[0m: Metadata operation error: (url: https://c.app.hopsworks.ai/hopsworks-api/api/project/1214683/featurestores/1202314/featureview). Server response: \nHTTP code: 500, HTTP reason: Internal Server Error, body: b'{\"errorCode\":120003,\"usrMsg\":\"Transaction marked for rollback.\",\"errorMsg\":\"The last transaction did not complete as expected\"}', error code: 120003, error msg: The last transaction did not complete as expected, user msg: Transaction marked for rollback."
     ]
    }
   ],
   "source": [
    "import hopsworks, src.config as c\n",
    "\n",
    "# ── connect ─────────────────────────────────────────────\n",
    "project = hopsworks.login(\n",
    "    project       = c.HOPSWORKS_PROJECT_NAME,\n",
    "    api_key_value = c.HOPSWORKS_API_KEY,\n",
    ")\n",
    "fs = project.get_feature_store()\n",
    "\n",
    "# ── point the view at the feature‑group we populated ────\n",
    "fg = fs.get_feature_group(\"time_series_hourly_feature_group\", version=1)\n",
    "\n",
    "fv = fs.create_feature_view(\n",
    "    name        = c.FEATURE_VIEW_NAME,       # \"time_series_hourly_feature_view\"\n",
    "    version     = 1,                         # new v1 (store is empty now)\n",
    "    description = \"Hourly Citi Bike rides (3 top stations)\",\n",
    "    labels      = [\"rides\"],\n",
    "    query       = fg.select_all()\n",
    ")\n",
    "\n",
    "print(\"✅ feature‑view created:\", fv.name, \"v\", fv.version)\n"
   ]
  },
  {
   "cell_type": "code",
   "execution_count": 51,
   "id": "dc121011",
   "metadata": {},
   "outputs": [
    {
     "ename": "RestAPIError",
     "evalue": "Metadata operation error: (url: https://c.app.hopsworks.ai/hopsworks-api/api/project/1214683/featurestores/1202314/featureview). Server response: \nHTTP code: 500, HTTP reason: Internal Server Error, body: b'{\"errorCode\":120003,\"usrMsg\":\"Transaction marked for rollback.\",\"errorMsg\":\"The last transaction did not complete as expected\"}', error code: 120003, error msg: The last transaction did not complete as expected, user msg: Transaction marked for rollback.",
     "output_type": "error",
     "traceback": [
      "\u001b[0;31m---------------------------------------------------------------------------\u001b[0m",
      "\u001b[0;31mRestAPIError\u001b[0m                              Traceback (most recent call last)",
      "Cell \u001b[0;32mIn[51], line 4\u001b[0m\n\u001b[1;32m      1\u001b[0m NEW_VIEW_NAME \u001b[38;5;241m=\u001b[39m \u001b[38;5;124m\"\u001b[39m\u001b[38;5;124mcitibike_hourly_feature_view\u001b[39m\u001b[38;5;124m\"\u001b[39m   \u001b[38;5;66;03m# <‑ any unused name\u001b[39;00m\n\u001b[1;32m      2\u001b[0m fg \u001b[38;5;241m=\u001b[39m fs\u001b[38;5;241m.\u001b[39mget_feature_group(\u001b[38;5;124m\"\u001b[39m\u001b[38;5;124mtime_series_hourly_feature_group\u001b[39m\u001b[38;5;124m\"\u001b[39m, version\u001b[38;5;241m=\u001b[39m\u001b[38;5;241m1\u001b[39m)\n\u001b[0;32m----> 4\u001b[0m fv \u001b[38;5;241m=\u001b[39m \u001b[43mfs\u001b[49m\u001b[38;5;241;43m.\u001b[39;49m\u001b[43mcreate_feature_view\u001b[49m\u001b[43m(\u001b[49m\n\u001b[1;32m      5\u001b[0m \u001b[43m    \u001b[49m\u001b[43mname\u001b[49m\u001b[43m        \u001b[49m\u001b[38;5;241;43m=\u001b[39;49m\u001b[43m \u001b[49m\u001b[43mNEW_VIEW_NAME\u001b[49m\u001b[43m,\u001b[49m\n\u001b[1;32m      6\u001b[0m \u001b[43m    \u001b[49m\u001b[43mversion\u001b[49m\u001b[43m     \u001b[49m\u001b[38;5;241;43m=\u001b[39;49m\u001b[43m \u001b[49m\u001b[38;5;241;43m1\u001b[39;49m\u001b[43m,\u001b[49m\n\u001b[1;32m      7\u001b[0m \u001b[43m    \u001b[49m\u001b[43mdescription\u001b[49m\u001b[43m \u001b[49m\u001b[38;5;241;43m=\u001b[39;49m\u001b[43m \u001b[49m\u001b[38;5;124;43m\"\u001b[39;49m\u001b[38;5;124;43mHourly Citi Bike rides (3 top stations)\u001b[39;49m\u001b[38;5;124;43m\"\u001b[39;49m\u001b[43m,\u001b[49m\n\u001b[1;32m      8\u001b[0m \u001b[43m    \u001b[49m\u001b[43mlabels\u001b[49m\u001b[43m      \u001b[49m\u001b[38;5;241;43m=\u001b[39;49m\u001b[43m \u001b[49m\u001b[43m[\u001b[49m\u001b[38;5;124;43m\"\u001b[39;49m\u001b[38;5;124;43mrides\u001b[39;49m\u001b[38;5;124;43m\"\u001b[39;49m\u001b[43m]\u001b[49m\u001b[43m,\u001b[49m\n\u001b[1;32m      9\u001b[0m \u001b[43m    \u001b[49m\u001b[43mquery\u001b[49m\u001b[43m       \u001b[49m\u001b[38;5;241;43m=\u001b[39;49m\u001b[43m \u001b[49m\u001b[43mfg\u001b[49m\u001b[38;5;241;43m.\u001b[39;49m\u001b[43mselect_all\u001b[49m\u001b[43m(\u001b[49m\u001b[43m)\u001b[49m\n\u001b[1;32m     10\u001b[0m \u001b[43m)\u001b[49m\n\u001b[1;32m     12\u001b[0m \u001b[38;5;28mprint\u001b[39m(\u001b[38;5;124m\"\u001b[39m\u001b[38;5;124m✅ feature‑view created:\u001b[39m\u001b[38;5;124m\"\u001b[39m, fv\u001b[38;5;241m.\u001b[39mname, \u001b[38;5;124m\"\u001b[39m\u001b[38;5;124mv\u001b[39m\u001b[38;5;124m\"\u001b[39m, fv\u001b[38;5;241m.\u001b[39mversion)\n",
      "File \u001b[0;32m/opt/anaconda3/envs/sp25_citibike/lib/python3.10/site-packages/hopsworks_common/usage.py:246\u001b[0m, in \u001b[0;36mmethod_logger.<locals>.wrapper\u001b[0;34m(*args, **kwargs)\u001b[0m\n\u001b[1;32m    244\u001b[0m \u001b[38;5;28;01mexcept\u001b[39;00m \u001b[38;5;167;01mException\u001b[39;00m \u001b[38;5;28;01mas\u001b[39;00m e:\n\u001b[1;32m    245\u001b[0m     exception \u001b[38;5;241m=\u001b[39m e\n\u001b[0;32m--> 246\u001b[0m     \u001b[38;5;28;01mraise\u001b[39;00m e\n\u001b[1;32m    247\u001b[0m \u001b[38;5;28;01mfinally\u001b[39;00m:\n\u001b[1;32m    248\u001b[0m     \u001b[38;5;28;01mtry\u001b[39;00m:\n",
      "File \u001b[0;32m/opt/anaconda3/envs/sp25_citibike/lib/python3.10/site-packages/hopsworks_common/usage.py:242\u001b[0m, in \u001b[0;36mmethod_logger.<locals>.wrapper\u001b[0;34m(*args, **kwargs)\u001b[0m\n\u001b[1;32m    239\u001b[0m exception \u001b[38;5;241m=\u001b[39m \u001b[38;5;28;01mNone\u001b[39;00m\n\u001b[1;32m    240\u001b[0m \u001b[38;5;28;01mtry\u001b[39;00m:\n\u001b[1;32m    241\u001b[0m     \u001b[38;5;66;03m# Call the original method\u001b[39;00m\n\u001b[0;32m--> 242\u001b[0m     result \u001b[38;5;241m=\u001b[39m \u001b[43mfunc\u001b[49m\u001b[43m(\u001b[49m\u001b[38;5;241;43m*\u001b[39;49m\u001b[43margs\u001b[49m\u001b[43m,\u001b[49m\u001b[43m \u001b[49m\u001b[38;5;241;43m*\u001b[39;49m\u001b[38;5;241;43m*\u001b[39;49m\u001b[43mkwargs\u001b[49m\u001b[43m)\u001b[49m\n\u001b[1;32m    243\u001b[0m     \u001b[38;5;28;01mreturn\u001b[39;00m result\n\u001b[1;32m    244\u001b[0m \u001b[38;5;28;01mexcept\u001b[39;00m \u001b[38;5;167;01mException\u001b[39;00m \u001b[38;5;28;01mas\u001b[39;00m e:\n",
      "File \u001b[0;32m/opt/anaconda3/envs/sp25_citibike/lib/python3.10/site-packages/hsfs/feature_store.py:1665\u001b[0m, in \u001b[0;36mFeatureStore.create_feature_view\u001b[0;34m(self, name, query, version, description, labels, inference_helper_columns, training_helper_columns, transformation_functions, logging_enabled)\u001b[0m\n\u001b[1;32m   1561\u001b[0m \u001b[38;5;250m\u001b[39m\u001b[38;5;124;03m\"\"\"Create a feature view metadata object and saved it to hopsworks.\u001b[39;00m\n\u001b[1;32m   1562\u001b[0m \n\u001b[1;32m   1563\u001b[0m \u001b[38;5;124;03m!!! example\u001b[39;00m\n\u001b[0;32m   (...)\u001b[0m\n\u001b[1;32m   1650\u001b[0m \u001b[38;5;124;03m    `FeatureView`: The feature view metadata object.\u001b[39;00m\n\u001b[1;32m   1651\u001b[0m \u001b[38;5;124;03m\"\"\"\u001b[39;00m\n\u001b[1;32m   1652\u001b[0m feat_view \u001b[38;5;241m=\u001b[39m feature_view\u001b[38;5;241m.\u001b[39mFeatureView(\n\u001b[1;32m   1653\u001b[0m     name\u001b[38;5;241m=\u001b[39mname,\n\u001b[1;32m   1654\u001b[0m     query\u001b[38;5;241m=\u001b[39mquery,\n\u001b[0;32m   (...)\u001b[0m\n\u001b[1;32m   1663\u001b[0m     logging_enabled\u001b[38;5;241m=\u001b[39mlogging_enabled,\n\u001b[1;32m   1664\u001b[0m )\n\u001b[0;32m-> 1665\u001b[0m \u001b[38;5;28;01mreturn\u001b[39;00m \u001b[38;5;28;43mself\u001b[39;49m\u001b[38;5;241;43m.\u001b[39;49m\u001b[43m_feature_view_engine\u001b[49m\u001b[38;5;241;43m.\u001b[39;49m\u001b[43msave\u001b[49m\u001b[43m(\u001b[49m\u001b[43mfeat_view\u001b[49m\u001b[43m)\u001b[49m\n",
      "File \u001b[0;32m/opt/anaconda3/envs/sp25_citibike/lib/python3.10/site-packages/hsfs/core/feature_view_engine.py:144\u001b[0m, in \u001b[0;36mFeatureViewEngine.save\u001b[0;34m(self, feature_view_obj)\u001b[0m\n\u001b[1;32m    131\u001b[0m         (\n\u001b[1;32m    132\u001b[0m             feature,\n\u001b[1;32m    133\u001b[0m             prefix,\n\u001b[1;32m    134\u001b[0m             featuregroup,\n\u001b[1;32m    135\u001b[0m         ) \u001b[38;5;241m=\u001b[39m feature_view_obj\u001b[38;5;241m.\u001b[39mquery\u001b[38;5;241m.\u001b[39m_get_feature_by_name(helper_column_name)\n\u001b[1;32m    136\u001b[0m         feature_view_obj\u001b[38;5;241m.\u001b[39m_features\u001b[38;5;241m.\u001b[39mappend(\n\u001b[1;32m    137\u001b[0m             training_dataset_feature\u001b[38;5;241m.\u001b[39mTrainingDatasetFeature(\n\u001b[1;32m    138\u001b[0m                 name\u001b[38;5;241m=\u001b[39mfeature\u001b[38;5;241m.\u001b[39mname,\n\u001b[0;32m   (...)\u001b[0m\n\u001b[1;32m    141\u001b[0m             )\n\u001b[1;32m    142\u001b[0m         )\n\u001b[0;32m--> 144\u001b[0m updated_fv \u001b[38;5;241m=\u001b[39m \u001b[38;5;28;43mself\u001b[39;49m\u001b[38;5;241;43m.\u001b[39;49m\u001b[43m_feature_view_api\u001b[49m\u001b[38;5;241;43m.\u001b[39;49m\u001b[43mpost\u001b[49m\u001b[43m(\u001b[49m\u001b[43mfeature_view_obj\u001b[49m\u001b[43m)\u001b[49m\n\u001b[1;32m    145\u001b[0m \u001b[38;5;28mprint\u001b[39m(\n\u001b[1;32m    146\u001b[0m     \u001b[38;5;124m\"\u001b[39m\u001b[38;5;124mFeature view created successfully, explore it at \u001b[39m\u001b[38;5;130;01m\\n\u001b[39;00m\u001b[38;5;124m\"\u001b[39m\n\u001b[1;32m    147\u001b[0m     \u001b[38;5;241m+\u001b[39m \u001b[38;5;28mself\u001b[39m\u001b[38;5;241m.\u001b[39m_get_feature_view_url(updated_fv)\n\u001b[1;32m    148\u001b[0m )\n\u001b[1;32m    149\u001b[0m \u001b[38;5;28;01mreturn\u001b[39;00m updated_fv\n",
      "File \u001b[0;32m/opt/anaconda3/envs/sp25_citibike/lib/python3.10/site-packages/hsfs/core/feature_view_api.py:73\u001b[0m, in \u001b[0;36mFeatureViewApi.post\u001b[0;34m(self, feature_view_obj)\u001b[0m\n\u001b[1;32m     68\u001b[0m \u001b[38;5;28;01mdef\u001b[39;00m\u001b[38;5;250m \u001b[39m\u001b[38;5;21mpost\u001b[39m(\n\u001b[1;32m     69\u001b[0m     \u001b[38;5;28mself\u001b[39m, feature_view_obj: feature_view\u001b[38;5;241m.\u001b[39mFeatureView\n\u001b[1;32m     70\u001b[0m ) \u001b[38;5;241m-\u001b[39m\u001b[38;5;241m>\u001b[39m feature_view\u001b[38;5;241m.\u001b[39mFeatureView:\n\u001b[1;32m     71\u001b[0m     headers \u001b[38;5;241m=\u001b[39m {\u001b[38;5;124m\"\u001b[39m\u001b[38;5;124mcontent-type\u001b[39m\u001b[38;5;124m\"\u001b[39m: \u001b[38;5;124m\"\u001b[39m\u001b[38;5;124mapplication/json\u001b[39m\u001b[38;5;124m\"\u001b[39m}\n\u001b[1;32m     72\u001b[0m     \u001b[38;5;28;01mreturn\u001b[39;00m feature_view_obj\u001b[38;5;241m.\u001b[39mupdate_from_response_json(\n\u001b[0;32m---> 73\u001b[0m         \u001b[38;5;28;43mself\u001b[39;49m\u001b[38;5;241;43m.\u001b[39;49m\u001b[43m_client\u001b[49m\u001b[38;5;241;43m.\u001b[39;49m\u001b[43m_send_request\u001b[49m\u001b[43m(\u001b[49m\n\u001b[1;32m     74\u001b[0m \u001b[43m            \u001b[49m\u001b[38;5;28;43mself\u001b[39;49m\u001b[38;5;241;43m.\u001b[39;49m\u001b[43m_POST\u001b[49m\u001b[43m,\u001b[49m\n\u001b[1;32m     75\u001b[0m \u001b[43m            \u001b[49m\u001b[38;5;28;43mself\u001b[39;49m\u001b[38;5;241;43m.\u001b[39;49m\u001b[43m_base_path\u001b[49m\u001b[43m,\u001b[49m\n\u001b[1;32m     76\u001b[0m \u001b[43m            \u001b[49m\u001b[43mheaders\u001b[49m\u001b[38;5;241;43m=\u001b[39;49m\u001b[43mheaders\u001b[49m\u001b[43m,\u001b[49m\n\u001b[1;32m     77\u001b[0m \u001b[43m            \u001b[49m\u001b[43mdata\u001b[49m\u001b[38;5;241;43m=\u001b[39;49m\u001b[43mfeature_view_obj\u001b[49m\u001b[38;5;241;43m.\u001b[39;49m\u001b[43mjson\u001b[49m\u001b[43m(\u001b[49m\u001b[43m)\u001b[49m\u001b[43m,\u001b[49m\n\u001b[1;32m     78\u001b[0m \u001b[43m        \u001b[49m\u001b[43m)\u001b[49m\n\u001b[1;32m     79\u001b[0m     )\n",
      "File \u001b[0;32m/opt/anaconda3/envs/sp25_citibike/lib/python3.10/site-packages/hopsworks_common/decorators.py:48\u001b[0m, in \u001b[0;36mconnected.<locals>.if_connected\u001b[0;34m(inst, *args, **kwargs)\u001b[0m\n\u001b[1;32m     46\u001b[0m \u001b[38;5;28;01mif\u001b[39;00m \u001b[38;5;129;01mnot\u001b[39;00m inst\u001b[38;5;241m.\u001b[39m_connected:\n\u001b[1;32m     47\u001b[0m     \u001b[38;5;28;01mraise\u001b[39;00m NoHopsworksConnectionError\n\u001b[0;32m---> 48\u001b[0m \u001b[38;5;28;01mreturn\u001b[39;00m \u001b[43mfn\u001b[49m\u001b[43m(\u001b[49m\u001b[43minst\u001b[49m\u001b[43m,\u001b[49m\u001b[43m \u001b[49m\u001b[38;5;241;43m*\u001b[39;49m\u001b[43margs\u001b[49m\u001b[43m,\u001b[49m\u001b[43m \u001b[49m\u001b[38;5;241;43m*\u001b[39;49m\u001b[38;5;241;43m*\u001b[39;49m\u001b[43mkwargs\u001b[49m\u001b[43m)\u001b[49m\n",
      "File \u001b[0;32m/opt/anaconda3/envs/sp25_citibike/lib/python3.10/site-packages/hopsworks_common/client/base.py:186\u001b[0m, in \u001b[0;36mClient._send_request\u001b[0;34m(self, method, path_params, query_params, headers, data, stream, files, with_base_path_params)\u001b[0m\n\u001b[1;32m    181\u001b[0m     response \u001b[38;5;241m=\u001b[39m \u001b[38;5;28mself\u001b[39m\u001b[38;5;241m.\u001b[39m_retry_token_expired(\n\u001b[1;32m    182\u001b[0m         request, stream, \u001b[38;5;28mself\u001b[39m\u001b[38;5;241m.\u001b[39mTOKEN_EXPIRED_RETRY_INTERVAL, \u001b[38;5;241m1\u001b[39m\n\u001b[1;32m    183\u001b[0m     )\n\u001b[1;32m    185\u001b[0m \u001b[38;5;28;01mif\u001b[39;00m response\u001b[38;5;241m.\u001b[39mstatus_code \u001b[38;5;241m/\u001b[39m\u001b[38;5;241m/\u001b[39m \u001b[38;5;241m100\u001b[39m \u001b[38;5;241m!=\u001b[39m \u001b[38;5;241m2\u001b[39m:\n\u001b[0;32m--> 186\u001b[0m     \u001b[38;5;28;01mraise\u001b[39;00m exceptions\u001b[38;5;241m.\u001b[39mRestAPIError(url, response)\n\u001b[1;32m    188\u001b[0m \u001b[38;5;28;01mif\u001b[39;00m stream:\n\u001b[1;32m    189\u001b[0m     \u001b[38;5;28;01mreturn\u001b[39;00m response\n",
      "\u001b[0;31mRestAPIError\u001b[0m: Metadata operation error: (url: https://c.app.hopsworks.ai/hopsworks-api/api/project/1214683/featurestores/1202314/featureview). Server response: \nHTTP code: 500, HTTP reason: Internal Server Error, body: b'{\"errorCode\":120003,\"usrMsg\":\"Transaction marked for rollback.\",\"errorMsg\":\"The last transaction did not complete as expected\"}', error code: 120003, error msg: The last transaction did not complete as expected, user msg: Transaction marked for rollback."
     ]
    }
   ],
   "source": [
    "NEW_VIEW_NAME = \"citibike_hourly_feature_view\"   # <‑ any unused name\n",
    "fg = fs.get_feature_group(\"time_series_hourly_feature_group\", version=1)\n",
    "\n",
    "fv = fs.create_feature_view(\n",
    "    name        = NEW_VIEW_NAME,\n",
    "    version     = 1,\n",
    "    description = \"Hourly Citi Bike rides (3 top stations)\",\n",
    "    labels      = [\"rides\"],\n",
    "    query       = fg.select_all()\n",
    ")\n",
    "\n",
    "print(\"✅ feature‑view created:\", fv.name, \"v\", fv.version)\n"
   ]
  },
  {
   "cell_type": "code",
   "execution_count": 52,
   "id": "dfa93330",
   "metadata": {},
   "outputs": [
    {
     "name": "stdout",
     "output_type": "stream",
     "text": [
      "2025-05-03 16:21:01,364 INFO: Closing external client and cleaning up certificates.\n",
      "Connection closed.\n",
      "2025-05-03 16:21:01,367 INFO: Initializing external client\n",
      "2025-05-03 16:21:01,367 INFO: Base URL: https://c.app.hopsworks.ai:443\n",
      "2025-05-03 16:21:02,119 INFO: Python Engine initialized.\n",
      "\n",
      "Logged in to project, explore it here https://c.app.hopsworks.ai:443/p/1214683\n"
     ]
    },
    {
     "ename": "RestAPIError",
     "evalue": "Metadata operation error: (url: https://c.app.hopsworks.ai/hopsworks-api/api/project/1214683/featurestores/1202314/featureview/None). Server response: \nHTTP code: 404, HTTP reason: Not Found, body: b'{\"errorCode\":120004,\"usrMsg\":\"HTTP 404 Not Found\",\"errorMsg\":\"Web application exception occurred\"}', error code: 120004, error msg: Web application exception occurred, user msg: HTTP 404 Not Found",
     "output_type": "error",
     "traceback": [
      "\u001b[0;31m---------------------------------------------------------------------------\u001b[0m",
      "\u001b[0;31mRestAPIError\u001b[0m                              Traceback (most recent call last)",
      "Cell \u001b[0;32mIn[52], line 10\u001b[0m\n\u001b[1;32m      7\u001b[0m fs \u001b[38;5;241m=\u001b[39m project\u001b[38;5;241m.\u001b[39mget_feature_store()\n\u001b[1;32m      9\u001b[0m \u001b[38;5;66;03m# list everything the store still thinks exists\u001b[39;00m\n\u001b[0;32m---> 10\u001b[0m \u001b[38;5;28;01mfor\u001b[39;00m fv \u001b[38;5;129;01min\u001b[39;00m \u001b[43mfs\u001b[49m\u001b[38;5;241;43m.\u001b[39;49m\u001b[43mget_feature_views\u001b[49m\u001b[43m(\u001b[49m\u001b[43mname\u001b[49m\u001b[38;5;241;43m=\u001b[39;49m\u001b[38;5;28;43;01mNone\u001b[39;49;00m\u001b[43m)\u001b[49m:\n\u001b[1;32m     11\u001b[0m     \u001b[38;5;28mprint\u001b[39m(\u001b[38;5;124mf\u001b[39m\u001b[38;5;124m\"\u001b[39m\u001b[38;5;124m🟢  \u001b[39m\u001b[38;5;132;01m{\u001b[39;00mfv\u001b[38;5;241m.\u001b[39mname\u001b[38;5;132;01m:\u001b[39;00m\u001b[38;5;124m<35\u001b[39m\u001b[38;5;132;01m}\u001b[39;00m\u001b[38;5;124m  v\u001b[39m\u001b[38;5;132;01m{\u001b[39;00mfv\u001b[38;5;241m.\u001b[39mversion\u001b[38;5;132;01m}\u001b[39;00m\u001b[38;5;124m\"\u001b[39m)\n",
      "File \u001b[0;32m/opt/anaconda3/envs/sp25_citibike/lib/python3.10/site-packages/hopsworks_common/usage.py:246\u001b[0m, in \u001b[0;36mmethod_logger.<locals>.wrapper\u001b[0;34m(*args, **kwargs)\u001b[0m\n\u001b[1;32m    244\u001b[0m \u001b[38;5;28;01mexcept\u001b[39;00m \u001b[38;5;167;01mException\u001b[39;00m \u001b[38;5;28;01mas\u001b[39;00m e:\n\u001b[1;32m    245\u001b[0m     exception \u001b[38;5;241m=\u001b[39m e\n\u001b[0;32m--> 246\u001b[0m     \u001b[38;5;28;01mraise\u001b[39;00m e\n\u001b[1;32m    247\u001b[0m \u001b[38;5;28;01mfinally\u001b[39;00m:\n\u001b[1;32m    248\u001b[0m     \u001b[38;5;28;01mtry\u001b[39;00m:\n",
      "File \u001b[0;32m/opt/anaconda3/envs/sp25_citibike/lib/python3.10/site-packages/hopsworks_common/usage.py:242\u001b[0m, in \u001b[0;36mmethod_logger.<locals>.wrapper\u001b[0;34m(*args, **kwargs)\u001b[0m\n\u001b[1;32m    239\u001b[0m exception \u001b[38;5;241m=\u001b[39m \u001b[38;5;28;01mNone\u001b[39;00m\n\u001b[1;32m    240\u001b[0m \u001b[38;5;28;01mtry\u001b[39;00m:\n\u001b[1;32m    241\u001b[0m     \u001b[38;5;66;03m# Call the original method\u001b[39;00m\n\u001b[0;32m--> 242\u001b[0m     result \u001b[38;5;241m=\u001b[39m \u001b[43mfunc\u001b[49m\u001b[43m(\u001b[49m\u001b[38;5;241;43m*\u001b[39;49m\u001b[43margs\u001b[49m\u001b[43m,\u001b[49m\u001b[43m \u001b[49m\u001b[38;5;241;43m*\u001b[39;49m\u001b[38;5;241;43m*\u001b[39;49m\u001b[43mkwargs\u001b[49m\u001b[43m)\u001b[49m\n\u001b[1;32m    243\u001b[0m     \u001b[38;5;28;01mreturn\u001b[39;00m result\n\u001b[1;32m    244\u001b[0m \u001b[38;5;28;01mexcept\u001b[39;00m \u001b[38;5;167;01mException\u001b[39;00m \u001b[38;5;28;01mas\u001b[39;00m e:\n",
      "File \u001b[0;32m/opt/anaconda3/envs/sp25_citibike/lib/python3.10/site-packages/hsfs/feature_store.py:1815\u001b[0m, in \u001b[0;36mFeatureStore.get_feature_views\u001b[0;34m(self, name)\u001b[0m\n\u001b[1;32m   1789\u001b[0m \u001b[38;5;129m@usage\u001b[39m\u001b[38;5;241m.\u001b[39mmethod_logger\n\u001b[1;32m   1790\u001b[0m \u001b[38;5;28;01mdef\u001b[39;00m\u001b[38;5;250m \u001b[39m\u001b[38;5;21mget_feature_views\u001b[39m(\u001b[38;5;28mself\u001b[39m, name: \u001b[38;5;28mstr\u001b[39m) \u001b[38;5;241m-\u001b[39m\u001b[38;5;241m>\u001b[39m List[feature_view\u001b[38;5;241m.\u001b[39mFeatureView]:\n\u001b[1;32m   1791\u001b[0m \u001b[38;5;250m    \u001b[39m\u001b[38;5;124;03m\"\"\"Get a list of all versions of a feature view entity from the feature store.\u001b[39;00m\n\u001b[1;32m   1792\u001b[0m \n\u001b[1;32m   1793\u001b[0m \u001b[38;5;124;03m    Getting a feature view from the Feature Store means getting its metadata.\u001b[39;00m\n\u001b[0;32m   (...)\u001b[0m\n\u001b[1;32m   1813\u001b[0m \u001b[38;5;124;03m        `hopsworks.client.exceptions.RestAPIError`: If the backend encounters an error when handling the request\u001b[39;00m\n\u001b[1;32m   1814\u001b[0m \u001b[38;5;124;03m    \"\"\"\u001b[39;00m\n\u001b[0;32m-> 1815\u001b[0m     \u001b[38;5;28;01mreturn\u001b[39;00m \u001b[38;5;28;43mself\u001b[39;49m\u001b[38;5;241;43m.\u001b[39;49m\u001b[43m_feature_view_engine\u001b[49m\u001b[38;5;241;43m.\u001b[39;49m\u001b[43mget\u001b[49m\u001b[43m(\u001b[49m\u001b[43mname\u001b[49m\u001b[43m)\u001b[49m\n",
      "File \u001b[0;32m/opt/anaconda3/envs/sp25_citibike/lib/python3.10/site-packages/hsfs/core/feature_view_engine.py:188\u001b[0m, in \u001b[0;36mFeatureViewEngine.get\u001b[0;34m(self, name, version)\u001b[0m\n\u001b[1;32m    186\u001b[0m     fv \u001b[38;5;241m=\u001b[39m \u001b[38;5;28mself\u001b[39m\u001b[38;5;241m.\u001b[39m_feature_view_api\u001b[38;5;241m.\u001b[39mget_by_name_version(name, version)\n\u001b[1;32m    187\u001b[0m \u001b[38;5;28;01melse\u001b[39;00m:\n\u001b[0;32m--> 188\u001b[0m     fv \u001b[38;5;241m=\u001b[39m \u001b[38;5;28;43mself\u001b[39;49m\u001b[38;5;241;43m.\u001b[39;49m\u001b[43m_feature_view_api\u001b[49m\u001b[38;5;241;43m.\u001b[39;49m\u001b[43mget_by_name\u001b[49m\u001b[43m(\u001b[49m\u001b[43mname\u001b[49m\u001b[43m)\u001b[49m\n\u001b[1;32m    189\u001b[0m \u001b[38;5;28;01mreturn\u001b[39;00m fv\n",
      "File \u001b[0;32m/opt/anaconda3/envs/sp25_citibike/lib/python3.10/site-packages/hopsworks_common/decorators.py:75\u001b[0m, in \u001b[0;36mcatch_not_found.<locals>.decorator.<locals>.g\u001b[0;34m(*args, **kwds)\u001b[0m\n\u001b[1;32m     73\u001b[0m     \u001b[38;5;28;01mreturn\u001b[39;00m fallback_return\n\u001b[1;32m     74\u001b[0m \u001b[38;5;28;01melse\u001b[39;00m:\n\u001b[0;32m---> 75\u001b[0m     \u001b[38;5;28;01mraise\u001b[39;00m e\n",
      "File \u001b[0;32m/opt/anaconda3/envs/sp25_citibike/lib/python3.10/site-packages/hopsworks_common/decorators.py:67\u001b[0m, in \u001b[0;36mcatch_not_found.<locals>.decorator.<locals>.g\u001b[0;34m(*args, **kwds)\u001b[0m\n\u001b[1;32m     65\u001b[0m     not_found_error_codes\u001b[38;5;241m.\u001b[39mappend(object_class\u001b[38;5;241m.\u001b[39mNOT_FOUND_ERROR_CODE)\n\u001b[1;32m     66\u001b[0m \u001b[38;5;28;01mtry\u001b[39;00m:\n\u001b[0;32m---> 67\u001b[0m     \u001b[38;5;28;01mreturn\u001b[39;00m \u001b[43mf\u001b[49m\u001b[43m(\u001b[49m\u001b[38;5;241;43m*\u001b[39;49m\u001b[43margs\u001b[49m\u001b[43m,\u001b[49m\u001b[43m \u001b[49m\u001b[38;5;241;43m*\u001b[39;49m\u001b[38;5;241;43m*\u001b[39;49m\u001b[43mkwds\u001b[49m\u001b[43m)\u001b[49m\n\u001b[1;32m     68\u001b[0m \u001b[38;5;28;01mexcept\u001b[39;00m RestAPIError \u001b[38;5;28;01mas\u001b[39;00m e:\n\u001b[1;32m     69\u001b[0m     \u001b[38;5;28;01mif\u001b[39;00m (\n\u001b[1;32m     70\u001b[0m         e\u001b[38;5;241m.\u001b[39mresponse\u001b[38;5;241m.\u001b[39mstatus_code \u001b[38;5;129;01min\u001b[39;00m [\u001b[38;5;241m400\u001b[39m, \u001b[38;5;241m404\u001b[39m]\n\u001b[1;32m     71\u001b[0m         \u001b[38;5;129;01mand\u001b[39;00m e\u001b[38;5;241m.\u001b[39mresponse\u001b[38;5;241m.\u001b[39mjson()\u001b[38;5;241m.\u001b[39mget(\u001b[38;5;124m\"\u001b[39m\u001b[38;5;124merrorCode\u001b[39m\u001b[38;5;124m\"\u001b[39m, \u001b[38;5;124m\"\u001b[39m\u001b[38;5;124m\"\u001b[39m) \u001b[38;5;129;01min\u001b[39;00m not_found_error_codes\n\u001b[1;32m     72\u001b[0m     ):\n",
      "File \u001b[0;32m/opt/anaconda3/envs/sp25_citibike/lib/python3.10/site-packages/hsfs/core/feature_view_api.py:124\u001b[0m, in \u001b[0;36mFeatureViewApi.get_by_name\u001b[0;34m(self, name)\u001b[0m\n\u001b[1;32m    118\u001b[0m     \u001b[38;5;28;01mraise\u001b[39;00m \u001b[38;5;167;01mValueError\u001b[39;00m(\n\u001b[1;32m    119\u001b[0m         \u001b[38;5;124m\"\u001b[39m\u001b[38;5;124mCannot get back the feature view because the query defined is no longer valid.\u001b[39m\u001b[38;5;124m\"\u001b[39m\n\u001b[1;32m    120\u001b[0m         \u001b[38;5;124m\"\u001b[39m\u001b[38;5;124m Some feature groups used in the query may have been deleted. You can clean up this feature view on the UI\u001b[39m\u001b[38;5;124m\"\u001b[39m\n\u001b[1;32m    121\u001b[0m         \u001b[38;5;124m\"\u001b[39m\u001b[38;5;124m or `FeatureView.clean`.\u001b[39m\u001b[38;5;124m\"\u001b[39m\n\u001b[1;32m    122\u001b[0m     ) \u001b[38;5;28;01mfrom\u001b[39;00m\u001b[38;5;250m \u001b[39m\u001b[38;5;21;01me\u001b[39;00m\n\u001b[1;32m    123\u001b[0m \u001b[38;5;28;01melse\u001b[39;00m:\n\u001b[0;32m--> 124\u001b[0m     \u001b[38;5;28;01mraise\u001b[39;00m e\n",
      "File \u001b[0;32m/opt/anaconda3/envs/sp25_citibike/lib/python3.10/site-packages/hsfs/core/feature_view_api.py:110\u001b[0m, in \u001b[0;36mFeatureViewApi.get_by_name\u001b[0;34m(self, name)\u001b[0m\n\u001b[1;32m    106\u001b[0m path \u001b[38;5;241m=\u001b[39m \u001b[38;5;28mself\u001b[39m\u001b[38;5;241m.\u001b[39m_base_path \u001b[38;5;241m+\u001b[39m [name]\n\u001b[1;32m    107\u001b[0m \u001b[38;5;28;01mtry\u001b[39;00m:\n\u001b[1;32m    108\u001b[0m     \u001b[38;5;28;01mreturn\u001b[39;00m [\n\u001b[1;32m    109\u001b[0m         feature_view\u001b[38;5;241m.\u001b[39mFeatureView\u001b[38;5;241m.\u001b[39mfrom_response_json(fv)\n\u001b[0;32m--> 110\u001b[0m         \u001b[38;5;28;01mfor\u001b[39;00m fv \u001b[38;5;129;01min\u001b[39;00m \u001b[38;5;28;43mself\u001b[39;49m\u001b[38;5;241;43m.\u001b[39;49m\u001b[43m_client\u001b[49m\u001b[38;5;241;43m.\u001b[39;49m\u001b[43m_send_request\u001b[49m\u001b[43m(\u001b[49m\n\u001b[1;32m    111\u001b[0m \u001b[43m            \u001b[49m\u001b[38;5;28;43mself\u001b[39;49m\u001b[38;5;241;43m.\u001b[39;49m\u001b[43m_GET\u001b[49m\u001b[43m,\u001b[49m\n\u001b[1;32m    112\u001b[0m \u001b[43m            \u001b[49m\u001b[43mpath\u001b[49m\u001b[43m,\u001b[49m\n\u001b[1;32m    113\u001b[0m \u001b[43m            \u001b[49m\u001b[43m{\u001b[49m\u001b[38;5;124;43m\"\u001b[39;49m\u001b[38;5;124;43mexpand\u001b[39;49m\u001b[38;5;124;43m\"\u001b[39;49m\u001b[43m:\u001b[49m\u001b[43m \u001b[49m\u001b[43m[\u001b[49m\u001b[38;5;124;43m\"\u001b[39;49m\u001b[38;5;124;43mquery\u001b[39;49m\u001b[38;5;124;43m\"\u001b[39;49m\u001b[43m,\u001b[49m\u001b[43m \u001b[49m\u001b[38;5;124;43m\"\u001b[39;49m\u001b[38;5;124;43mfeatures\u001b[39;49m\u001b[38;5;124;43m\"\u001b[39;49m\u001b[43m,\u001b[49m\u001b[43m \u001b[49m\u001b[38;5;124;43m\"\u001b[39;49m\u001b[38;5;124;43mtransformationfunctions\u001b[39;49m\u001b[38;5;124;43m\"\u001b[39;49m\u001b[43m]\u001b[49m\u001b[43m}\u001b[49m\u001b[43m,\u001b[49m\n\u001b[1;32m    114\u001b[0m \u001b[43m        \u001b[49m\u001b[43m)\u001b[49m[\u001b[38;5;124m\"\u001b[39m\u001b[38;5;124mitems\u001b[39m\u001b[38;5;124m\"\u001b[39m]\n\u001b[1;32m    115\u001b[0m     ]\n\u001b[1;32m    116\u001b[0m \u001b[38;5;28;01mexcept\u001b[39;00m RestAPIError \u001b[38;5;28;01mas\u001b[39;00m e:\n\u001b[1;32m    117\u001b[0m     \u001b[38;5;28;01mif\u001b[39;00m e\u001b[38;5;241m.\u001b[39mresponse\u001b[38;5;241m.\u001b[39mjson()\u001b[38;5;241m.\u001b[39mget(\u001b[38;5;124m\"\u001b[39m\u001b[38;5;124merrorCode\u001b[39m\u001b[38;5;124m\"\u001b[39m, \u001b[38;5;124m\"\u001b[39m\u001b[38;5;124m\"\u001b[39m) \u001b[38;5;241m==\u001b[39m \u001b[38;5;241m270009\u001b[39m:\n",
      "File \u001b[0;32m/opt/anaconda3/envs/sp25_citibike/lib/python3.10/site-packages/hopsworks_common/decorators.py:48\u001b[0m, in \u001b[0;36mconnected.<locals>.if_connected\u001b[0;34m(inst, *args, **kwargs)\u001b[0m\n\u001b[1;32m     46\u001b[0m \u001b[38;5;28;01mif\u001b[39;00m \u001b[38;5;129;01mnot\u001b[39;00m inst\u001b[38;5;241m.\u001b[39m_connected:\n\u001b[1;32m     47\u001b[0m     \u001b[38;5;28;01mraise\u001b[39;00m NoHopsworksConnectionError\n\u001b[0;32m---> 48\u001b[0m \u001b[38;5;28;01mreturn\u001b[39;00m \u001b[43mfn\u001b[49m\u001b[43m(\u001b[49m\u001b[43minst\u001b[49m\u001b[43m,\u001b[49m\u001b[43m \u001b[49m\u001b[38;5;241;43m*\u001b[39;49m\u001b[43margs\u001b[49m\u001b[43m,\u001b[49m\u001b[43m \u001b[49m\u001b[38;5;241;43m*\u001b[39;49m\u001b[38;5;241;43m*\u001b[39;49m\u001b[43mkwargs\u001b[49m\u001b[43m)\u001b[49m\n",
      "File \u001b[0;32m/opt/anaconda3/envs/sp25_citibike/lib/python3.10/site-packages/hopsworks_common/client/base.py:186\u001b[0m, in \u001b[0;36mClient._send_request\u001b[0;34m(self, method, path_params, query_params, headers, data, stream, files, with_base_path_params)\u001b[0m\n\u001b[1;32m    181\u001b[0m     response \u001b[38;5;241m=\u001b[39m \u001b[38;5;28mself\u001b[39m\u001b[38;5;241m.\u001b[39m_retry_token_expired(\n\u001b[1;32m    182\u001b[0m         request, stream, \u001b[38;5;28mself\u001b[39m\u001b[38;5;241m.\u001b[39mTOKEN_EXPIRED_RETRY_INTERVAL, \u001b[38;5;241m1\u001b[39m\n\u001b[1;32m    183\u001b[0m     )\n\u001b[1;32m    185\u001b[0m \u001b[38;5;28;01mif\u001b[39;00m response\u001b[38;5;241m.\u001b[39mstatus_code \u001b[38;5;241m/\u001b[39m\u001b[38;5;241m/\u001b[39m \u001b[38;5;241m100\u001b[39m \u001b[38;5;241m!=\u001b[39m \u001b[38;5;241m2\u001b[39m:\n\u001b[0;32m--> 186\u001b[0m     \u001b[38;5;28;01mraise\u001b[39;00m exceptions\u001b[38;5;241m.\u001b[39mRestAPIError(url, response)\n\u001b[1;32m    188\u001b[0m \u001b[38;5;28;01mif\u001b[39;00m stream:\n\u001b[1;32m    189\u001b[0m     \u001b[38;5;28;01mreturn\u001b[39;00m response\n",
      "\u001b[0;31mRestAPIError\u001b[0m: Metadata operation error: (url: https://c.app.hopsworks.ai/hopsworks-api/api/project/1214683/featurestores/1202314/featureview/None). Server response: \nHTTP code: 404, HTTP reason: Not Found, body: b'{\"errorCode\":120004,\"usrMsg\":\"HTTP 404 Not Found\",\"errorMsg\":\"Web application exception occurred\"}', error code: 120004, error msg: Web application exception occurred, user msg: HTTP 404 Not Found"
     ]
    }
   ],
   "source": [
    "import hopsworks, src.config as c\n",
    "\n",
    "project = hopsworks.login(\n",
    "    project       = c.HOPSWORKS_PROJECT_NAME,\n",
    "    api_key_value = c.HOPSWORKS_API_KEY,\n",
    ")\n",
    "fs = project.get_feature_store()\n",
    "\n",
    "# list everything the store still thinks exists\n",
    "for fv in fs.get_feature_views(name=None):\n",
    "    print(f\"🟢  {fv.name:<35}  v{fv.version}\")\n"
   ]
  },
  {
   "cell_type": "code",
   "execution_count": 53,
   "id": "4caf1afc",
   "metadata": {},
   "outputs": [
    {
     "name": "stdout",
     "output_type": "stream",
     "text": [
      "2025-05-03 16:23:27,398 INFO: Closing external client and cleaning up certificates.\n",
      "Connection closed.\n",
      "2025-05-03 16:23:27,401 INFO: Initializing external client\n",
      "2025-05-03 16:23:27,401 INFO: Base URL: https://c.app.hopsworks.ai:443\n",
      "2025-05-03 16:23:28,124 INFO: Python Engine initialized.\n",
      "\n",
      "Logged in to project, explore it here https://c.app.hopsworks.ai:443/p/1214683\n"
     ]
    },
    {
     "ename": "AttributeError",
     "evalue": "'Project' object has no attribute '_client'",
     "output_type": "error",
     "traceback": [
      "\u001b[0;31m---------------------------------------------------------------------------\u001b[0m",
      "\u001b[0;31mAttributeError\u001b[0m                            Traceback (most recent call last)",
      "Cell \u001b[0;32mIn[53], line 10\u001b[0m\n\u001b[1;32m      7\u001b[0m fs \u001b[38;5;241m=\u001b[39m project\u001b[38;5;241m.\u001b[39mget_feature_store()\n\u001b[1;32m      9\u001b[0m \u001b[38;5;66;03m# the REST URL we need\u001b[39;00m\n\u001b[0;32m---> 10\u001b[0m base   \u001b[38;5;241m=\u001b[39m \u001b[43mproject\u001b[49m\u001b[38;5;241;43m.\u001b[39;49m\u001b[43m_client\u001b[49m\u001b[38;5;241m.\u001b[39m_base_url          \u001b[38;5;66;03m# e.g. https://c.app.hopsworks.ai\u001b[39;00m\n\u001b[1;32m     11\u001b[0m projId \u001b[38;5;241m=\u001b[39m project\u001b[38;5;241m.\u001b[39mid\n\u001b[1;32m     12\u001b[0m storeId \u001b[38;5;241m=\u001b[39m fs\u001b[38;5;241m.\u001b[39mid\n",
      "\u001b[0;31mAttributeError\u001b[0m: 'Project' object has no attribute '_client'"
     ]
    }
   ],
   "source": [
    "import hopsworks, src.config as c, json, requests\n",
    "\n",
    "project = hopsworks.login(\n",
    "    project       = c.HOPSWORKS_PROJECT_NAME,\n",
    "    api_key_value = c.HOPSWORKS_API_KEY,\n",
    ")\n",
    "fs = project.get_feature_store()\n",
    "\n",
    "# the REST URL we need\n",
    "base   = project._client._base_url          # e.g. https://c.app.hopsworks.ai\n",
    "projId = project.id\n",
    "storeId = fs.id\n",
    "\n",
    "url = f\"{base}/hopsworks-api/api/project/{projId}/featurestores/{storeId}/featureview\"\n",
    "\n",
    "resp = requests.get(url, headers=project._client._get_auth_header())\n",
    "resp.raise_for_status()\n",
    "views = resp.json()[\"items\"]\n",
    "\n",
    "print(f\"Found {len(views)} Feature View objects in metadata:\")\n",
    "for v in views:\n",
    "    print(\" •\", v[\"name\"], \"v\", v[\"version\"])\n"
   ]
  },
  {
   "cell_type": "code",
   "execution_count": 54,
   "id": "4ed647e8",
   "metadata": {},
   "outputs": [
    {
     "name": "stdout",
     "output_type": "stream",
     "text": [
      "2025-05-03 16:28:13,950 INFO: Closing external client and cleaning up certificates.\n",
      "Connection closed.\n",
      "2025-05-03 16:28:13,953 INFO: Initializing external client\n",
      "2025-05-03 16:28:13,954 INFO: Base URL: https://c.app.hopsworks.ai:443\n",
      "2025-05-03 16:28:14,585 INFO: Python Engine initialized.\n",
      "\n",
      "Logged in to project, explore it here https://c.app.hopsworks.ai:443/p/1214683\n"
     ]
    },
    {
     "ename": "AttributeError",
     "evalue": "'Project' object has no attribute 'client'",
     "output_type": "error",
     "traceback": [
      "\u001b[0;31m---------------------------------------------------------------------------\u001b[0m",
      "\u001b[0;31mAttributeError\u001b[0m                            Traceback (most recent call last)",
      "Cell \u001b[0;32mIn[54], line 11\u001b[0m\n\u001b[1;32m      8\u001b[0m fs \u001b[38;5;241m=\u001b[39m project\u001b[38;5;241m.\u001b[39mget_feature_store()\n\u001b[1;32m     10\u001b[0m \u001b[38;5;66;03m# ── 2 build the raw REST URL ───────────────────────────────────────────────────\u001b[39;00m\n\u001b[0;32m---> 11\u001b[0m base_url \u001b[38;5;241m=\u001b[39m \u001b[43mproject\u001b[49m\u001b[38;5;241;43m.\u001b[39;49m\u001b[43mclient\u001b[49m\u001b[38;5;241m.\u001b[39m_base_url           \u001b[38;5;66;03m# e.g. https://c.app.hopsworks.ai\u001b[39;00m\n\u001b[1;32m     12\u001b[0m proj_id  \u001b[38;5;241m=\u001b[39m project\u001b[38;5;241m.\u001b[39mid\n\u001b[1;32m     13\u001b[0m store_id \u001b[38;5;241m=\u001b[39m fs\u001b[38;5;241m.\u001b[39mid\n",
      "\u001b[0;31mAttributeError\u001b[0m: 'Project' object has no attribute 'client'"
     ]
    }
   ],
   "source": [
    " import os, requests, json, hopsworks, src.config as c\n",
    "\n",
    "# ── 1 login just once — NO feature‑view code yet ───────────────────────────────\n",
    "project = hopsworks.login(\n",
    "    project       = c.HOPSWORKS_PROJECT_NAME,\n",
    "    api_key_value = c.HOPSWORKS_API_KEY,\n",
    ")\n",
    "fs = project.get_feature_store()\n",
    "\n",
    "# ── 2 build the raw REST URL ───────────────────────────────────────────────────\n",
    "base_url = project.client._base_url           # e.g. https://c.app.hopsworks.ai\n",
    "proj_id  = project.id\n",
    "store_id = fs.id\n",
    "\n",
    "url = f\"{base_url}/hopsworks-api/api/project/{proj_id}/featurestores/{store_id}/featureview\"\n",
    "\n",
    "# ── 3 GET every feature‑view object in JSON ────────────────────────────────────\n",
    "hdrs = project.client._get_auth_header()\n",
    "resp  = requests.get(url, headers=hdrs, timeout=60)\n",
    "resp.raise_for_status()\n",
    "\n",
    "views_json = resp.json()[\"items\"]\n",
    "print(f\"\\n📋  Registry currently contains {len(views_json)} Feature Views\")\n",
    "for v in views_json:\n",
    "    print(\" •\", v[\"name\"], \"v\", v[\"version\"])\n"
   ]
  },
  {
   "cell_type": "code",
   "execution_count": 57,
   "id": "f46031a8",
   "metadata": {},
   "outputs": [
    {
     "name": "stdout",
     "output_type": "stream",
     "text": [
      "2025-05-03 16:44:11,504 INFO: Closing external client and cleaning up certificates.\n",
      "Connection closed.\n",
      "2025-05-03 16:44:11,506 INFO: Initializing external client\n",
      "2025-05-03 16:44:11,506 INFO: Base URL: https://c.app.hopsworks.ai:443\n",
      "2025-05-03 16:44:12,227 INFO: Python Engine initialized.\n",
      "\n",
      "Logged in to project, explore it here https://c.app.hopsworks.ai:443/p/1214683\n"
     ]
    },
    {
     "ename": "AttributeError",
     "evalue": "'Client' object has no attribute '_get_auth_header'",
     "output_type": "error",
     "traceback": [
      "\u001b[0;31m---------------------------------------------------------------------------\u001b[0m",
      "\u001b[0;31mAttributeError\u001b[0m                            Traceback (most recent call last)",
      "Cell \u001b[0;32mIn[57], line 19\u001b[0m\n\u001b[1;32m     15\u001b[0m store_id \u001b[38;5;241m=\u001b[39m fs\u001b[38;5;241m.\u001b[39mid\n\u001b[1;32m     17\u001b[0m url  \u001b[38;5;241m=\u001b[39m \u001b[38;5;124mf\u001b[39m\u001b[38;5;124m\"\u001b[39m\u001b[38;5;132;01m{\u001b[39;00mbase_url\u001b[38;5;132;01m}\u001b[39;00m\u001b[38;5;124m/hopsworks-api/api/project/\u001b[39m\u001b[38;5;132;01m{\u001b[39;00mproj_id\u001b[38;5;132;01m}\u001b[39;00m\u001b[38;5;124m/featurestores/\u001b[39m\u001b[38;5;132;01m{\u001b[39;00mstore_id\u001b[38;5;132;01m}\u001b[39;00m\u001b[38;5;124m/featureview\u001b[39m\u001b[38;5;124m\"\u001b[39m\n\u001b[0;32m---> 19\u001b[0m hdrs \u001b[38;5;241m=\u001b[39m \u001b[43mraw_client\u001b[49m\u001b[38;5;241;43m.\u001b[39;49m\u001b[43m_get_auth_header\u001b[49m()     \u001b[38;5;66;03m# ← works on older SDKs\u001b[39;00m\n\u001b[1;32m     21\u001b[0m \u001b[38;5;66;03m# ── 3 list every Feature‑View JSON still in the registry ──────────────────────\u001b[39;00m\n\u001b[1;32m     22\u001b[0m resp \u001b[38;5;241m=\u001b[39m requests\u001b[38;5;241m.\u001b[39mget(url, headers\u001b[38;5;241m=\u001b[39mhdrs, timeout\u001b[38;5;241m=\u001b[39m\u001b[38;5;241m60\u001b[39m)\n",
      "\u001b[0;31mAttributeError\u001b[0m: 'Client' object has no attribute '_get_auth_header'"
     ]
    }
   ],
   "source": [
    "import requests, hopsworks, src.config as c\n",
    "from hopsworks import client as _hc\n",
    "\n",
    "# ── 1 login once ──────────────────────────────────────────────────────────────\n",
    "project = hopsworks.login(\n",
    "    project       = c.HOPSWORKS_PROJECT_NAME,\n",
    "    api_key_value = c.HOPSWORKS_API_KEY,\n",
    ")\n",
    "fs         = project.get_feature_store()\n",
    "raw_client = _hc.get_instance()          # global low‑level client\n",
    "\n",
    "# ── 2 assemble REST URL + auth header (OLD helper) ────────────────────────────\n",
    "base_url = raw_client._base_url          # e.g. https://c.app.hopsworks.ai\n",
    "proj_id  = project.id\n",
    "store_id = fs.id\n",
    "\n",
    "url  = f\"{base_url}/hopsworks-api/api/project/{proj_id}/featurestores/{store_id}/featureview\"\n",
    "\n",
    "hdrs = raw_client._get_auth_header()     # ← works on older SDKs\n",
    "\n",
    "# ── 3 list every Feature‑View JSON still in the registry ──────────────────────\n",
    "resp = requests.get(url, headers=hdrs, timeout=60)\n",
    "resp.raise_for_status()\n",
    "\n",
    "items = resp.json()[\"items\"]\n",
    "print(f\"\\n📋  Registry currently contains {len(items)} Feature Views:\")\n",
    "for v in items:\n",
    "    print(f\" • {v['name']:<35}  v{v['version']}\")\n"
   ]
  },
  {
   "cell_type": "code",
   "execution_count": 58,
   "id": "4a500286",
   "metadata": {},
   "outputs": [
    {
     "name": "stdout",
     "output_type": "stream",
     "text": [
      "2025-05-03 17:02:49,966 INFO: Closing external client and cleaning up certificates.\n",
      "Connection closed.\n",
      "2025-05-03 17:02:49,971 INFO: Initializing external client\n",
      "2025-05-03 17:02:49,971 INFO: Base URL: https://c.app.hopsworks.ai:443\n",
      "2025-05-03 17:02:50,650 INFO: Python Engine initialized.\n",
      "\n",
      "Logged in to project, explore it here https://c.app.hopsworks.ai:443/p/1214683\n"
     ]
    },
    {
     "ename": "FileNotFoundError",
     "evalue": "[Errno 2] No such file or directory: 'data/hourly_data.parquet'",
     "output_type": "error",
     "traceback": [
      "\u001b[0;31m---------------------------------------------------------------------------\u001b[0m",
      "\u001b[0;31mFileNotFoundError\u001b[0m                         Traceback (most recent call last)",
      "Cell \u001b[0;32mIn[58], line 13\u001b[0m\n\u001b[1;32m     10\u001b[0m fs \u001b[38;5;241m=\u001b[39m project\u001b[38;5;241m.\u001b[39mget_feature_store()\n\u001b[1;32m     12\u001b[0m \u001b[38;5;66;03m# 2. Load your final hourly dataframe (replace with your actual dataframe)\u001b[39;00m\n\u001b[0;32m---> 13\u001b[0m df \u001b[38;5;241m=\u001b[39m \u001b[43mpd\u001b[49m\u001b[38;5;241;43m.\u001b[39;49m\u001b[43mread_parquet\u001b[49m\u001b[43m(\u001b[49m\u001b[38;5;124;43m\"\u001b[39;49m\u001b[38;5;124;43mdata/hourly_data.parquet\u001b[39;49m\u001b[38;5;124;43m\"\u001b[39;49m\u001b[43m)\u001b[49m  \u001b[38;5;66;03m# adjust path as needed\u001b[39;00m\n\u001b[1;32m     15\u001b[0m \u001b[38;5;66;03m# 3. Create feature group\u001b[39;00m\n\u001b[1;32m     16\u001b[0m fg \u001b[38;5;241m=\u001b[39m fs\u001b[38;5;241m.\u001b[39mcreate_feature_group(\n\u001b[1;32m     17\u001b[0m     name\u001b[38;5;241m=\u001b[39mc\u001b[38;5;241m.\u001b[39mFEATURE_GROUP_NAME,  \u001b[38;5;66;03m# e.g. \"time_series_hourly_feature_group\"\u001b[39;00m\n\u001b[1;32m     18\u001b[0m     version\u001b[38;5;241m=\u001b[39m\u001b[38;5;241m1\u001b[39m,\n\u001b[0;32m   (...)\u001b[0m\n\u001b[1;32m     21\u001b[0m     event_time\u001b[38;5;241m=\u001b[39m\u001b[38;5;124m\"\u001b[39m\u001b[38;5;124mpickup_hour\u001b[39m\u001b[38;5;124m\"\u001b[39m,\n\u001b[1;32m     22\u001b[0m )\n",
      "File \u001b[0;32m/opt/anaconda3/envs/sp25_citibike/lib/python3.10/site-packages/pandas/io/parquet.py:670\u001b[0m, in \u001b[0;36mread_parquet\u001b[0;34m(path, engine, columns, storage_options, use_nullable_dtypes, dtype_backend, filesystem, filters, **kwargs)\u001b[0m\n\u001b[1;32m    667\u001b[0m     use_nullable_dtypes \u001b[38;5;241m=\u001b[39m \u001b[38;5;28;01mFalse\u001b[39;00m\n\u001b[1;32m    668\u001b[0m check_dtype_backend(dtype_backend)\n\u001b[0;32m--> 670\u001b[0m \u001b[38;5;28;01mreturn\u001b[39;00m \u001b[43mimpl\u001b[49m\u001b[38;5;241;43m.\u001b[39;49m\u001b[43mread\u001b[49m\u001b[43m(\u001b[49m\n\u001b[1;32m    671\u001b[0m \u001b[43m    \u001b[49m\u001b[43mpath\u001b[49m\u001b[43m,\u001b[49m\n\u001b[1;32m    672\u001b[0m \u001b[43m    \u001b[49m\u001b[43mcolumns\u001b[49m\u001b[38;5;241;43m=\u001b[39;49m\u001b[43mcolumns\u001b[49m\u001b[43m,\u001b[49m\n\u001b[1;32m    673\u001b[0m \u001b[43m    \u001b[49m\u001b[43mfilters\u001b[49m\u001b[38;5;241;43m=\u001b[39;49m\u001b[43mfilters\u001b[49m\u001b[43m,\u001b[49m\n\u001b[1;32m    674\u001b[0m \u001b[43m    \u001b[49m\u001b[43mstorage_options\u001b[49m\u001b[38;5;241;43m=\u001b[39;49m\u001b[43mstorage_options\u001b[49m\u001b[43m,\u001b[49m\n\u001b[1;32m    675\u001b[0m \u001b[43m    \u001b[49m\u001b[43muse_nullable_dtypes\u001b[49m\u001b[38;5;241;43m=\u001b[39;49m\u001b[43muse_nullable_dtypes\u001b[49m\u001b[43m,\u001b[49m\n\u001b[1;32m    676\u001b[0m \u001b[43m    \u001b[49m\u001b[43mdtype_backend\u001b[49m\u001b[38;5;241;43m=\u001b[39;49m\u001b[43mdtype_backend\u001b[49m\u001b[43m,\u001b[49m\n\u001b[1;32m    677\u001b[0m \u001b[43m    \u001b[49m\u001b[43mfilesystem\u001b[49m\u001b[38;5;241;43m=\u001b[39;49m\u001b[43mfilesystem\u001b[49m\u001b[43m,\u001b[49m\n\u001b[1;32m    678\u001b[0m \u001b[43m    \u001b[49m\u001b[38;5;241;43m*\u001b[39;49m\u001b[38;5;241;43m*\u001b[39;49m\u001b[43mkwargs\u001b[49m\u001b[43m,\u001b[49m\n\u001b[1;32m    679\u001b[0m \u001b[43m\u001b[49m\u001b[43m)\u001b[49m\n",
      "File \u001b[0;32m/opt/anaconda3/envs/sp25_citibike/lib/python3.10/site-packages/pandas/io/parquet.py:265\u001b[0m, in \u001b[0;36mPyArrowImpl.read\u001b[0;34m(self, path, columns, filters, use_nullable_dtypes, dtype_backend, storage_options, filesystem, **kwargs)\u001b[0m\n\u001b[1;32m    262\u001b[0m \u001b[38;5;28;01mif\u001b[39;00m manager \u001b[38;5;241m==\u001b[39m \u001b[38;5;124m\"\u001b[39m\u001b[38;5;124marray\u001b[39m\u001b[38;5;124m\"\u001b[39m:\n\u001b[1;32m    263\u001b[0m     to_pandas_kwargs[\u001b[38;5;124m\"\u001b[39m\u001b[38;5;124msplit_blocks\u001b[39m\u001b[38;5;124m\"\u001b[39m] \u001b[38;5;241m=\u001b[39m \u001b[38;5;28;01mTrue\u001b[39;00m  \u001b[38;5;66;03m# type: ignore[assignment]\u001b[39;00m\n\u001b[0;32m--> 265\u001b[0m path_or_handle, handles, filesystem \u001b[38;5;241m=\u001b[39m \u001b[43m_get_path_or_handle\u001b[49m\u001b[43m(\u001b[49m\n\u001b[1;32m    266\u001b[0m \u001b[43m    \u001b[49m\u001b[43mpath\u001b[49m\u001b[43m,\u001b[49m\n\u001b[1;32m    267\u001b[0m \u001b[43m    \u001b[49m\u001b[43mfilesystem\u001b[49m\u001b[43m,\u001b[49m\n\u001b[1;32m    268\u001b[0m \u001b[43m    \u001b[49m\u001b[43mstorage_options\u001b[49m\u001b[38;5;241;43m=\u001b[39;49m\u001b[43mstorage_options\u001b[49m\u001b[43m,\u001b[49m\n\u001b[1;32m    269\u001b[0m \u001b[43m    \u001b[49m\u001b[43mmode\u001b[49m\u001b[38;5;241;43m=\u001b[39;49m\u001b[38;5;124;43m\"\u001b[39;49m\u001b[38;5;124;43mrb\u001b[39;49m\u001b[38;5;124;43m\"\u001b[39;49m\u001b[43m,\u001b[49m\n\u001b[1;32m    270\u001b[0m \u001b[43m\u001b[49m\u001b[43m)\u001b[49m\n\u001b[1;32m    271\u001b[0m \u001b[38;5;28;01mtry\u001b[39;00m:\n\u001b[1;32m    272\u001b[0m     pa_table \u001b[38;5;241m=\u001b[39m \u001b[38;5;28mself\u001b[39m\u001b[38;5;241m.\u001b[39mapi\u001b[38;5;241m.\u001b[39mparquet\u001b[38;5;241m.\u001b[39mread_table(\n\u001b[1;32m    273\u001b[0m         path_or_handle,\n\u001b[1;32m    274\u001b[0m         columns\u001b[38;5;241m=\u001b[39mcolumns,\n\u001b[0;32m   (...)\u001b[0m\n\u001b[1;32m    277\u001b[0m         \u001b[38;5;241m*\u001b[39m\u001b[38;5;241m*\u001b[39mkwargs,\n\u001b[1;32m    278\u001b[0m     )\n",
      "File \u001b[0;32m/opt/anaconda3/envs/sp25_citibike/lib/python3.10/site-packages/pandas/io/parquet.py:139\u001b[0m, in \u001b[0;36m_get_path_or_handle\u001b[0;34m(path, fs, storage_options, mode, is_dir)\u001b[0m\n\u001b[1;32m    129\u001b[0m handles \u001b[38;5;241m=\u001b[39m \u001b[38;5;28;01mNone\u001b[39;00m\n\u001b[1;32m    130\u001b[0m \u001b[38;5;28;01mif\u001b[39;00m (\n\u001b[1;32m    131\u001b[0m     \u001b[38;5;129;01mnot\u001b[39;00m fs\n\u001b[1;32m    132\u001b[0m     \u001b[38;5;129;01mand\u001b[39;00m \u001b[38;5;129;01mnot\u001b[39;00m is_dir\n\u001b[0;32m   (...)\u001b[0m\n\u001b[1;32m    137\u001b[0m     \u001b[38;5;66;03m# fsspec resources can also point to directories\u001b[39;00m\n\u001b[1;32m    138\u001b[0m     \u001b[38;5;66;03m# this branch is used for example when reading from non-fsspec URLs\u001b[39;00m\n\u001b[0;32m--> 139\u001b[0m     handles \u001b[38;5;241m=\u001b[39m \u001b[43mget_handle\u001b[49m\u001b[43m(\u001b[49m\n\u001b[1;32m    140\u001b[0m \u001b[43m        \u001b[49m\u001b[43mpath_or_handle\u001b[49m\u001b[43m,\u001b[49m\u001b[43m \u001b[49m\u001b[43mmode\u001b[49m\u001b[43m,\u001b[49m\u001b[43m \u001b[49m\u001b[43mis_text\u001b[49m\u001b[38;5;241;43m=\u001b[39;49m\u001b[38;5;28;43;01mFalse\u001b[39;49;00m\u001b[43m,\u001b[49m\u001b[43m \u001b[49m\u001b[43mstorage_options\u001b[49m\u001b[38;5;241;43m=\u001b[39;49m\u001b[43mstorage_options\u001b[49m\n\u001b[1;32m    141\u001b[0m \u001b[43m    \u001b[49m\u001b[43m)\u001b[49m\n\u001b[1;32m    142\u001b[0m     fs \u001b[38;5;241m=\u001b[39m \u001b[38;5;28;01mNone\u001b[39;00m\n\u001b[1;32m    143\u001b[0m     path_or_handle \u001b[38;5;241m=\u001b[39m handles\u001b[38;5;241m.\u001b[39mhandle\n",
      "File \u001b[0;32m/opt/anaconda3/envs/sp25_citibike/lib/python3.10/site-packages/pandas/io/common.py:872\u001b[0m, in \u001b[0;36mget_handle\u001b[0;34m(path_or_buf, mode, encoding, compression, memory_map, is_text, errors, storage_options)\u001b[0m\n\u001b[1;32m    863\u001b[0m         handle \u001b[38;5;241m=\u001b[39m \u001b[38;5;28mopen\u001b[39m(\n\u001b[1;32m    864\u001b[0m             handle,\n\u001b[1;32m    865\u001b[0m             ioargs\u001b[38;5;241m.\u001b[39mmode,\n\u001b[0;32m   (...)\u001b[0m\n\u001b[1;32m    868\u001b[0m             newline\u001b[38;5;241m=\u001b[39m\u001b[38;5;124m\"\u001b[39m\u001b[38;5;124m\"\u001b[39m,\n\u001b[1;32m    869\u001b[0m         )\n\u001b[1;32m    870\u001b[0m     \u001b[38;5;28;01melse\u001b[39;00m:\n\u001b[1;32m    871\u001b[0m         \u001b[38;5;66;03m# Binary mode\u001b[39;00m\n\u001b[0;32m--> 872\u001b[0m         handle \u001b[38;5;241m=\u001b[39m \u001b[38;5;28;43mopen\u001b[39;49m\u001b[43m(\u001b[49m\u001b[43mhandle\u001b[49m\u001b[43m,\u001b[49m\u001b[43m \u001b[49m\u001b[43mioargs\u001b[49m\u001b[38;5;241;43m.\u001b[39;49m\u001b[43mmode\u001b[49m\u001b[43m)\u001b[49m\n\u001b[1;32m    873\u001b[0m     handles\u001b[38;5;241m.\u001b[39mappend(handle)\n\u001b[1;32m    875\u001b[0m \u001b[38;5;66;03m# Convert BytesIO or file objects passed with an encoding\u001b[39;00m\n",
      "\u001b[0;31mFileNotFoundError\u001b[0m: [Errno 2] No such file or directory: 'data/hourly_data.parquet'"
     ]
    }
   ],
   "source": [
    "import hopsworks\n",
    "import pandas as pd\n",
    "import src.config as c  # ensure your config contains project name and API key\n",
    "\n",
    "# 1. Connect to Hopsworks\n",
    "project = hopsworks.login(\n",
    "    project=c.HOPSWORKS_PROJECT_NAME,\n",
    "    api_key_value=c.HOPSWORKS_API_KEY,\n",
    ")\n",
    "fs = project.get_feature_store()\n",
    "\n",
    "# 2. Load your final hourly dataframe (replace with your actual dataframe)\n",
    "df = pd.read_parquet(\"data/hourly_data.parquet\")  # adjust path as needed\n",
    "\n",
    "# 3. Create feature group\n",
    "fg = fs.create_feature_group(\n",
    "    name=c.FEATURE_GROUP_NAME,  # e.g. \"time_series_hourly_feature_group\"\n",
    "    version=1,\n",
    "    description=\"Hourly aggregated Citi Bike rides per location\",\n",
    "    primary_key=[\"pickup_location_id\", \"pickup_hour\"],\n",
    "    event_time=\"pickup_hour\",\n",
    ")\n",
    "\n",
    "# 4. Save the data to the feature group\n",
    "fg.insert(df, write_options={\"wait_for_job\": True})\n"
   ]
  },
  {
   "cell_type": "code",
   "execution_count": null,
   "id": "b05f5f01",
   "metadata": {},
   "outputs": [],
   "source": []
  }
 ],
 "metadata": {
  "kernelspec": {
   "display_name": "sp25_citibike",
   "language": "python",
   "name": "python3"
  },
  "language_info": {
   "codemirror_mode": {
    "name": "ipython",
    "version": 3
   },
   "file_extension": ".py",
   "mimetype": "text/x-python",
   "name": "python",
   "nbconvert_exporter": "python",
   "pygments_lexer": "ipython3",
   "version": "3.10.17"
  }
 },
 "nbformat": 4,
 "nbformat_minor": 5
}

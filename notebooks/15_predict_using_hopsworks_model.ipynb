{
 "cells": [
  {
   "cell_type": "code",
   "execution_count": 12,
   "id": "a8e1ca03-2d40-462c-9ee4-f91ab11daf76",
   "metadata": {},
   "outputs": [
    {
     "name": "stdout",
     "output_type": "stream",
     "text": [
      "The autoreload extension is already loaded. To reload it, use:\n",
      "  %reload_ext autoreload\n"
     ]
    }
   ],
   "source": [
    "%load_ext autoreload\n",
    "%autoreload 2\n",
    "\n",
    "import sys\n",
    "import os\n",
    "from datetime import datetime, timedelta\n",
    "import pandas as pd\n",
    "\n",
    "# Add project root to Python path\n",
    "sys.path.append(os.path.abspath(os.path.join(os.getcwd(), \"..\")))\n",
    "\n",
    "import src.config as config\n",
    "from src.inference import get_feature_store, load_model_from_registry, get_model_predictions\n",
    "from src.data_utils import transform_ts_data_info_features\n"
   ]
  },
  {
   "cell_type": "code",
   "execution_count": 13,
   "id": "6e61f1c5",
   "metadata": {},
   "outputs": [
    {
     "name": "stdout",
     "output_type": "stream",
     "text": [
      "The autoreload extension is already loaded. To reload it, use:\n",
      "  %reload_ext autoreload\n"
     ]
    }
   ],
   "source": [
    "%load_ext autoreload\n",
    "%autoreload 2\n",
    "\n",
    "import sys\n",
    "import os\n",
    "from datetime import datetime, timedelta\n",
    "import pandas as pd\n",
    "\n",
    "# Add project root to Python path\n",
    "sys.path.append(os.path.abspath(os.path.join(os.getcwd(), \"..\")))\n",
    "\n",
    "import src.config as config\n",
    "from src.inference import get_feature_store, load_model_from_registry, get_model_predictions\n",
    "from src.data_utils import transform_ts_data_info_features\n"
   ]
  },
  {
   "cell_type": "code",
   "execution_count": 14,
   "id": "e7b9a358",
   "metadata": {},
   "outputs": [
    {
     "name": "stdout",
     "output_type": "stream",
     "text": [
      "2025-05-03 00:47:55,407 INFO: Closing external client and cleaning up certificates.\n",
      "Connection closed.\n",
      "2025-05-03 00:47:55,412 INFO: Initializing external client\n",
      "2025-05-03 00:47:55,412 INFO: Base URL: https://c.app.hopsworks.ai:443\n",
      "2025-05-03 00:47:56,084 INFO: Python Engine initialized.\n",
      "\n",
      "Logged in to project, explore it here https://c.app.hopsworks.ai:443/p/1214683\n",
      "Finished: Reading data from Hopsworks, using Hopsworks Feature Query Service (4.68s) \n"
     ]
    }
   ],
   "source": [
    "# Load feature store and feature view\n",
    "feature_store = get_feature_store()\n",
    "feature_view = feature_store.get_feature_view(\n",
    "    name=config.FEATURE_VIEW_NAME,\n",
    "    version=config.FEATURE_VIEW_VERSION\n",
    ")\n",
    "\n",
    "# Get batch of data around the time window (+/- 1 day for safety)\n",
    "ts_data = feature_view.get_batch_data(\n",
    "    start_time=(fetch_data_from - timedelta(days=1)),\n",
    "    end_time=(fetch_data_to + timedelta(days=1)),\n",
    ")\n",
    "\n",
    "# Filter strictly for the target range\n",
    "ts_data = ts_data[ts_data.pickup_hour.between(fetch_data_from, fetch_data_to)]\n",
    "ts_data = ts_data.sort_values([\"pickup_location_id\", \"pickup_hour\"]).reset_index(drop=True)\n",
    "\n",
    "# Drop timezone if present\n",
    "ts_data[\"pickup_hour\"] = ts_data[\"pickup_hour\"].dt.tz_localize(None)\n"
   ]
  },
  {
   "cell_type": "code",
   "execution_count": 15,
   "id": "febd7e8b",
   "metadata": {},
   "outputs": [
    {
     "name": "stdout",
     "output_type": "stream",
     "text": [
      "Skipping location_id 99: Not enough data to create even one window.\n",
      "✅ Features ready for prediction: (510, 674)\n"
     ]
    }
   ],
   "source": [
    "# Create time-series features with sliding window\n",
    "features = transform_ts_data_info_features(ts_data, window_size=24*28, step_size=23)\n",
    "print(\"✅ Features ready for prediction:\", features.shape)\n"
   ]
  },
  {
   "cell_type": "code",
   "execution_count": 16,
   "id": "4a6300f1",
   "metadata": {},
   "outputs": [
    {
     "name": "stdout",
     "output_type": "stream",
     "text": [
      "2025-05-03 00:48:10,152 INFO: Closing external client and cleaning up certificates.\n",
      "Connection closed.\n",
      "2025-05-03 00:48:10,157 INFO: Initializing external client\n",
      "2025-05-03 00:48:10,157 INFO: Base URL: https://c.app.hopsworks.ai:443\n",
      "2025-05-03 00:48:10,679 INFO: Python Engine initialized.\n",
      "\n",
      "Logged in to project, explore it here https://c.app.hopsworks.ai:443/p/1214683\n"
     ]
    },
    {
     "data": {
      "application/vnd.jupyter.widget-view+json": {
       "model_id": "3e94dcc15b6e49d283e71c563b886e3a",
       "version_major": 2,
       "version_minor": 0
      },
      "text/plain": [
       "Downloading: 0.000%|          | 0/316530 elapsed<00:00 remaining<?"
      ]
     },
     "metadata": {},
     "output_type": "display_data"
    },
    {
     "name": "stdout",
     "output_type": "stream",
     "text": [
      "✅ Predictions generated: (510, 2)s, 1 files)... DONE\n"
     ]
    },
    {
     "data": {
      "text/html": [
       "<div>\n",
       "<style scoped>\n",
       "    .dataframe tbody tr th:only-of-type {\n",
       "        vertical-align: middle;\n",
       "    }\n",
       "\n",
       "    .dataframe tbody tr th {\n",
       "        vertical-align: top;\n",
       "    }\n",
       "\n",
       "    .dataframe thead th {\n",
       "        text-align: right;\n",
       "    }\n",
       "</style>\n",
       "<table border=\"1\" class=\"dataframe\">\n",
       "  <thead>\n",
       "    <tr style=\"text-align: right;\">\n",
       "      <th></th>\n",
       "      <th>pickup_location_id</th>\n",
       "      <th>predicted_demand</th>\n",
       "    </tr>\n",
       "  </thead>\n",
       "  <tbody>\n",
       "    <tr>\n",
       "      <th>0</th>\n",
       "      <td>2</td>\n",
       "      <td>0.0</td>\n",
       "    </tr>\n",
       "    <tr>\n",
       "      <th>1</th>\n",
       "      <td>2</td>\n",
       "      <td>0.0</td>\n",
       "    </tr>\n",
       "    <tr>\n",
       "      <th>2</th>\n",
       "      <td>3</td>\n",
       "      <td>0.0</td>\n",
       "    </tr>\n",
       "    <tr>\n",
       "      <th>3</th>\n",
       "      <td>3</td>\n",
       "      <td>0.0</td>\n",
       "    </tr>\n",
       "    <tr>\n",
       "      <th>4</th>\n",
       "      <td>4</td>\n",
       "      <td>3.0</td>\n",
       "    </tr>\n",
       "  </tbody>\n",
       "</table>\n",
       "</div>"
      ],
      "text/plain": [
       "   pickup_location_id  predicted_demand\n",
       "0                   2               0.0\n",
       "1                   2               0.0\n",
       "2                   3               0.0\n",
       "3                   3               0.0\n",
       "4                   4               3.0"
      ]
     },
     "execution_count": 16,
     "metadata": {},
     "output_type": "execute_result"
    }
   ],
   "source": [
    "# Load trained model from registry\n",
    "model = load_model_from_registry()\n",
    "\n",
    "# Get predictions\n",
    "predictions = get_model_predictions(model, features)\n",
    "print(\"✅ Predictions generated:\", predictions.shape)\n",
    "predictions.head()\n"
   ]
  },
  {
   "cell_type": "code",
   "execution_count": 18,
   "id": "7b0c1a86",
   "metadata": {},
   "outputs": [
    {
     "data": {
      "text/html": [
       "<div>\n",
       "<style scoped>\n",
       "    .dataframe tbody tr th:only-of-type {\n",
       "        vertical-align: middle;\n",
       "    }\n",
       "\n",
       "    .dataframe tbody tr th {\n",
       "        vertical-align: top;\n",
       "    }\n",
       "\n",
       "    .dataframe thead th {\n",
       "        text-align: right;\n",
       "    }\n",
       "</style>\n",
       "<table border=\"1\" class=\"dataframe\">\n",
       "  <thead>\n",
       "    <tr style=\"text-align: right;\">\n",
       "      <th></th>\n",
       "      <th>pickup_location_id</th>\n",
       "      <th>pickup_hour</th>\n",
       "      <th>predicted_demand</th>\n",
       "    </tr>\n",
       "  </thead>\n",
       "  <tbody>\n",
       "    <tr>\n",
       "      <th>307</th>\n",
       "      <td>161</td>\n",
       "      <td>2025-03-31 22:00:00</td>\n",
       "      <td>339.0</td>\n",
       "    </tr>\n",
       "    <tr>\n",
       "      <th>248</th>\n",
       "      <td>132</td>\n",
       "      <td>2025-03-30 23:00:00</td>\n",
       "      <td>301.0</td>\n",
       "    </tr>\n",
       "    <tr>\n",
       "      <th>249</th>\n",
       "      <td>132</td>\n",
       "      <td>2025-03-31 22:00:00</td>\n",
       "      <td>278.0</td>\n",
       "    </tr>\n",
       "    <tr>\n",
       "      <th>309</th>\n",
       "      <td>162</td>\n",
       "      <td>2025-03-31 22:00:00</td>\n",
       "      <td>267.0</td>\n",
       "    </tr>\n",
       "    <tr>\n",
       "      <th>443</th>\n",
       "      <td>230</td>\n",
       "      <td>2025-03-31 22:00:00</td>\n",
       "      <td>250.0</td>\n",
       "    </tr>\n",
       "    <tr>\n",
       "      <th>455</th>\n",
       "      <td>236</td>\n",
       "      <td>2025-03-31 22:00:00</td>\n",
       "      <td>231.0</td>\n",
       "    </tr>\n",
       "    <tr>\n",
       "      <th>269</th>\n",
       "      <td>142</td>\n",
       "      <td>2025-03-31 22:00:00</td>\n",
       "      <td>227.0</td>\n",
       "    </tr>\n",
       "    <tr>\n",
       "      <th>311</th>\n",
       "      <td>163</td>\n",
       "      <td>2025-03-31 22:00:00</td>\n",
       "      <td>225.0</td>\n",
       "    </tr>\n",
       "    <tr>\n",
       "      <th>451</th>\n",
       "      <td>234</td>\n",
       "      <td>2025-03-31 22:00:00</td>\n",
       "      <td>221.0</td>\n",
       "    </tr>\n",
       "    <tr>\n",
       "      <th>260</th>\n",
       "      <td>138</td>\n",
       "      <td>2025-03-30 23:00:00</td>\n",
       "      <td>217.0</td>\n",
       "    </tr>\n",
       "  </tbody>\n",
       "</table>\n",
       "</div>"
      ],
      "text/plain": [
       "     pickup_location_id         pickup_hour  predicted_demand\n",
       "307                 161 2025-03-31 22:00:00             339.0\n",
       "248                 132 2025-03-30 23:00:00             301.0\n",
       "249                 132 2025-03-31 22:00:00             278.0\n",
       "309                 162 2025-03-31 22:00:00             267.0\n",
       "443                 230 2025-03-31 22:00:00             250.0\n",
       "455                 236 2025-03-31 22:00:00             231.0\n",
       "269                 142 2025-03-31 22:00:00             227.0\n",
       "311                 163 2025-03-31 22:00:00             225.0\n",
       "451                 234 2025-03-31 22:00:00             221.0\n",
       "260                 138 2025-03-30 23:00:00             217.0"
      ]
     },
     "execution_count": 18,
     "metadata": {},
     "output_type": "execute_result"
    }
   ],
   "source": [
    "from src.inference import get_model_predictions\n",
    "\n",
    "# Step 1: Get predictions\n",
    "predictions = get_model_predictions(model, features)\n",
    "\n",
    "# ✅ Step 2: Add pickup_hour back from features\n",
    "predictions[\"pickup_hour\"] = features[\"pickup_hour\"].values\n",
    "\n",
    "# Step 3: View top 10 high-demand predictions\n",
    "top_locations = predictions.sort_values(\"predicted_demand\", ascending=False)\n",
    "top_locations[[\"pickup_location_id\", \"pickup_hour\", \"predicted_demand\"]].head(10)\n"
   ]
  },
  {
   "cell_type": "code",
   "execution_count": null,
   "id": "a4b6f0e4",
   "metadata": {},
   "outputs": [],
   "source": []
  }
 ],
 "metadata": {
  "kernelspec": {
   "display_name": "sp25_citibike",
   "language": "python",
   "name": "python3"
  },
  "language_info": {
   "codemirror_mode": {
    "name": "ipython",
    "version": 3
   },
   "file_extension": ".py",
   "mimetype": "text/x-python",
   "name": "python",
   "nbconvert_exporter": "python",
   "pygments_lexer": "ipython3",
   "version": "3.10.17"
  }
 },
 "nbformat": 4,
 "nbformat_minor": 5
}

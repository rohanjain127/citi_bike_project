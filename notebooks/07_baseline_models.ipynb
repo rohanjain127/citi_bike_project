{
 "cells": [
  {
   "cell_type": "code",
   "execution_count": 1,
   "id": "5e7fd51d-f4fc-4583-94ae-2bfd9388224c",
   "metadata": {},
   "outputs": [],
   "source": [
    "%load_ext autoreload\n",
    "%autoreload 2"
   ]
  },
  {
   "cell_type": "code",
   "execution_count": 2,
   "id": "ca4e773b-3fdb-4db2-a8b3-fcf09bd54f2f",
   "metadata": {},
   "outputs": [],
   "source": [
    "import sys\n",
    "import os\n",
    "\n",
    "# Add the parent directory to the Python path\n",
    "sys.path.append(os.path.abspath(os.path.join(os.getcwd(), \"..\")))"
   ]
  },
  {
   "cell_type": "code",
   "execution_count": 21,
   "id": "9b160f27-7330-42ef-abdf-a65053027038",
   "metadata": {},
   "outputs": [
    {
     "data": {
      "text/html": [
       "<div>\n",
       "<style scoped>\n",
       "    .dataframe tbody tr th:only-of-type {\n",
       "        vertical-align: middle;\n",
       "    }\n",
       "\n",
       "    .dataframe tbody tr th {\n",
       "        vertical-align: top;\n",
       "    }\n",
       "\n",
       "    .dataframe thead th {\n",
       "        text-align: right;\n",
       "    }\n",
       "</style>\n",
       "<table border=\"1\" class=\"dataframe\">\n",
       "  <thead>\n",
       "    <tr style=\"text-align: right;\">\n",
       "      <th></th>\n",
       "      <th>rides_t-672</th>\n",
       "      <th>rides_t-671</th>\n",
       "      <th>rides_t-670</th>\n",
       "      <th>rides_t-669</th>\n",
       "      <th>rides_t-668</th>\n",
       "      <th>rides_t-667</th>\n",
       "      <th>rides_t-666</th>\n",
       "      <th>rides_t-665</th>\n",
       "      <th>rides_t-664</th>\n",
       "      <th>rides_t-663</th>\n",
       "      <th>...</th>\n",
       "      <th>rides_t-7</th>\n",
       "      <th>rides_t-6</th>\n",
       "      <th>rides_t-5</th>\n",
       "      <th>rides_t-4</th>\n",
       "      <th>rides_t-3</th>\n",
       "      <th>rides_t-2</th>\n",
       "      <th>rides_t-1</th>\n",
       "      <th>target</th>\n",
       "      <th>pickup_hour</th>\n",
       "      <th>pickup_location_id</th>\n",
       "    </tr>\n",
       "  </thead>\n",
       "  <tbody>\n",
       "    <tr>\n",
       "      <th>0</th>\n",
       "      <td>1</td>\n",
       "      <td>0</td>\n",
       "      <td>0</td>\n",
       "      <td>0</td>\n",
       "      <td>0</td>\n",
       "      <td>0</td>\n",
       "      <td>0</td>\n",
       "      <td>0</td>\n",
       "      <td>0</td>\n",
       "      <td>0</td>\n",
       "      <td>...</td>\n",
       "      <td>0</td>\n",
       "      <td>0</td>\n",
       "      <td>5</td>\n",
       "      <td>12</td>\n",
       "      <td>15</td>\n",
       "      <td>12</td>\n",
       "      <td>4</td>\n",
       "      <td>6</td>\n",
       "      <td>2023-01-25 11:00:00</td>\n",
       "      <td>5329.03</td>\n",
       "    </tr>\n",
       "    <tr>\n",
       "      <th>1</th>\n",
       "      <td>0</td>\n",
       "      <td>0</td>\n",
       "      <td>0</td>\n",
       "      <td>0</td>\n",
       "      <td>0</td>\n",
       "      <td>0</td>\n",
       "      <td>0</td>\n",
       "      <td>0</td>\n",
       "      <td>0</td>\n",
       "      <td>0</td>\n",
       "      <td>...</td>\n",
       "      <td>0</td>\n",
       "      <td>1</td>\n",
       "      <td>5</td>\n",
       "      <td>12</td>\n",
       "      <td>21</td>\n",
       "      <td>6</td>\n",
       "      <td>8</td>\n",
       "      <td>8</td>\n",
       "      <td>2023-01-26 11:00:00</td>\n",
       "      <td>5329.03</td>\n",
       "    </tr>\n",
       "    <tr>\n",
       "      <th>2</th>\n",
       "      <td>0</td>\n",
       "      <td>0</td>\n",
       "      <td>0</td>\n",
       "      <td>0</td>\n",
       "      <td>0</td>\n",
       "      <td>0</td>\n",
       "      <td>0</td>\n",
       "      <td>0</td>\n",
       "      <td>0</td>\n",
       "      <td>0</td>\n",
       "      <td>...</td>\n",
       "      <td>0</td>\n",
       "      <td>1</td>\n",
       "      <td>1</td>\n",
       "      <td>10</td>\n",
       "      <td>12</td>\n",
       "      <td>6</td>\n",
       "      <td>8</td>\n",
       "      <td>3</td>\n",
       "      <td>2023-01-27 11:00:00</td>\n",
       "      <td>5329.03</td>\n",
       "    </tr>\n",
       "    <tr>\n",
       "      <th>3</th>\n",
       "      <td>0</td>\n",
       "      <td>0</td>\n",
       "      <td>0</td>\n",
       "      <td>0</td>\n",
       "      <td>0</td>\n",
       "      <td>0</td>\n",
       "      <td>0</td>\n",
       "      <td>0</td>\n",
       "      <td>0</td>\n",
       "      <td>0</td>\n",
       "      <td>...</td>\n",
       "      <td>0</td>\n",
       "      <td>0</td>\n",
       "      <td>0</td>\n",
       "      <td>2</td>\n",
       "      <td>6</td>\n",
       "      <td>5</td>\n",
       "      <td>10</td>\n",
       "      <td>23</td>\n",
       "      <td>2023-01-28 11:00:00</td>\n",
       "      <td>5329.03</td>\n",
       "    </tr>\n",
       "    <tr>\n",
       "      <th>4</th>\n",
       "      <td>15</td>\n",
       "      <td>12</td>\n",
       "      <td>10</td>\n",
       "      <td>24</td>\n",
       "      <td>23</td>\n",
       "      <td>14</td>\n",
       "      <td>12</td>\n",
       "      <td>6</td>\n",
       "      <td>5</td>\n",
       "      <td>5</td>\n",
       "      <td>...</td>\n",
       "      <td>0</td>\n",
       "      <td>0</td>\n",
       "      <td>0</td>\n",
       "      <td>1</td>\n",
       "      <td>2</td>\n",
       "      <td>9</td>\n",
       "      <td>6</td>\n",
       "      <td>14</td>\n",
       "      <td>2023-01-29 11:00:00</td>\n",
       "      <td>5329.03</td>\n",
       "    </tr>\n",
       "  </tbody>\n",
       "</table>\n",
       "<p>5 rows × 675 columns</p>\n",
       "</div>"
      ],
      "text/plain": [
       "   rides_t-672  rides_t-671  rides_t-670  rides_t-669  rides_t-668  \\\n",
       "0            1            0            0            0            0   \n",
       "1            0            0            0            0            0   \n",
       "2            0            0            0            0            0   \n",
       "3            0            0            0            0            0   \n",
       "4           15           12           10           24           23   \n",
       "\n",
       "   rides_t-667  rides_t-666  rides_t-665  rides_t-664  rides_t-663  ...  \\\n",
       "0            0            0            0            0            0  ...   \n",
       "1            0            0            0            0            0  ...   \n",
       "2            0            0            0            0            0  ...   \n",
       "3            0            0            0            0            0  ...   \n",
       "4           14           12            6            5            5  ...   \n",
       "\n",
       "   rides_t-7  rides_t-6  rides_t-5  rides_t-4  rides_t-3  rides_t-2  \\\n",
       "0          0          0          5         12         15         12   \n",
       "1          0          1          5         12         21          6   \n",
       "2          0          1          1         10         12          6   \n",
       "3          0          0          0          2          6          5   \n",
       "4          0          0          0          1          2          9   \n",
       "\n",
       "   rides_t-1  target         pickup_hour  pickup_location_id  \n",
       "0          4       6 2023-01-25 11:00:00             5329.03  \n",
       "1          8       8 2023-01-26 11:00:00             5329.03  \n",
       "2          8       3 2023-01-27 11:00:00             5329.03  \n",
       "3         10      23 2023-01-28 11:00:00             5329.03  \n",
       "4          6      14 2023-01-29 11:00:00             5329.03  \n",
       "\n",
       "[5 rows x 675 columns]"
      ]
     },
     "execution_count": 21,
     "metadata": {},
     "output_type": "execute_result"
    }
   ],
   "source": [
    "import pandas as pd\n",
    "from src.config import TRANSFORMED_DATA_DIR\n",
    "\n",
    "df = pd.read_parquet(TRANSFORMED_DATA_DIR / \"citibike_tabular_data_28d.parquet\")\n",
    "df.head()\n",
    "\n"
   ]
  },
  {
   "cell_type": "code",
   "execution_count": 22,
   "id": "8ec6ca42",
   "metadata": {},
   "outputs": [],
   "source": [
    "df_est = df.copy()\n",
    "df_est[\"pickup_hour\"] = pd.to_datetime(df_est[\"pickup_hour\"])\n",
    "df_est[\"pickup_hour\"] = df_est[\"pickup_hour\"].dt.tz_localize(\"UTC\").dt.tz_convert(\"America/New_York\")\n"
   ]
  },
  {
   "cell_type": "code",
   "execution_count": 23,
   "id": "7cfd1606",
   "metadata": {},
   "outputs": [
    {
     "data": {
      "text/html": [
       "<div>\n",
       "<style scoped>\n",
       "    .dataframe tbody tr th:only-of-type {\n",
       "        vertical-align: middle;\n",
       "    }\n",
       "\n",
       "    .dataframe tbody tr th {\n",
       "        vertical-align: top;\n",
       "    }\n",
       "\n",
       "    .dataframe thead th {\n",
       "        text-align: right;\n",
       "    }\n",
       "</style>\n",
       "<table border=\"1\" class=\"dataframe\">\n",
       "  <thead>\n",
       "    <tr style=\"text-align: right;\">\n",
       "      <th></th>\n",
       "      <th>rides_t-672</th>\n",
       "      <th>rides_t-671</th>\n",
       "      <th>rides_t-670</th>\n",
       "      <th>rides_t-669</th>\n",
       "      <th>rides_t-668</th>\n",
       "      <th>rides_t-667</th>\n",
       "      <th>rides_t-666</th>\n",
       "      <th>rides_t-665</th>\n",
       "      <th>rides_t-664</th>\n",
       "      <th>rides_t-663</th>\n",
       "      <th>...</th>\n",
       "      <th>rides_t-7</th>\n",
       "      <th>rides_t-6</th>\n",
       "      <th>rides_t-5</th>\n",
       "      <th>rides_t-4</th>\n",
       "      <th>rides_t-3</th>\n",
       "      <th>rides_t-2</th>\n",
       "      <th>rides_t-1</th>\n",
       "      <th>target</th>\n",
       "      <th>pickup_hour</th>\n",
       "      <th>pickup_location_id</th>\n",
       "    </tr>\n",
       "  </thead>\n",
       "  <tbody>\n",
       "    <tr>\n",
       "      <th>0</th>\n",
       "      <td>1</td>\n",
       "      <td>0</td>\n",
       "      <td>0</td>\n",
       "      <td>0</td>\n",
       "      <td>0</td>\n",
       "      <td>0</td>\n",
       "      <td>0</td>\n",
       "      <td>0</td>\n",
       "      <td>0</td>\n",
       "      <td>0</td>\n",
       "      <td>...</td>\n",
       "      <td>0</td>\n",
       "      <td>0</td>\n",
       "      <td>5</td>\n",
       "      <td>12</td>\n",
       "      <td>15</td>\n",
       "      <td>12</td>\n",
       "      <td>4</td>\n",
       "      <td>6</td>\n",
       "      <td>2023-01-25 11:00:00</td>\n",
       "      <td>5329.03</td>\n",
       "    </tr>\n",
       "    <tr>\n",
       "      <th>1</th>\n",
       "      <td>0</td>\n",
       "      <td>0</td>\n",
       "      <td>0</td>\n",
       "      <td>0</td>\n",
       "      <td>0</td>\n",
       "      <td>0</td>\n",
       "      <td>0</td>\n",
       "      <td>0</td>\n",
       "      <td>0</td>\n",
       "      <td>0</td>\n",
       "      <td>...</td>\n",
       "      <td>0</td>\n",
       "      <td>1</td>\n",
       "      <td>5</td>\n",
       "      <td>12</td>\n",
       "      <td>21</td>\n",
       "      <td>6</td>\n",
       "      <td>8</td>\n",
       "      <td>8</td>\n",
       "      <td>2023-01-26 11:00:00</td>\n",
       "      <td>5329.03</td>\n",
       "    </tr>\n",
       "    <tr>\n",
       "      <th>2</th>\n",
       "      <td>0</td>\n",
       "      <td>0</td>\n",
       "      <td>0</td>\n",
       "      <td>0</td>\n",
       "      <td>0</td>\n",
       "      <td>0</td>\n",
       "      <td>0</td>\n",
       "      <td>0</td>\n",
       "      <td>0</td>\n",
       "      <td>0</td>\n",
       "      <td>...</td>\n",
       "      <td>0</td>\n",
       "      <td>1</td>\n",
       "      <td>1</td>\n",
       "      <td>10</td>\n",
       "      <td>12</td>\n",
       "      <td>6</td>\n",
       "      <td>8</td>\n",
       "      <td>3</td>\n",
       "      <td>2023-01-27 11:00:00</td>\n",
       "      <td>5329.03</td>\n",
       "    </tr>\n",
       "    <tr>\n",
       "      <th>3</th>\n",
       "      <td>0</td>\n",
       "      <td>0</td>\n",
       "      <td>0</td>\n",
       "      <td>0</td>\n",
       "      <td>0</td>\n",
       "      <td>0</td>\n",
       "      <td>0</td>\n",
       "      <td>0</td>\n",
       "      <td>0</td>\n",
       "      <td>0</td>\n",
       "      <td>...</td>\n",
       "      <td>0</td>\n",
       "      <td>0</td>\n",
       "      <td>0</td>\n",
       "      <td>2</td>\n",
       "      <td>6</td>\n",
       "      <td>5</td>\n",
       "      <td>10</td>\n",
       "      <td>23</td>\n",
       "      <td>2023-01-28 11:00:00</td>\n",
       "      <td>5329.03</td>\n",
       "    </tr>\n",
       "    <tr>\n",
       "      <th>4</th>\n",
       "      <td>15</td>\n",
       "      <td>12</td>\n",
       "      <td>10</td>\n",
       "      <td>24</td>\n",
       "      <td>23</td>\n",
       "      <td>14</td>\n",
       "      <td>12</td>\n",
       "      <td>6</td>\n",
       "      <td>5</td>\n",
       "      <td>5</td>\n",
       "      <td>...</td>\n",
       "      <td>0</td>\n",
       "      <td>0</td>\n",
       "      <td>0</td>\n",
       "      <td>1</td>\n",
       "      <td>2</td>\n",
       "      <td>9</td>\n",
       "      <td>6</td>\n",
       "      <td>14</td>\n",
       "      <td>2023-01-29 11:00:00</td>\n",
       "      <td>5329.03</td>\n",
       "    </tr>\n",
       "  </tbody>\n",
       "</table>\n",
       "<p>5 rows × 675 columns</p>\n",
       "</div>"
      ],
      "text/plain": [
       "   rides_t-672  rides_t-671  rides_t-670  rides_t-669  rides_t-668  \\\n",
       "0            1            0            0            0            0   \n",
       "1            0            0            0            0            0   \n",
       "2            0            0            0            0            0   \n",
       "3            0            0            0            0            0   \n",
       "4           15           12           10           24           23   \n",
       "\n",
       "   rides_t-667  rides_t-666  rides_t-665  rides_t-664  rides_t-663  ...  \\\n",
       "0            0            0            0            0            0  ...   \n",
       "1            0            0            0            0            0  ...   \n",
       "2            0            0            0            0            0  ...   \n",
       "3            0            0            0            0            0  ...   \n",
       "4           14           12            6            5            5  ...   \n",
       "\n",
       "   rides_t-7  rides_t-6  rides_t-5  rides_t-4  rides_t-3  rides_t-2  \\\n",
       "0          0          0          5         12         15         12   \n",
       "1          0          1          5         12         21          6   \n",
       "2          0          1          1         10         12          6   \n",
       "3          0          0          0          2          6          5   \n",
       "4          0          0          0          1          2          9   \n",
       "\n",
       "   rides_t-1  target         pickup_hour  pickup_location_id  \n",
       "0          4       6 2023-01-25 11:00:00             5329.03  \n",
       "1          8       8 2023-01-26 11:00:00             5329.03  \n",
       "2          8       3 2023-01-27 11:00:00             5329.03  \n",
       "3         10      23 2023-01-28 11:00:00             5329.03  \n",
       "4          6      14 2023-01-29 11:00:00             5329.03  \n",
       "\n",
       "[5 rows x 675 columns]"
      ]
     },
     "execution_count": 23,
     "metadata": {},
     "output_type": "execute_result"
    }
   ],
   "source": [
    "df.head()"
   ]
  },
  {
   "cell_type": "code",
   "execution_count": 24,
   "id": "8da730d9",
   "metadata": {},
   "outputs": [
    {
     "data": {
      "text/html": [
       "<div>\n",
       "<style scoped>\n",
       "    .dataframe tbody tr th:only-of-type {\n",
       "        vertical-align: middle;\n",
       "    }\n",
       "\n",
       "    .dataframe tbody tr th {\n",
       "        vertical-align: top;\n",
       "    }\n",
       "\n",
       "    .dataframe thead th {\n",
       "        text-align: right;\n",
       "    }\n",
       "</style>\n",
       "<table border=\"1\" class=\"dataframe\">\n",
       "  <thead>\n",
       "    <tr style=\"text-align: right;\">\n",
       "      <th></th>\n",
       "      <th>rides_t-672</th>\n",
       "      <th>rides_t-671</th>\n",
       "      <th>rides_t-670</th>\n",
       "      <th>rides_t-669</th>\n",
       "      <th>rides_t-668</th>\n",
       "      <th>rides_t-667</th>\n",
       "      <th>rides_t-666</th>\n",
       "      <th>rides_t-665</th>\n",
       "      <th>rides_t-664</th>\n",
       "      <th>rides_t-663</th>\n",
       "      <th>...</th>\n",
       "      <th>rides_t-7</th>\n",
       "      <th>rides_t-6</th>\n",
       "      <th>rides_t-5</th>\n",
       "      <th>rides_t-4</th>\n",
       "      <th>rides_t-3</th>\n",
       "      <th>rides_t-2</th>\n",
       "      <th>rides_t-1</th>\n",
       "      <th>target</th>\n",
       "      <th>pickup_hour</th>\n",
       "      <th>pickup_location_id</th>\n",
       "    </tr>\n",
       "  </thead>\n",
       "  <tbody>\n",
       "    <tr>\n",
       "      <th>0</th>\n",
       "      <td>1</td>\n",
       "      <td>0</td>\n",
       "      <td>0</td>\n",
       "      <td>0</td>\n",
       "      <td>0</td>\n",
       "      <td>0</td>\n",
       "      <td>0</td>\n",
       "      <td>0</td>\n",
       "      <td>0</td>\n",
       "      <td>0</td>\n",
       "      <td>...</td>\n",
       "      <td>0</td>\n",
       "      <td>0</td>\n",
       "      <td>5</td>\n",
       "      <td>12</td>\n",
       "      <td>15</td>\n",
       "      <td>12</td>\n",
       "      <td>4</td>\n",
       "      <td>6</td>\n",
       "      <td>2023-01-25 06:00:00-05:00</td>\n",
       "      <td>5329.03</td>\n",
       "    </tr>\n",
       "    <tr>\n",
       "      <th>1</th>\n",
       "      <td>0</td>\n",
       "      <td>0</td>\n",
       "      <td>0</td>\n",
       "      <td>0</td>\n",
       "      <td>0</td>\n",
       "      <td>0</td>\n",
       "      <td>0</td>\n",
       "      <td>0</td>\n",
       "      <td>0</td>\n",
       "      <td>0</td>\n",
       "      <td>...</td>\n",
       "      <td>0</td>\n",
       "      <td>1</td>\n",
       "      <td>5</td>\n",
       "      <td>12</td>\n",
       "      <td>21</td>\n",
       "      <td>6</td>\n",
       "      <td>8</td>\n",
       "      <td>8</td>\n",
       "      <td>2023-01-26 06:00:00-05:00</td>\n",
       "      <td>5329.03</td>\n",
       "    </tr>\n",
       "    <tr>\n",
       "      <th>2</th>\n",
       "      <td>0</td>\n",
       "      <td>0</td>\n",
       "      <td>0</td>\n",
       "      <td>0</td>\n",
       "      <td>0</td>\n",
       "      <td>0</td>\n",
       "      <td>0</td>\n",
       "      <td>0</td>\n",
       "      <td>0</td>\n",
       "      <td>0</td>\n",
       "      <td>...</td>\n",
       "      <td>0</td>\n",
       "      <td>1</td>\n",
       "      <td>1</td>\n",
       "      <td>10</td>\n",
       "      <td>12</td>\n",
       "      <td>6</td>\n",
       "      <td>8</td>\n",
       "      <td>3</td>\n",
       "      <td>2023-01-27 06:00:00-05:00</td>\n",
       "      <td>5329.03</td>\n",
       "    </tr>\n",
       "    <tr>\n",
       "      <th>3</th>\n",
       "      <td>0</td>\n",
       "      <td>0</td>\n",
       "      <td>0</td>\n",
       "      <td>0</td>\n",
       "      <td>0</td>\n",
       "      <td>0</td>\n",
       "      <td>0</td>\n",
       "      <td>0</td>\n",
       "      <td>0</td>\n",
       "      <td>0</td>\n",
       "      <td>...</td>\n",
       "      <td>0</td>\n",
       "      <td>0</td>\n",
       "      <td>0</td>\n",
       "      <td>2</td>\n",
       "      <td>6</td>\n",
       "      <td>5</td>\n",
       "      <td>10</td>\n",
       "      <td>23</td>\n",
       "      <td>2023-01-28 06:00:00-05:00</td>\n",
       "      <td>5329.03</td>\n",
       "    </tr>\n",
       "    <tr>\n",
       "      <th>4</th>\n",
       "      <td>15</td>\n",
       "      <td>12</td>\n",
       "      <td>10</td>\n",
       "      <td>24</td>\n",
       "      <td>23</td>\n",
       "      <td>14</td>\n",
       "      <td>12</td>\n",
       "      <td>6</td>\n",
       "      <td>5</td>\n",
       "      <td>5</td>\n",
       "      <td>...</td>\n",
       "      <td>0</td>\n",
       "      <td>0</td>\n",
       "      <td>0</td>\n",
       "      <td>1</td>\n",
       "      <td>2</td>\n",
       "      <td>9</td>\n",
       "      <td>6</td>\n",
       "      <td>14</td>\n",
       "      <td>2023-01-29 06:00:00-05:00</td>\n",
       "      <td>5329.03</td>\n",
       "    </tr>\n",
       "  </tbody>\n",
       "</table>\n",
       "<p>5 rows × 675 columns</p>\n",
       "</div>"
      ],
      "text/plain": [
       "   rides_t-672  rides_t-671  rides_t-670  rides_t-669  rides_t-668  \\\n",
       "0            1            0            0            0            0   \n",
       "1            0            0            0            0            0   \n",
       "2            0            0            0            0            0   \n",
       "3            0            0            0            0            0   \n",
       "4           15           12           10           24           23   \n",
       "\n",
       "   rides_t-667  rides_t-666  rides_t-665  rides_t-664  rides_t-663  ...  \\\n",
       "0            0            0            0            0            0  ...   \n",
       "1            0            0            0            0            0  ...   \n",
       "2            0            0            0            0            0  ...   \n",
       "3            0            0            0            0            0  ...   \n",
       "4           14           12            6            5            5  ...   \n",
       "\n",
       "   rides_t-7  rides_t-6  rides_t-5  rides_t-4  rides_t-3  rides_t-2  \\\n",
       "0          0          0          5         12         15         12   \n",
       "1          0          1          5         12         21          6   \n",
       "2          0          1          1         10         12          6   \n",
       "3          0          0          0          2          6          5   \n",
       "4          0          0          0          1          2          9   \n",
       "\n",
       "   rides_t-1  target               pickup_hour  pickup_location_id  \n",
       "0          4       6 2023-01-25 06:00:00-05:00             5329.03  \n",
       "1          8       8 2023-01-26 06:00:00-05:00             5329.03  \n",
       "2          8       3 2023-01-27 06:00:00-05:00             5329.03  \n",
       "3         10      23 2023-01-28 06:00:00-05:00             5329.03  \n",
       "4          6      14 2023-01-29 06:00:00-05:00             5329.03  \n",
       "\n",
       "[5 rows x 675 columns]"
      ]
     },
     "execution_count": 24,
     "metadata": {},
     "output_type": "execute_result"
    }
   ],
   "source": [
    "df_est.head()"
   ]
  },
  {
   "cell_type": "code",
   "execution_count": 25,
   "id": "375ff8cf-b58e-4e8c-8d91-80b325d5cf31",
   "metadata": {},
   "outputs": [
    {
     "name": "stdout",
     "output_type": "stream",
     "text": [
      "(657, 674)\n",
      "(657,)\n",
      "(366, 674)\n",
      "(366,)\n"
     ]
    }
   ],
   "source": [
    "from datetime import datetime\n",
    "from src.data_utils import split_time_series_data\n",
    "\n",
    "X_train, y_train, X_test, y_test = split_time_series_data(\n",
    "    df,\n",
    "    cutoff_date=datetime(2023, 9, 1, 0, 0, 0),\n",
    "    target_column=\"target\"\n",
    ")\n",
    "\n",
    "print(X_train.shape)\n",
    "print(y_train.shape)\n",
    "print(X_test.shape)\n",
    "print(y_test.shape)\n"
   ]
  },
  {
   "cell_type": "code",
   "execution_count": 26,
   "id": "607bfb35-84cf-4410-a4ac-5075d1d4a8f1",
   "metadata": {},
   "outputs": [],
   "source": [
    "import numpy as np\n",
    "\n",
    "class BaselineModelPreviousHour:\n",
    "    def fit(self, X_train: pd.DataFrame, y_train: pd.Series):\n",
    "        pass\n",
    "\n",
    "    def predict(self, X_test: pd.DataFrame) -> np.array:\n",
    "        return X_test[\"rides_t-1\"]\n"
   ]
  },
  {
   "cell_type": "code",
   "execution_count": 27,
   "id": "6bd315ce-2039-4ebf-9c1d-d56003bf3db2",
   "metadata": {},
   "outputs": [],
   "source": [
    "model = BaselineModelPreviousHour()\n",
    "predictions = model.predict(X_test)\n"
   ]
  },
  {
   "cell_type": "code",
   "execution_count": 28,
   "id": "23ab1392-4ba7-48a9-88d7-c882bf500222",
   "metadata": {},
   "outputs": [
    {
     "name": "stdout",
     "output_type": "stream",
     "text": [
      "5.7459\n"
     ]
    }
   ],
   "source": [
    "from sklearn.metrics import mean_absolute_error\n",
    "\n",
    "test_mae = mean_absolute_error(y_test, predictions)\n",
    "print(f\"{test_mae:.4f}\")\n"
   ]
  },
  {
   "cell_type": "code",
   "execution_count": 29,
   "id": "1cd98cb4-c618-4e4d-8cca-d457edea1698",
   "metadata": {},
   "outputs": [
    {
     "name": "stderr",
     "output_type": "stream",
     "text": [
      "INFO:src.experiment_utils:MLflow tracking URI and credentials set.\n"
     ]
    }
   ],
   "source": [
    "from src.experiment_utils import set_mlflow_tracking, log_model_to_mlflow\n",
    "from dotenv import load_dotenv\n",
    "load_dotenv() \n",
    "\n",
    "mlflow = set_mlflow_tracking()\n"
   ]
  },
  {
   "cell_type": "code",
   "execution_count": 30,
   "id": "48af73a3-62fd-4096-bc52-685e9cd787cf",
   "metadata": {},
   "outputs": [
    {
     "name": "stderr",
     "output_type": "stream",
     "text": [
      "INFO:src.experiment_utils:Experiment set to: BaselineModelPreviousHour\n",
      "INFO:src.experiment_utils:Logged mean_absolute_error: 5.745901639344262\n",
      "/opt/anaconda3/envs/sp25_citibike/lib/python3.10/site-packages/mlflow/types/utils.py:452: UserWarning: Hint: Inferred schema contains integer column(s). Integer columns in Python cannot represent missing values. If your input data contains missing values at inference time, it will be encoded as floats and will cause a schema enforcement error. The best way to avoid this problem is to infer the model schema based on a realistic data sample (training dataset) that includes missing values. Alternatively, you can declare integer columns as doubles (float64) whenever these columns may have missing values. See `Handling Integers With Missing Values <https://www.mlflow.org/docs/latest/models.html#handling-integers-with-missing-values>`_ for more details.\n",
      "  warnings.warn(\n",
      "INFO:src.experiment_utils:Model signature inferred.\n",
      "Registered model 'BaselineModelPreviousHour' already exists. Creating a new version of this model...\n",
      "2025/05/02 20:50:26 INFO mlflow.store.model_registry.abstract_store: Waiting up to 300 seconds for model version to finish creation. Model name: BaselineModelPreviousHour, version 4\n",
      "Created version '4' of model 'BaselineModelPreviousHour'.\n",
      "INFO:src.experiment_utils:Model logged with name: BaselineModelPreviousHour\n"
     ]
    },
    {
     "name": "stdout",
     "output_type": "stream",
     "text": [
      "🏃 View run stately-wasp-408 at: https://dagshub.com/rohanjai/sp25_taxi-main.mlflow/#/experiments/0/runs/791562c83a2444d3ac07d2e253d0652e\n",
      "🧪 View experiment at: https://dagshub.com/rohanjai/sp25_taxi-main.mlflow/#/experiments/0\n"
     ]
    },
    {
     "data": {
      "text/plain": [
       "<mlflow.models.model.ModelInfo at 0x30149ffd0>"
      ]
     },
     "execution_count": 30,
     "metadata": {},
     "output_type": "execute_result"
    }
   ],
   "source": [
    "log_model_to_mlflow(\n",
    "    model,\n",
    "    X_test,\n",
    "    \"BaselineModelPreviousHour\",\n",
    "    \"mean_absolute_error\",\n",
    "    score=test_mae\n",
    ")\n"
   ]
  },
  {
   "cell_type": "code",
   "execution_count": 35,
   "id": "3a514fbb-4ea7-4261-802e-b6d9572ddd76",
   "metadata": {},
   "outputs": [],
   "source": [
    "class BaselineModelPreviousWeek:\n",
    "    def fit(self, X_train: pd.DataFrame, y_train: pd.Series):\n",
    "        pass\n",
    "\n",
    "    def predict(self, X_test: pd.DataFrame) -> np.array:\n",
    "        return X_test[f\"rides_t-{7*24}\"]  # rides_t-168\n"
   ]
  },
  {
   "cell_type": "code",
   "execution_count": 36,
   "id": "ce2a60d5-75ce-493f-b938-6f4112abf9eb",
   "metadata": {},
   "outputs": [],
   "source": [
    "model = BaselineModelPreviousWeek()\n",
    "predictions = model.predict(X_test)\n"
   ]
  },
  {
   "cell_type": "code",
   "execution_count": 37,
   "id": "5de6b0c8-a9f9-434c-be3e-d7cdf5a4c8ec",
   "metadata": {},
   "outputs": [
    {
     "name": "stdout",
     "output_type": "stream",
     "text": [
      "9.7951\n"
     ]
    }
   ],
   "source": [
    "test_mae = mean_absolute_error(y_test, predictions)\n",
    "print(f\"{test_mae:.4f}\")"
   ]
  },
  {
   "cell_type": "code",
   "execution_count": 38,
   "id": "db5cf5f3-3be7-4735-8b43-d752599aedc4",
   "metadata": {},
   "outputs": [
    {
     "name": "stderr",
     "output_type": "stream",
     "text": [
      "INFO:src.experiment_utils:Experiment set to: BaselineModelPreviousWeek\n",
      "INFO:src.experiment_utils:Logged mean_absolute_error: 9.795081967213115\n",
      "/opt/anaconda3/envs/sp25_citibike/lib/python3.10/site-packages/mlflow/types/utils.py:452: UserWarning: Hint: Inferred schema contains integer column(s). Integer columns in Python cannot represent missing values. If your input data contains missing values at inference time, it will be encoded as floats and will cause a schema enforcement error. The best way to avoid this problem is to infer the model schema based on a realistic data sample (training dataset) that includes missing values. Alternatively, you can declare integer columns as doubles (float64) whenever these columns may have missing values. See `Handling Integers With Missing Values <https://www.mlflow.org/docs/latest/models.html#handling-integers-with-missing-values>`_ for more details.\n",
      "  warnings.warn(\n",
      "INFO:src.experiment_utils:Model signature inferred.\n",
      "Registered model 'BaselineModelPreviousWeek' already exists. Creating a new version of this model...\n",
      "2025/05/02 20:55:00 INFO mlflow.store.model_registry.abstract_store: Waiting up to 300 seconds for model version to finish creation. Model name: BaselineModelPreviousWeek, version 3\n",
      "Created version '3' of model 'BaselineModelPreviousWeek'.\n",
      "INFO:src.experiment_utils:Model logged with name: BaselineModelPreviousWeek\n"
     ]
    },
    {
     "name": "stdout",
     "output_type": "stream",
     "text": [
      "🏃 View run delicate-tern-291 at: https://dagshub.com/rohanjai/sp25_taxi-main.mlflow/#/experiments/1/runs/3a4a53185e8d4eff83d3874fac104fe3\n",
      "🧪 View experiment at: https://dagshub.com/rohanjai/sp25_taxi-main.mlflow/#/experiments/1\n"
     ]
    },
    {
     "data": {
      "text/plain": [
       "<mlflow.models.model.ModelInfo at 0x177ffd0c0>"
      ]
     },
     "execution_count": 38,
     "metadata": {},
     "output_type": "execute_result"
    }
   ],
   "source": [
    "log_model_to_mlflow(model, X_test, \"BaselineModelPreviousWeek\", \"mean_absolute_error\", score=test_mae)"
   ]
  },
  {
   "cell_type": "code",
   "execution_count": 34,
   "id": "640d2e38",
   "metadata": {},
   "outputs": [
    {
     "name": "stdout",
     "output_type": "stream",
     "text": [
      "9.7951\n"
     ]
    }
   ],
   "source": [
    "from sklearn.metrics import mean_absolute_error\n",
    "\n",
    "test_mae = mean_absolute_error(y_test, predictions)\n",
    "print(f\"{test_mae:.4f}\")\n"
   ]
  },
  {
   "cell_type": "code",
   "execution_count": 39,
   "id": "81cdad64-c6b2-44fc-8cf1-38803199e771",
   "metadata": {},
   "outputs": [],
   "source": [
    "import numpy as np\n",
    "import pandas as pd\n",
    "\n",
    "class BaselineModelLast4Weeks:\n",
    "    \"\"\"\n",
    "    A baseline model that predicts the average of the last 4 weeks (28 days)\n",
    "    for each test instance.\n",
    "    \"\"\"\n",
    "\n",
    "    def fit(self, X_train: pd.DataFrame, y_train: pd.Series):\n",
    "        pass  # No training needed for baseline\n",
    "\n",
    "    def predict(self, X_test: pd.DataFrame) -> np.array:\n",
    "        last_4_weeks_columns = [\n",
    "            f\"rides_t-{7*24}\",   # 1 week ago\n",
    "            f\"rides_t-{14*24}\",  # 2 weeks ago\n",
    "            f\"rides_t-{21*24}\",  # 3 weeks ago\n",
    "            f\"rides_t-{28*24}\"   # 4 weeks ago\n",
    "        ]\n",
    "        for col in last_4_weeks_columns:\n",
    "            if col not in X_test.columns:\n",
    "                raise ValueError(f\"Missing required column: {col}\")\n",
    "        return X_test[last_4_weeks_columns].mean(axis=1).to_numpy()\n"
   ]
  },
  {
   "cell_type": "code",
   "execution_count": 40,
   "id": "c578e858-3a10-4903-9647-394d975f4a50",
   "metadata": {},
   "outputs": [],
   "source": [
    "model = BaselineModelLast4Weeks()\n",
    "predictions = model.predict(X_test)\n"
   ]
  },
  {
   "cell_type": "code",
   "execution_count": 41,
   "id": "ef59ced3-dae5-4ef8-bcc8-234012e4377c",
   "metadata": {},
   "outputs": [
    {
     "name": "stdout",
     "output_type": "stream",
     "text": [
      "8.2787\n"
     ]
    }
   ],
   "source": [
    "test_mae = mean_absolute_error(y_test, predictions)\n",
    "print(f\"{test_mae:.4f}\")\n"
   ]
  },
  {
   "cell_type": "code",
   "execution_count": 25,
   "id": "e106e233-1396-41e9-8906-1d45a1ab6972",
   "metadata": {},
   "outputs": [
    {
     "name": "stdout",
     "output_type": "stream",
     "text": [
      "4.5444\n"
     ]
    }
   ],
   "source": [
    "test_mae = mean_absolute_error(y_test, predictions)\n",
    "print(f\"{test_mae:.4f}\")"
   ]
  },
  {
   "cell_type": "code",
   "execution_count": 42,
   "id": "1da51143-c03b-4e23-ab83-2154b8f12f92",
   "metadata": {},
   "outputs": [
    {
     "name": "stderr",
     "output_type": "stream",
     "text": [
      "INFO:src.experiment_utils:Experiment set to: BaselineModelLast4Weeks\n",
      "INFO:src.experiment_utils:Logged mean_absolute_error: 8.278688524590164\n",
      "/opt/anaconda3/envs/sp25_citibike/lib/python3.10/site-packages/mlflow/types/utils.py:452: UserWarning: Hint: Inferred schema contains integer column(s). Integer columns in Python cannot represent missing values. If your input data contains missing values at inference time, it will be encoded as floats and will cause a schema enforcement error. The best way to avoid this problem is to infer the model schema based on a realistic data sample (training dataset) that includes missing values. Alternatively, you can declare integer columns as doubles (float64) whenever these columns may have missing values. See `Handling Integers With Missing Values <https://www.mlflow.org/docs/latest/models.html#handling-integers-with-missing-values>`_ for more details.\n",
      "  warnings.warn(\n",
      "INFO:src.experiment_utils:Model signature inferred.\n",
      "Registered model 'BaselineModelLast4Weeks' already exists. Creating a new version of this model...\n",
      "2025/05/02 20:57:27 INFO mlflow.store.model_registry.abstract_store: Waiting up to 300 seconds for model version to finish creation. Model name: BaselineModelLast4Weeks, version 2\n",
      "Created version '2' of model 'BaselineModelLast4Weeks'.\n",
      "INFO:src.experiment_utils:Model logged with name: BaselineModelLast4Weeks\n"
     ]
    },
    {
     "name": "stdout",
     "output_type": "stream",
     "text": [
      "🏃 View run angry-bird-523 at: https://dagshub.com/rohanjai/sp25_taxi-main.mlflow/#/experiments/2/runs/1e59f3ddfec4421daa544e37bab4edcb\n",
      "🧪 View experiment at: https://dagshub.com/rohanjai/sp25_taxi-main.mlflow/#/experiments/2\n"
     ]
    },
    {
     "data": {
      "text/plain": [
       "<mlflow.models.model.ModelInfo at 0x16a2a3880>"
      ]
     },
     "execution_count": 42,
     "metadata": {},
     "output_type": "execute_result"
    }
   ],
   "source": [
    "log_model_to_mlflow(model, X_test, \"BaselineModelLast4Weeks\", \"mean_absolute_error\", score=test_mae)\n"
   ]
  },
  {
   "cell_type": "code",
   "execution_count": 44,
   "id": "c421b0f9",
   "metadata": {},
   "outputs": [
    {
     "data": {
      "text/html": [
       "<div>\n",
       "<style scoped>\n",
       "    .dataframe tbody tr th:only-of-type {\n",
       "        vertical-align: middle;\n",
       "    }\n",
       "\n",
       "    .dataframe tbody tr th {\n",
       "        vertical-align: top;\n",
       "    }\n",
       "\n",
       "    .dataframe thead th {\n",
       "        text-align: right;\n",
       "    }\n",
       "</style>\n",
       "<table border=\"1\" class=\"dataframe\">\n",
       "  <thead>\n",
       "    <tr style=\"text-align: right;\">\n",
       "      <th></th>\n",
       "      <th>rides_t-672</th>\n",
       "      <th>rides_t-671</th>\n",
       "      <th>rides_t-670</th>\n",
       "      <th>rides_t-669</th>\n",
       "      <th>rides_t-668</th>\n",
       "      <th>rides_t-667</th>\n",
       "      <th>rides_t-666</th>\n",
       "      <th>rides_t-665</th>\n",
       "      <th>rides_t-664</th>\n",
       "      <th>rides_t-663</th>\n",
       "      <th>...</th>\n",
       "      <th>rides_t-8</th>\n",
       "      <th>rides_t-7</th>\n",
       "      <th>rides_t-6</th>\n",
       "      <th>rides_t-5</th>\n",
       "      <th>rides_t-4</th>\n",
       "      <th>rides_t-3</th>\n",
       "      <th>rides_t-2</th>\n",
       "      <th>rides_t-1</th>\n",
       "      <th>pickup_hour</th>\n",
       "      <th>pickup_location_id</th>\n",
       "    </tr>\n",
       "  </thead>\n",
       "  <tbody>\n",
       "    <tr>\n",
       "      <th>219</th>\n",
       "      <td>14</td>\n",
       "      <td>16</td>\n",
       "      <td>19</td>\n",
       "      <td>19</td>\n",
       "      <td>25</td>\n",
       "      <td>46</td>\n",
       "      <td>56</td>\n",
       "      <td>48</td>\n",
       "      <td>29</td>\n",
       "      <td>23</td>\n",
       "      <td>...</td>\n",
       "      <td>0</td>\n",
       "      <td>0</td>\n",
       "      <td>0</td>\n",
       "      <td>4</td>\n",
       "      <td>15</td>\n",
       "      <td>14</td>\n",
       "      <td>13</td>\n",
       "      <td>16</td>\n",
       "      <td>2023-09-01 11:00:00</td>\n",
       "      <td>5329.03</td>\n",
       "    </tr>\n",
       "    <tr>\n",
       "      <th>220</th>\n",
       "      <td>45</td>\n",
       "      <td>43</td>\n",
       "      <td>34</td>\n",
       "      <td>49</td>\n",
       "      <td>51</td>\n",
       "      <td>63</td>\n",
       "      <td>63</td>\n",
       "      <td>49</td>\n",
       "      <td>52</td>\n",
       "      <td>29</td>\n",
       "      <td>...</td>\n",
       "      <td>0</td>\n",
       "      <td>0</td>\n",
       "      <td>0</td>\n",
       "      <td>2</td>\n",
       "      <td>7</td>\n",
       "      <td>4</td>\n",
       "      <td>12</td>\n",
       "      <td>32</td>\n",
       "      <td>2023-09-02 11:00:00</td>\n",
       "      <td>5329.03</td>\n",
       "    </tr>\n",
       "    <tr>\n",
       "      <th>221</th>\n",
       "      <td>26</td>\n",
       "      <td>32</td>\n",
       "      <td>36</td>\n",
       "      <td>46</td>\n",
       "      <td>62</td>\n",
       "      <td>50</td>\n",
       "      <td>58</td>\n",
       "      <td>48</td>\n",
       "      <td>47</td>\n",
       "      <td>25</td>\n",
       "      <td>...</td>\n",
       "      <td>1</td>\n",
       "      <td>2</td>\n",
       "      <td>0</td>\n",
       "      <td>1</td>\n",
       "      <td>1</td>\n",
       "      <td>12</td>\n",
       "      <td>14</td>\n",
       "      <td>12</td>\n",
       "      <td>2023-09-03 11:00:00</td>\n",
       "      <td>5329.03</td>\n",
       "    </tr>\n",
       "    <tr>\n",
       "      <th>222</th>\n",
       "      <td>9</td>\n",
       "      <td>8</td>\n",
       "      <td>19</td>\n",
       "      <td>14</td>\n",
       "      <td>16</td>\n",
       "      <td>24</td>\n",
       "      <td>49</td>\n",
       "      <td>76</td>\n",
       "      <td>49</td>\n",
       "      <td>35</td>\n",
       "      <td>...</td>\n",
       "      <td>0</td>\n",
       "      <td>1</td>\n",
       "      <td>0</td>\n",
       "      <td>1</td>\n",
       "      <td>5</td>\n",
       "      <td>5</td>\n",
       "      <td>17</td>\n",
       "      <td>21</td>\n",
       "      <td>2023-09-04 11:00:00</td>\n",
       "      <td>5329.03</td>\n",
       "    </tr>\n",
       "    <tr>\n",
       "      <th>223</th>\n",
       "      <td>8</td>\n",
       "      <td>13</td>\n",
       "      <td>23</td>\n",
       "      <td>15</td>\n",
       "      <td>15</td>\n",
       "      <td>27</td>\n",
       "      <td>66</td>\n",
       "      <td>89</td>\n",
       "      <td>80</td>\n",
       "      <td>50</td>\n",
       "      <td>...</td>\n",
       "      <td>0</td>\n",
       "      <td>0</td>\n",
       "      <td>0</td>\n",
       "      <td>0</td>\n",
       "      <td>0</td>\n",
       "      <td>20</td>\n",
       "      <td>17</td>\n",
       "      <td>12</td>\n",
       "      <td>2023-09-05 11:00:00</td>\n",
       "      <td>5329.03</td>\n",
       "    </tr>\n",
       "  </tbody>\n",
       "</table>\n",
       "<p>5 rows × 674 columns</p>\n",
       "</div>"
      ],
      "text/plain": [
       "     rides_t-672  rides_t-671  rides_t-670  rides_t-669  rides_t-668  \\\n",
       "219           14           16           19           19           25   \n",
       "220           45           43           34           49           51   \n",
       "221           26           32           36           46           62   \n",
       "222            9            8           19           14           16   \n",
       "223            8           13           23           15           15   \n",
       "\n",
       "     rides_t-667  rides_t-666  rides_t-665  rides_t-664  rides_t-663  ...  \\\n",
       "219           46           56           48           29           23  ...   \n",
       "220           63           63           49           52           29  ...   \n",
       "221           50           58           48           47           25  ...   \n",
       "222           24           49           76           49           35  ...   \n",
       "223           27           66           89           80           50  ...   \n",
       "\n",
       "     rides_t-8  rides_t-7  rides_t-6  rides_t-5  rides_t-4  rides_t-3  \\\n",
       "219          0          0          0          4         15         14   \n",
       "220          0          0          0          2          7          4   \n",
       "221          1          2          0          1          1         12   \n",
       "222          0          1          0          1          5          5   \n",
       "223          0          0          0          0          0         20   \n",
       "\n",
       "     rides_t-2  rides_t-1         pickup_hour  pickup_location_id  \n",
       "219         13         16 2023-09-01 11:00:00             5329.03  \n",
       "220         12         32 2023-09-02 11:00:00             5329.03  \n",
       "221         14         12 2023-09-03 11:00:00             5329.03  \n",
       "222         17         21 2023-09-04 11:00:00             5329.03  \n",
       "223         17         12 2023-09-05 11:00:00             5329.03  \n",
       "\n",
       "[5 rows x 674 columns]"
      ]
     },
     "execution_count": 44,
     "metadata": {},
     "output_type": "execute_result"
    }
   ],
   "source": [
    "X_test.head()  # Get the total number of rows\n"
   ]
  },
  {
   "cell_type": "code",
   "execution_count": 45,
   "id": "d271232c-97c6-499b-b5c8-0a66149c5fef",
   "metadata": {},
   "outputs": [
    {
     "data": {
      "application/vnd.plotly.v1+json": {
       "config": {
        "plotlyServerURL": "https://plot.ly"
       },
       "data": [
        {
         "hovertemplate": "Time=%{x}<br>Ride Counts=%{y}<extra></extra>",
         "legendgroup": "",
         "line": {
          "color": "#636efa",
          "dash": "solid"
         },
         "marker": {
          "symbol": "circle"
         },
         "mode": "lines+markers",
         "name": "",
         "orientation": "v",
         "showlegend": false,
         "type": "scatter",
         "x": [
          "2023-11-10T11:00:00.000000000",
          "2023-11-10T12:00:00.000000000",
          "2023-11-10T13:00:00.000000000",
          "2023-11-10T14:00:00.000000000",
          "2023-11-10T15:00:00.000000000",
          "2023-11-10T16:00:00.000000000",
          "2023-11-10T17:00:00.000000000",
          "2023-11-10T18:00:00.000000000",
          "2023-11-10T19:00:00.000000000",
          "2023-11-10T20:00:00.000000000",
          "2023-11-10T21:00:00.000000000",
          "2023-11-10T22:00:00.000000000",
          "2023-11-10T23:00:00.000000000",
          "2023-11-11T00:00:00.000000000",
          "2023-11-11T01:00:00.000000000",
          "2023-11-11T02:00:00.000000000",
          "2023-11-11T03:00:00.000000000",
          "2023-11-11T04:00:00.000000000",
          "2023-11-11T05:00:00.000000000",
          "2023-11-11T06:00:00.000000000",
          "2023-11-11T07:00:00.000000000",
          "2023-11-11T08:00:00.000000000",
          "2023-11-11T09:00:00.000000000",
          "2023-11-11T10:00:00.000000000",
          "2023-11-11T11:00:00.000000000",
          "2023-11-11T12:00:00.000000000",
          "2023-11-11T13:00:00.000000000",
          "2023-11-11T14:00:00.000000000",
          "2023-11-11T15:00:00.000000000",
          "2023-11-11T16:00:00.000000000",
          "2023-11-11T17:00:00.000000000",
          "2023-11-11T18:00:00.000000000",
          "2023-11-11T19:00:00.000000000",
          "2023-11-11T20:00:00.000000000",
          "2023-11-11T21:00:00.000000000",
          "2023-11-11T22:00:00.000000000",
          "2023-11-11T23:00:00.000000000",
          "2023-11-12T00:00:00.000000000",
          "2023-11-12T01:00:00.000000000",
          "2023-11-12T02:00:00.000000000",
          "2023-11-12T03:00:00.000000000",
          "2023-11-12T04:00:00.000000000",
          "2023-11-12T05:00:00.000000000",
          "2023-11-12T06:00:00.000000000",
          "2023-11-12T07:00:00.000000000",
          "2023-11-12T08:00:00.000000000",
          "2023-11-12T09:00:00.000000000",
          "2023-11-12T10:00:00.000000000",
          "2023-11-12T11:00:00.000000000",
          "2023-11-12T12:00:00.000000000",
          "2023-11-12T13:00:00.000000000",
          "2023-11-12T14:00:00.000000000",
          "2023-11-12T15:00:00.000000000",
          "2023-11-12T16:00:00.000000000",
          "2023-11-12T17:00:00.000000000",
          "2023-11-12T18:00:00.000000000",
          "2023-11-12T19:00:00.000000000",
          "2023-11-12T20:00:00.000000000",
          "2023-11-12T21:00:00.000000000",
          "2023-11-12T22:00:00.000000000",
          "2023-11-12T23:00:00.000000000",
          "2023-11-13T00:00:00.000000000",
          "2023-11-13T01:00:00.000000000",
          "2023-11-13T02:00:00.000000000",
          "2023-11-13T03:00:00.000000000",
          "2023-11-13T04:00:00.000000000",
          "2023-11-13T05:00:00.000000000",
          "2023-11-13T06:00:00.000000000",
          "2023-11-13T07:00:00.000000000",
          "2023-11-13T08:00:00.000000000",
          "2023-11-13T09:00:00.000000000",
          "2023-11-13T10:00:00.000000000",
          "2023-11-13T11:00:00.000000000",
          "2023-11-13T12:00:00.000000000",
          "2023-11-13T13:00:00.000000000",
          "2023-11-13T14:00:00.000000000",
          "2023-11-13T15:00:00.000000000",
          "2023-11-13T16:00:00.000000000",
          "2023-11-13T17:00:00.000000000",
          "2023-11-13T18:00:00.000000000",
          "2023-11-13T19:00:00.000000000",
          "2023-11-13T20:00:00.000000000",
          "2023-11-13T21:00:00.000000000",
          "2023-11-13T22:00:00.000000000",
          "2023-11-13T23:00:00.000000000",
          "2023-11-14T00:00:00.000000000",
          "2023-11-14T01:00:00.000000000",
          "2023-11-14T02:00:00.000000000",
          "2023-11-14T03:00:00.000000000",
          "2023-11-14T04:00:00.000000000",
          "2023-11-14T05:00:00.000000000",
          "2023-11-14T06:00:00.000000000",
          "2023-11-14T07:00:00.000000000",
          "2023-11-14T08:00:00.000000000",
          "2023-11-14T09:00:00.000000000",
          "2023-11-14T10:00:00.000000000",
          "2023-11-14T11:00:00.000000000",
          "2023-11-14T12:00:00.000000000",
          "2023-11-14T13:00:00.000000000",
          "2023-11-14T14:00:00.000000000",
          "2023-11-14T15:00:00.000000000",
          "2023-11-14T16:00:00.000000000",
          "2023-11-14T17:00:00.000000000",
          "2023-11-14T18:00:00.000000000",
          "2023-11-14T19:00:00.000000000",
          "2023-11-14T20:00:00.000000000",
          "2023-11-14T21:00:00.000000000",
          "2023-11-14T22:00:00.000000000",
          "2023-11-14T23:00:00.000000000",
          "2023-11-15T00:00:00.000000000",
          "2023-11-15T01:00:00.000000000",
          "2023-11-15T02:00:00.000000000",
          "2023-11-15T03:00:00.000000000",
          "2023-11-15T04:00:00.000000000",
          "2023-11-15T05:00:00.000000000",
          "2023-11-15T06:00:00.000000000",
          "2023-11-15T07:00:00.000000000",
          "2023-11-15T08:00:00.000000000",
          "2023-11-15T09:00:00.000000000",
          "2023-11-15T10:00:00.000000000",
          "2023-11-15T11:00:00.000000000",
          "2023-11-15T12:00:00.000000000",
          "2023-11-15T13:00:00.000000000",
          "2023-11-15T14:00:00.000000000",
          "2023-11-15T15:00:00.000000000",
          "2023-11-15T16:00:00.000000000",
          "2023-11-15T17:00:00.000000000",
          "2023-11-15T18:00:00.000000000",
          "2023-11-15T19:00:00.000000000",
          "2023-11-15T20:00:00.000000000",
          "2023-11-15T21:00:00.000000000",
          "2023-11-15T22:00:00.000000000",
          "2023-11-15T23:00:00.000000000",
          "2023-11-16T00:00:00.000000000",
          "2023-11-16T01:00:00.000000000",
          "2023-11-16T02:00:00.000000000",
          "2023-11-16T03:00:00.000000000",
          "2023-11-16T04:00:00.000000000",
          "2023-11-16T05:00:00.000000000",
          "2023-11-16T06:00:00.000000000",
          "2023-11-16T07:00:00.000000000",
          "2023-11-16T08:00:00.000000000",
          "2023-11-16T09:00:00.000000000",
          "2023-11-16T10:00:00.000000000",
          "2023-11-16T11:00:00.000000000",
          "2023-11-16T12:00:00.000000000",
          "2023-11-16T13:00:00.000000000",
          "2023-11-16T14:00:00.000000000",
          "2023-11-16T15:00:00.000000000",
          "2023-11-16T16:00:00.000000000",
          "2023-11-16T17:00:00.000000000",
          "2023-11-16T18:00:00.000000000",
          "2023-11-16T19:00:00.000000000",
          "2023-11-16T20:00:00.000000000",
          "2023-11-16T21:00:00.000000000",
          "2023-11-16T22:00:00.000000000",
          "2023-11-16T23:00:00.000000000",
          "2023-11-17T00:00:00.000000000",
          "2023-11-17T01:00:00.000000000",
          "2023-11-17T02:00:00.000000000",
          "2023-11-17T03:00:00.000000000",
          "2023-11-17T04:00:00.000000000",
          "2023-11-17T05:00:00.000000000",
          "2023-11-17T06:00:00.000000000",
          "2023-11-17T07:00:00.000000000",
          "2023-11-17T08:00:00.000000000",
          "2023-11-17T09:00:00.000000000",
          "2023-11-17T10:00:00.000000000",
          "2023-11-17T11:00:00.000000000",
          "2023-11-17T12:00:00.000000000",
          "2023-11-17T13:00:00.000000000",
          "2023-11-17T14:00:00.000000000",
          "2023-11-17T15:00:00.000000000",
          "2023-11-17T16:00:00.000000000",
          "2023-11-17T17:00:00.000000000",
          "2023-11-17T18:00:00.000000000",
          "2023-11-17T19:00:00.000000000",
          "2023-11-17T20:00:00.000000000",
          "2023-11-17T21:00:00.000000000",
          "2023-11-17T22:00:00.000000000",
          "2023-11-17T23:00:00.000000000",
          "2023-11-18T00:00:00.000000000",
          "2023-11-18T01:00:00.000000000",
          "2023-11-18T02:00:00.000000000",
          "2023-11-18T03:00:00.000000000",
          "2023-11-18T04:00:00.000000000",
          "2023-11-18T05:00:00.000000000",
          "2023-11-18T06:00:00.000000000",
          "2023-11-18T07:00:00.000000000",
          "2023-11-18T08:00:00.000000000",
          "2023-11-18T09:00:00.000000000",
          "2023-11-18T10:00:00.000000000",
          "2023-11-18T11:00:00.000000000",
          "2023-11-18T12:00:00.000000000",
          "2023-11-18T13:00:00.000000000",
          "2023-11-18T14:00:00.000000000",
          "2023-11-18T15:00:00.000000000",
          "2023-11-18T16:00:00.000000000",
          "2023-11-18T17:00:00.000000000",
          "2023-11-18T18:00:00.000000000",
          "2023-11-18T19:00:00.000000000",
          "2023-11-18T20:00:00.000000000",
          "2023-11-18T21:00:00.000000000",
          "2023-11-18T22:00:00.000000000",
          "2023-11-18T23:00:00.000000000",
          "2023-11-19T00:00:00.000000000",
          "2023-11-19T01:00:00.000000000",
          "2023-11-19T02:00:00.000000000",
          "2023-11-19T03:00:00.000000000",
          "2023-11-19T04:00:00.000000000",
          "2023-11-19T05:00:00.000000000",
          "2023-11-19T06:00:00.000000000",
          "2023-11-19T07:00:00.000000000",
          "2023-11-19T08:00:00.000000000",
          "2023-11-19T09:00:00.000000000",
          "2023-11-19T10:00:00.000000000",
          "2023-11-19T11:00:00.000000000",
          "2023-11-19T12:00:00.000000000",
          "2023-11-19T13:00:00.000000000",
          "2023-11-19T14:00:00.000000000",
          "2023-11-19T15:00:00.000000000",
          "2023-11-19T16:00:00.000000000",
          "2023-11-19T17:00:00.000000000",
          "2023-11-19T18:00:00.000000000",
          "2023-11-19T19:00:00.000000000",
          "2023-11-19T20:00:00.000000000",
          "2023-11-19T21:00:00.000000000",
          "2023-11-19T22:00:00.000000000",
          "2023-11-19T23:00:00.000000000",
          "2023-11-20T00:00:00.000000000",
          "2023-11-20T01:00:00.000000000",
          "2023-11-20T02:00:00.000000000",
          "2023-11-20T03:00:00.000000000",
          "2023-11-20T04:00:00.000000000",
          "2023-11-20T05:00:00.000000000",
          "2023-11-20T06:00:00.000000000",
          "2023-11-20T07:00:00.000000000",
          "2023-11-20T08:00:00.000000000",
          "2023-11-20T09:00:00.000000000",
          "2023-11-20T10:00:00.000000000",
          "2023-11-20T11:00:00.000000000",
          "2023-11-20T12:00:00.000000000",
          "2023-11-20T13:00:00.000000000",
          "2023-11-20T14:00:00.000000000",
          "2023-11-20T15:00:00.000000000",
          "2023-11-20T16:00:00.000000000",
          "2023-11-20T17:00:00.000000000",
          "2023-11-20T18:00:00.000000000",
          "2023-11-20T19:00:00.000000000",
          "2023-11-20T20:00:00.000000000",
          "2023-11-20T21:00:00.000000000",
          "2023-11-20T22:00:00.000000000",
          "2023-11-20T23:00:00.000000000",
          "2023-11-21T00:00:00.000000000",
          "2023-11-21T01:00:00.000000000",
          "2023-11-21T02:00:00.000000000",
          "2023-11-21T03:00:00.000000000",
          "2023-11-21T04:00:00.000000000",
          "2023-11-21T05:00:00.000000000",
          "2023-11-21T06:00:00.000000000",
          "2023-11-21T07:00:00.000000000",
          "2023-11-21T08:00:00.000000000",
          "2023-11-21T09:00:00.000000000",
          "2023-11-21T10:00:00.000000000",
          "2023-11-21T11:00:00.000000000",
          "2023-11-21T12:00:00.000000000",
          "2023-11-21T13:00:00.000000000",
          "2023-11-21T14:00:00.000000000",
          "2023-11-21T15:00:00.000000000",
          "2023-11-21T16:00:00.000000000",
          "2023-11-21T17:00:00.000000000",
          "2023-11-21T18:00:00.000000000",
          "2023-11-21T19:00:00.000000000",
          "2023-11-21T20:00:00.000000000",
          "2023-11-21T21:00:00.000000000",
          "2023-11-21T22:00:00.000000000",
          "2023-11-21T23:00:00.000000000",
          "2023-11-22T00:00:00.000000000",
          "2023-11-22T01:00:00.000000000",
          "2023-11-22T02:00:00.000000000",
          "2023-11-22T03:00:00.000000000",
          "2023-11-22T04:00:00.000000000",
          "2023-11-22T05:00:00.000000000",
          "2023-11-22T06:00:00.000000000",
          "2023-11-22T07:00:00.000000000",
          "2023-11-22T08:00:00.000000000",
          "2023-11-22T09:00:00.000000000",
          "2023-11-22T10:00:00.000000000",
          "2023-11-22T11:00:00.000000000",
          "2023-11-22T12:00:00.000000000",
          "2023-11-22T13:00:00.000000000",
          "2023-11-22T14:00:00.000000000",
          "2023-11-22T15:00:00.000000000",
          "2023-11-22T16:00:00.000000000",
          "2023-11-22T17:00:00.000000000",
          "2023-11-22T18:00:00.000000000",
          "2023-11-22T19:00:00.000000000",
          "2023-11-22T20:00:00.000000000",
          "2023-11-22T21:00:00.000000000",
          "2023-11-22T22:00:00.000000000",
          "2023-11-22T23:00:00.000000000",
          "2023-11-23T00:00:00.000000000",
          "2023-11-23T01:00:00.000000000",
          "2023-11-23T02:00:00.000000000",
          "2023-11-23T03:00:00.000000000",
          "2023-11-23T04:00:00.000000000",
          "2023-11-23T05:00:00.000000000",
          "2023-11-23T06:00:00.000000000",
          "2023-11-23T07:00:00.000000000",
          "2023-11-23T08:00:00.000000000",
          "2023-11-23T09:00:00.000000000",
          "2023-11-23T10:00:00.000000000",
          "2023-11-23T11:00:00.000000000",
          "2023-11-23T12:00:00.000000000",
          "2023-11-23T13:00:00.000000000",
          "2023-11-23T14:00:00.000000000",
          "2023-11-23T15:00:00.000000000",
          "2023-11-23T16:00:00.000000000",
          "2023-11-23T17:00:00.000000000",
          "2023-11-23T18:00:00.000000000",
          "2023-11-23T19:00:00.000000000",
          "2023-11-23T20:00:00.000000000",
          "2023-11-23T21:00:00.000000000",
          "2023-11-23T22:00:00.000000000",
          "2023-11-23T23:00:00.000000000",
          "2023-11-24T00:00:00.000000000",
          "2023-11-24T01:00:00.000000000",
          "2023-11-24T02:00:00.000000000",
          "2023-11-24T03:00:00.000000000",
          "2023-11-24T04:00:00.000000000",
          "2023-11-24T05:00:00.000000000",
          "2023-11-24T06:00:00.000000000",
          "2023-11-24T07:00:00.000000000",
          "2023-11-24T08:00:00.000000000",
          "2023-11-24T09:00:00.000000000",
          "2023-11-24T10:00:00.000000000",
          "2023-11-24T11:00:00.000000000",
          "2023-11-24T12:00:00.000000000",
          "2023-11-24T13:00:00.000000000",
          "2023-11-24T14:00:00.000000000",
          "2023-11-24T15:00:00.000000000",
          "2023-11-24T16:00:00.000000000",
          "2023-11-24T17:00:00.000000000",
          "2023-11-24T18:00:00.000000000",
          "2023-11-24T19:00:00.000000000",
          "2023-11-24T20:00:00.000000000",
          "2023-11-24T21:00:00.000000000",
          "2023-11-24T22:00:00.000000000",
          "2023-11-24T23:00:00.000000000",
          "2023-11-25T00:00:00.000000000",
          "2023-11-25T01:00:00.000000000",
          "2023-11-25T02:00:00.000000000",
          "2023-11-25T03:00:00.000000000",
          "2023-11-25T04:00:00.000000000",
          "2023-11-25T05:00:00.000000000",
          "2023-11-25T06:00:00.000000000",
          "2023-11-25T07:00:00.000000000",
          "2023-11-25T08:00:00.000000000",
          "2023-11-25T09:00:00.000000000",
          "2023-11-25T10:00:00.000000000",
          "2023-11-25T11:00:00.000000000",
          "2023-11-25T12:00:00.000000000",
          "2023-11-25T13:00:00.000000000",
          "2023-11-25T14:00:00.000000000",
          "2023-11-25T15:00:00.000000000",
          "2023-11-25T16:00:00.000000000",
          "2023-11-25T17:00:00.000000000",
          "2023-11-25T18:00:00.000000000",
          "2023-11-25T19:00:00.000000000",
          "2023-11-25T20:00:00.000000000",
          "2023-11-25T21:00:00.000000000",
          "2023-11-25T22:00:00.000000000",
          "2023-11-25T23:00:00.000000000",
          "2023-11-26T00:00:00.000000000",
          "2023-11-26T01:00:00.000000000",
          "2023-11-26T02:00:00.000000000",
          "2023-11-26T03:00:00.000000000",
          "2023-11-26T04:00:00.000000000",
          "2023-11-26T05:00:00.000000000",
          "2023-11-26T06:00:00.000000000",
          "2023-11-26T07:00:00.000000000",
          "2023-11-26T08:00:00.000000000",
          "2023-11-26T09:00:00.000000000",
          "2023-11-26T10:00:00.000000000",
          "2023-11-26T11:00:00.000000000",
          "2023-11-26T12:00:00.000000000",
          "2023-11-26T13:00:00.000000000",
          "2023-11-26T14:00:00.000000000",
          "2023-11-26T15:00:00.000000000",
          "2023-11-26T16:00:00.000000000",
          "2023-11-26T17:00:00.000000000",
          "2023-11-26T18:00:00.000000000",
          "2023-11-26T19:00:00.000000000",
          "2023-11-26T20:00:00.000000000",
          "2023-11-26T21:00:00.000000000",
          "2023-11-26T22:00:00.000000000",
          "2023-11-26T23:00:00.000000000",
          "2023-11-27T00:00:00.000000000",
          "2023-11-27T01:00:00.000000000",
          "2023-11-27T02:00:00.000000000",
          "2023-11-27T03:00:00.000000000",
          "2023-11-27T04:00:00.000000000",
          "2023-11-27T05:00:00.000000000",
          "2023-11-27T06:00:00.000000000",
          "2023-11-27T07:00:00.000000000",
          "2023-11-27T08:00:00.000000000",
          "2023-11-27T09:00:00.000000000",
          "2023-11-27T10:00:00.000000000",
          "2023-11-27T11:00:00.000000000",
          "2023-11-27T12:00:00.000000000",
          "2023-11-27T13:00:00.000000000",
          "2023-11-27T14:00:00.000000000",
          "2023-11-27T15:00:00.000000000",
          "2023-11-27T16:00:00.000000000",
          "2023-11-27T17:00:00.000000000",
          "2023-11-27T18:00:00.000000000",
          "2023-11-27T19:00:00.000000000",
          "2023-11-27T20:00:00.000000000",
          "2023-11-27T21:00:00.000000000",
          "2023-11-27T22:00:00.000000000",
          "2023-11-27T23:00:00.000000000",
          "2023-11-28T00:00:00.000000000",
          "2023-11-28T01:00:00.000000000",
          "2023-11-28T02:00:00.000000000",
          "2023-11-28T03:00:00.000000000",
          "2023-11-28T04:00:00.000000000",
          "2023-11-28T05:00:00.000000000",
          "2023-11-28T06:00:00.000000000",
          "2023-11-28T07:00:00.000000000",
          "2023-11-28T08:00:00.000000000",
          "2023-11-28T09:00:00.000000000",
          "2023-11-28T10:00:00.000000000",
          "2023-11-28T11:00:00.000000000",
          "2023-11-28T12:00:00.000000000",
          "2023-11-28T13:00:00.000000000",
          "2023-11-28T14:00:00.000000000",
          "2023-11-28T15:00:00.000000000",
          "2023-11-28T16:00:00.000000000",
          "2023-11-28T17:00:00.000000000",
          "2023-11-28T18:00:00.000000000",
          "2023-11-28T19:00:00.000000000",
          "2023-11-28T20:00:00.000000000",
          "2023-11-28T21:00:00.000000000",
          "2023-11-28T22:00:00.000000000",
          "2023-11-28T23:00:00.000000000",
          "2023-11-29T00:00:00.000000000",
          "2023-11-29T01:00:00.000000000",
          "2023-11-29T02:00:00.000000000",
          "2023-11-29T03:00:00.000000000",
          "2023-11-29T04:00:00.000000000",
          "2023-11-29T05:00:00.000000000",
          "2023-11-29T06:00:00.000000000",
          "2023-11-29T07:00:00.000000000",
          "2023-11-29T08:00:00.000000000",
          "2023-11-29T09:00:00.000000000",
          "2023-11-29T10:00:00.000000000",
          "2023-11-29T11:00:00.000000000",
          "2023-11-29T12:00:00.000000000",
          "2023-11-29T13:00:00.000000000",
          "2023-11-29T14:00:00.000000000",
          "2023-11-29T15:00:00.000000000",
          "2023-11-29T16:00:00.000000000",
          "2023-11-29T17:00:00.000000000",
          "2023-11-29T18:00:00.000000000",
          "2023-11-29T19:00:00.000000000",
          "2023-11-29T20:00:00.000000000",
          "2023-11-29T21:00:00.000000000",
          "2023-11-29T22:00:00.000000000",
          "2023-11-29T23:00:00.000000000",
          "2023-11-30T00:00:00.000000000",
          "2023-11-30T01:00:00.000000000",
          "2023-11-30T02:00:00.000000000",
          "2023-11-30T03:00:00.000000000",
          "2023-11-30T04:00:00.000000000",
          "2023-11-30T05:00:00.000000000",
          "2023-11-30T06:00:00.000000000",
          "2023-11-30T07:00:00.000000000",
          "2023-11-30T08:00:00.000000000",
          "2023-11-30T09:00:00.000000000",
          "2023-11-30T10:00:00.000000000",
          "2023-11-30T11:00:00.000000000",
          "2023-11-30T12:00:00.000000000",
          "2023-11-30T13:00:00.000000000",
          "2023-11-30T14:00:00.000000000",
          "2023-11-30T15:00:00.000000000",
          "2023-11-30T16:00:00.000000000",
          "2023-11-30T17:00:00.000000000",
          "2023-11-30T18:00:00.000000000",
          "2023-11-30T19:00:00.000000000",
          "2023-11-30T20:00:00.000000000",
          "2023-11-30T21:00:00.000000000",
          "2023-11-30T22:00:00.000000000",
          "2023-11-30T23:00:00.000000000",
          "2023-12-01T00:00:00.000000000",
          "2023-12-01T01:00:00.000000000",
          "2023-12-01T02:00:00.000000000",
          "2023-12-01T03:00:00.000000000",
          "2023-12-01T04:00:00.000000000",
          "2023-12-01T05:00:00.000000000",
          "2023-12-01T06:00:00.000000000",
          "2023-12-01T07:00:00.000000000",
          "2023-12-01T08:00:00.000000000",
          "2023-12-01T09:00:00.000000000",
          "2023-12-01T10:00:00.000000000",
          "2023-12-01T11:00:00.000000000",
          "2023-12-01T12:00:00.000000000",
          "2023-12-01T13:00:00.000000000",
          "2023-12-01T14:00:00.000000000",
          "2023-12-01T15:00:00.000000000",
          "2023-12-01T16:00:00.000000000",
          "2023-12-01T17:00:00.000000000",
          "2023-12-01T18:00:00.000000000",
          "2023-12-01T19:00:00.000000000",
          "2023-12-01T20:00:00.000000000",
          "2023-12-01T21:00:00.000000000",
          "2023-12-01T22:00:00.000000000",
          "2023-12-01T23:00:00.000000000",
          "2023-12-02T00:00:00.000000000",
          "2023-12-02T01:00:00.000000000",
          "2023-12-02T02:00:00.000000000",
          "2023-12-02T03:00:00.000000000",
          "2023-12-02T04:00:00.000000000",
          "2023-12-02T05:00:00.000000000",
          "2023-12-02T06:00:00.000000000",
          "2023-12-02T07:00:00.000000000",
          "2023-12-02T08:00:00.000000000",
          "2023-12-02T09:00:00.000000000",
          "2023-12-02T10:00:00.000000000",
          "2023-12-02T11:00:00.000000000",
          "2023-12-02T12:00:00.000000000",
          "2023-12-02T13:00:00.000000000",
          "2023-12-02T14:00:00.000000000",
          "2023-12-02T15:00:00.000000000",
          "2023-12-02T16:00:00.000000000",
          "2023-12-02T17:00:00.000000000",
          "2023-12-02T18:00:00.000000000",
          "2023-12-02T19:00:00.000000000",
          "2023-12-02T20:00:00.000000000",
          "2023-12-02T21:00:00.000000000",
          "2023-12-02T22:00:00.000000000",
          "2023-12-02T23:00:00.000000000",
          "2023-12-03T00:00:00.000000000",
          "2023-12-03T01:00:00.000000000",
          "2023-12-03T02:00:00.000000000",
          "2023-12-03T03:00:00.000000000",
          "2023-12-03T04:00:00.000000000",
          "2023-12-03T05:00:00.000000000",
          "2023-12-03T06:00:00.000000000",
          "2023-12-03T07:00:00.000000000",
          "2023-12-03T08:00:00.000000000",
          "2023-12-03T09:00:00.000000000",
          "2023-12-03T10:00:00.000000000",
          "2023-12-03T11:00:00.000000000",
          "2023-12-03T12:00:00.000000000",
          "2023-12-03T13:00:00.000000000",
          "2023-12-03T14:00:00.000000000",
          "2023-12-03T15:00:00.000000000",
          "2023-12-03T16:00:00.000000000",
          "2023-12-03T17:00:00.000000000",
          "2023-12-03T18:00:00.000000000",
          "2023-12-03T19:00:00.000000000",
          "2023-12-03T20:00:00.000000000",
          "2023-12-03T21:00:00.000000000",
          "2023-12-03T22:00:00.000000000",
          "2023-12-03T23:00:00.000000000",
          "2023-12-04T00:00:00.000000000",
          "2023-12-04T01:00:00.000000000",
          "2023-12-04T02:00:00.000000000",
          "2023-12-04T03:00:00.000000000",
          "2023-12-04T04:00:00.000000000",
          "2023-12-04T05:00:00.000000000",
          "2023-12-04T06:00:00.000000000",
          "2023-12-04T07:00:00.000000000",
          "2023-12-04T08:00:00.000000000",
          "2023-12-04T09:00:00.000000000",
          "2023-12-04T10:00:00.000000000",
          "2023-12-04T11:00:00.000000000",
          "2023-12-04T12:00:00.000000000",
          "2023-12-04T13:00:00.000000000",
          "2023-12-04T14:00:00.000000000",
          "2023-12-04T15:00:00.000000000",
          "2023-12-04T16:00:00.000000000",
          "2023-12-04T17:00:00.000000000",
          "2023-12-04T18:00:00.000000000",
          "2023-12-04T19:00:00.000000000",
          "2023-12-04T20:00:00.000000000",
          "2023-12-04T21:00:00.000000000",
          "2023-12-04T22:00:00.000000000",
          "2023-12-04T23:00:00.000000000",
          "2023-12-05T00:00:00.000000000",
          "2023-12-05T01:00:00.000000000",
          "2023-12-05T02:00:00.000000000",
          "2023-12-05T03:00:00.000000000",
          "2023-12-05T04:00:00.000000000",
          "2023-12-05T05:00:00.000000000",
          "2023-12-05T06:00:00.000000000",
          "2023-12-05T07:00:00.000000000",
          "2023-12-05T08:00:00.000000000",
          "2023-12-05T09:00:00.000000000",
          "2023-12-05T10:00:00.000000000",
          "2023-12-05T11:00:00.000000000",
          "2023-12-05T12:00:00.000000000",
          "2023-12-05T13:00:00.000000000",
          "2023-12-05T14:00:00.000000000",
          "2023-12-05T15:00:00.000000000",
          "2023-12-05T16:00:00.000000000",
          "2023-12-05T17:00:00.000000000",
          "2023-12-05T18:00:00.000000000",
          "2023-12-05T19:00:00.000000000",
          "2023-12-05T20:00:00.000000000",
          "2023-12-05T21:00:00.000000000",
          "2023-12-05T22:00:00.000000000",
          "2023-12-05T23:00:00.000000000",
          "2023-12-06T00:00:00.000000000",
          "2023-12-06T01:00:00.000000000",
          "2023-12-06T02:00:00.000000000",
          "2023-12-06T03:00:00.000000000",
          "2023-12-06T04:00:00.000000000",
          "2023-12-06T05:00:00.000000000",
          "2023-12-06T06:00:00.000000000",
          "2023-12-06T07:00:00.000000000",
          "2023-12-06T08:00:00.000000000",
          "2023-12-06T09:00:00.000000000",
          "2023-12-06T10:00:00.000000000",
          "2023-12-06T11:00:00.000000000",
          "2023-12-06T12:00:00.000000000",
          "2023-12-06T13:00:00.000000000",
          "2023-12-06T14:00:00.000000000",
          "2023-12-06T15:00:00.000000000",
          "2023-12-06T16:00:00.000000000",
          "2023-12-06T17:00:00.000000000",
          "2023-12-06T18:00:00.000000000",
          "2023-12-06T19:00:00.000000000",
          "2023-12-06T20:00:00.000000000",
          "2023-12-06T21:00:00.000000000",
          "2023-12-06T22:00:00.000000000",
          "2023-12-06T23:00:00.000000000",
          "2023-12-07T00:00:00.000000000",
          "2023-12-07T01:00:00.000000000",
          "2023-12-07T02:00:00.000000000",
          "2023-12-07T03:00:00.000000000",
          "2023-12-07T04:00:00.000000000",
          "2023-12-07T05:00:00.000000000",
          "2023-12-07T06:00:00.000000000",
          "2023-12-07T07:00:00.000000000",
          "2023-12-07T08:00:00.000000000",
          "2023-12-07T09:00:00.000000000",
          "2023-12-07T10:00:00.000000000",
          "2023-12-07T11:00:00.000000000",
          "2023-12-07T12:00:00.000000000",
          "2023-12-07T13:00:00.000000000",
          "2023-12-07T14:00:00.000000000",
          "2023-12-07T15:00:00.000000000",
          "2023-12-07T16:00:00.000000000",
          "2023-12-07T17:00:00.000000000",
          "2023-12-07T18:00:00.000000000",
          "2023-12-07T19:00:00.000000000",
          "2023-12-07T20:00:00.000000000",
          "2023-12-07T21:00:00.000000000",
          "2023-12-07T22:00:00.000000000",
          "2023-12-07T23:00:00.000000000",
          "2023-12-08T00:00:00.000000000",
          "2023-12-08T01:00:00.000000000",
          "2023-12-08T02:00:00.000000000",
          "2023-12-08T03:00:00.000000000",
          "2023-12-08T04:00:00.000000000",
          "2023-12-08T05:00:00.000000000",
          "2023-12-08T06:00:00.000000000",
          "2023-12-08T07:00:00.000000000",
          "2023-12-08T08:00:00.000000000",
          "2023-12-08T09:00:00.000000000",
          "2023-12-08T10:00:00.000000000",
          "2023-12-08T11:00:00.000000000"
         ],
         "xaxis": "x",
         "y": {
          "bdata": "IisiJCIrJyoYDgcKBQcGBQAAAQEDCRUfIDAsKR4nHxcTDwMGCgcCAwMAAQACBgYaHCUhGhchIiMRDwYEAwAAAAAAAQYIIyUOFRsgFB4nPTseGwoGBQAAAAAAAQcUJCEZGBomHRcuLkMmGggEBAEAAAAAAQQOLCoQGyIYJCcnM0MjEwoJAwQCAAAAAgkKJCUUHRgrICopMUcpGg0KAgEBAAABAgcUIiAaFhsuKy8wOTokHg8EAwMEAgMBAAACERMWFCceHR4gHxkREQYJBgIABgEAAAABDQwlIhcXJB8nGxgZEAQDAAABAAAAAQgQExcRHBcgGB0iKSseGAUFAwEAAAAAAQoKGBwSEhoVGwgRFRIEBwEAAQEBAAABAAEFDRIRHhwnJCoeJhkUDwcDBAMAAAACAAEAAgcFBwQEBgUGAQACAwABAQAAAAAAAAEABQsQDBARGB0YERALBAUDAAECAAABAQECAgYNGBUXFxwSDw4LCAUBAgMCAgEAAAABBgoNEx0gIgwRCwcJCQEAAAICAwAAAwMSHA8XFScfHCMtNTIpHQwHAgMAAAAAAwkMIh0RCxIUGhsWJTEpFQ4EAgAAAAAAAwYPHRoOEhsWEhglJS8oFAkGAwEAAAAAAQsMGRkaGiEjIyApNC4mEgoIBQIAAQAAAwcLHhUUFxITGB0QCgsJBAQDAQUDAQAAAwIAEhAXJygvIS4vHSUOFgoIBggFAwIAAgAAAwAECg0QDAwOEx4OBAQFBAIAAAAAAQQHJRkXFicjGCIiLTQoFAQBAwIBAAAAAAoKIBgRFBgYGiEbLDQiFw0FBAAAAAAAAAYMGhcXGBwRGRceICwiEQwDAwAAAQAAAAgLFxYODxAYHB8dJS8eDgwJBAIDAAABAQQHHRENDg==",
          "dtype": "i1"
         },
         "yaxis": "y"
        },
        {
         "line": {
          "color": "green"
         },
         "marker": {
          "size": 10
         },
         "mode": "markers",
         "name": "Actual Value",
         "type": "scatter",
         "x": [
          "2023-12-08T11:00:00.000000000"
         ],
         "y": [
          14
         ]
        },
        {
         "line": {
          "color": "red"
         },
         "marker": {
          "size": 15,
          "symbol": "x"
         },
         "mode": "markers",
         "name": "Prediction",
         "type": "scatter",
         "x": [
          "2023-12-08T11:00:00.000000000"
         ],
         "y": [
          22.75
         ]
        }
       ],
       "layout": {
        "legend": {
         "tracegroupgap": 0
        },
        "template": {
         "data": {
          "bar": [
           {
            "error_x": {
             "color": "#2a3f5f"
            },
            "error_y": {
             "color": "#2a3f5f"
            },
            "marker": {
             "line": {
              "color": "white",
              "width": 0.5
             },
             "pattern": {
              "fillmode": "overlay",
              "size": 10,
              "solidity": 0.2
             }
            },
            "type": "bar"
           }
          ],
          "barpolar": [
           {
            "marker": {
             "line": {
              "color": "white",
              "width": 0.5
             },
             "pattern": {
              "fillmode": "overlay",
              "size": 10,
              "solidity": 0.2
             }
            },
            "type": "barpolar"
           }
          ],
          "carpet": [
           {
            "aaxis": {
             "endlinecolor": "#2a3f5f",
             "gridcolor": "#C8D4E3",
             "linecolor": "#C8D4E3",
             "minorgridcolor": "#C8D4E3",
             "startlinecolor": "#2a3f5f"
            },
            "baxis": {
             "endlinecolor": "#2a3f5f",
             "gridcolor": "#C8D4E3",
             "linecolor": "#C8D4E3",
             "minorgridcolor": "#C8D4E3",
             "startlinecolor": "#2a3f5f"
            },
            "type": "carpet"
           }
          ],
          "choropleth": [
           {
            "colorbar": {
             "outlinewidth": 0,
             "ticks": ""
            },
            "type": "choropleth"
           }
          ],
          "contour": [
           {
            "colorbar": {
             "outlinewidth": 0,
             "ticks": ""
            },
            "colorscale": [
             [
              0,
              "#0d0887"
             ],
             [
              0.1111111111111111,
              "#46039f"
             ],
             [
              0.2222222222222222,
              "#7201a8"
             ],
             [
              0.3333333333333333,
              "#9c179e"
             ],
             [
              0.4444444444444444,
              "#bd3786"
             ],
             [
              0.5555555555555556,
              "#d8576b"
             ],
             [
              0.6666666666666666,
              "#ed7953"
             ],
             [
              0.7777777777777778,
              "#fb9f3a"
             ],
             [
              0.8888888888888888,
              "#fdca26"
             ],
             [
              1,
              "#f0f921"
             ]
            ],
            "type": "contour"
           }
          ],
          "contourcarpet": [
           {
            "colorbar": {
             "outlinewidth": 0,
             "ticks": ""
            },
            "type": "contourcarpet"
           }
          ],
          "heatmap": [
           {
            "colorbar": {
             "outlinewidth": 0,
             "ticks": ""
            },
            "colorscale": [
             [
              0,
              "#0d0887"
             ],
             [
              0.1111111111111111,
              "#46039f"
             ],
             [
              0.2222222222222222,
              "#7201a8"
             ],
             [
              0.3333333333333333,
              "#9c179e"
             ],
             [
              0.4444444444444444,
              "#bd3786"
             ],
             [
              0.5555555555555556,
              "#d8576b"
             ],
             [
              0.6666666666666666,
              "#ed7953"
             ],
             [
              0.7777777777777778,
              "#fb9f3a"
             ],
             [
              0.8888888888888888,
              "#fdca26"
             ],
             [
              1,
              "#f0f921"
             ]
            ],
            "type": "heatmap"
           }
          ],
          "histogram": [
           {
            "marker": {
             "pattern": {
              "fillmode": "overlay",
              "size": 10,
              "solidity": 0.2
             }
            },
            "type": "histogram"
           }
          ],
          "histogram2d": [
           {
            "colorbar": {
             "outlinewidth": 0,
             "ticks": ""
            },
            "colorscale": [
             [
              0,
              "#0d0887"
             ],
             [
              0.1111111111111111,
              "#46039f"
             ],
             [
              0.2222222222222222,
              "#7201a8"
             ],
             [
              0.3333333333333333,
              "#9c179e"
             ],
             [
              0.4444444444444444,
              "#bd3786"
             ],
             [
              0.5555555555555556,
              "#d8576b"
             ],
             [
              0.6666666666666666,
              "#ed7953"
             ],
             [
              0.7777777777777778,
              "#fb9f3a"
             ],
             [
              0.8888888888888888,
              "#fdca26"
             ],
             [
              1,
              "#f0f921"
             ]
            ],
            "type": "histogram2d"
           }
          ],
          "histogram2dcontour": [
           {
            "colorbar": {
             "outlinewidth": 0,
             "ticks": ""
            },
            "colorscale": [
             [
              0,
              "#0d0887"
             ],
             [
              0.1111111111111111,
              "#46039f"
             ],
             [
              0.2222222222222222,
              "#7201a8"
             ],
             [
              0.3333333333333333,
              "#9c179e"
             ],
             [
              0.4444444444444444,
              "#bd3786"
             ],
             [
              0.5555555555555556,
              "#d8576b"
             ],
             [
              0.6666666666666666,
              "#ed7953"
             ],
             [
              0.7777777777777778,
              "#fb9f3a"
             ],
             [
              0.8888888888888888,
              "#fdca26"
             ],
             [
              1,
              "#f0f921"
             ]
            ],
            "type": "histogram2dcontour"
           }
          ],
          "mesh3d": [
           {
            "colorbar": {
             "outlinewidth": 0,
             "ticks": ""
            },
            "type": "mesh3d"
           }
          ],
          "parcoords": [
           {
            "line": {
             "colorbar": {
              "outlinewidth": 0,
              "ticks": ""
             }
            },
            "type": "parcoords"
           }
          ],
          "pie": [
           {
            "automargin": true,
            "type": "pie"
           }
          ],
          "scatter": [
           {
            "fillpattern": {
             "fillmode": "overlay",
             "size": 10,
             "solidity": 0.2
            },
            "type": "scatter"
           }
          ],
          "scatter3d": [
           {
            "line": {
             "colorbar": {
              "outlinewidth": 0,
              "ticks": ""
             }
            },
            "marker": {
             "colorbar": {
              "outlinewidth": 0,
              "ticks": ""
             }
            },
            "type": "scatter3d"
           }
          ],
          "scattercarpet": [
           {
            "marker": {
             "colorbar": {
              "outlinewidth": 0,
              "ticks": ""
             }
            },
            "type": "scattercarpet"
           }
          ],
          "scattergeo": [
           {
            "marker": {
             "colorbar": {
              "outlinewidth": 0,
              "ticks": ""
             }
            },
            "type": "scattergeo"
           }
          ],
          "scattergl": [
           {
            "marker": {
             "colorbar": {
              "outlinewidth": 0,
              "ticks": ""
             }
            },
            "type": "scattergl"
           }
          ],
          "scattermap": [
           {
            "marker": {
             "colorbar": {
              "outlinewidth": 0,
              "ticks": ""
             }
            },
            "type": "scattermap"
           }
          ],
          "scattermapbox": [
           {
            "marker": {
             "colorbar": {
              "outlinewidth": 0,
              "ticks": ""
             }
            },
            "type": "scattermapbox"
           }
          ],
          "scatterpolar": [
           {
            "marker": {
             "colorbar": {
              "outlinewidth": 0,
              "ticks": ""
             }
            },
            "type": "scatterpolar"
           }
          ],
          "scatterpolargl": [
           {
            "marker": {
             "colorbar": {
              "outlinewidth": 0,
              "ticks": ""
             }
            },
            "type": "scatterpolargl"
           }
          ],
          "scatterternary": [
           {
            "marker": {
             "colorbar": {
              "outlinewidth": 0,
              "ticks": ""
             }
            },
            "type": "scatterternary"
           }
          ],
          "surface": [
           {
            "colorbar": {
             "outlinewidth": 0,
             "ticks": ""
            },
            "colorscale": [
             [
              0,
              "#0d0887"
             ],
             [
              0.1111111111111111,
              "#46039f"
             ],
             [
              0.2222222222222222,
              "#7201a8"
             ],
             [
              0.3333333333333333,
              "#9c179e"
             ],
             [
              0.4444444444444444,
              "#bd3786"
             ],
             [
              0.5555555555555556,
              "#d8576b"
             ],
             [
              0.6666666666666666,
              "#ed7953"
             ],
             [
              0.7777777777777778,
              "#fb9f3a"
             ],
             [
              0.8888888888888888,
              "#fdca26"
             ],
             [
              1,
              "#f0f921"
             ]
            ],
            "type": "surface"
           }
          ],
          "table": [
           {
            "cells": {
             "fill": {
              "color": "#EBF0F8"
             },
             "line": {
              "color": "white"
             }
            },
            "header": {
             "fill": {
              "color": "#C8D4E3"
             },
             "line": {
              "color": "white"
             }
            },
            "type": "table"
           }
          ]
         },
         "layout": {
          "annotationdefaults": {
           "arrowcolor": "#2a3f5f",
           "arrowhead": 0,
           "arrowwidth": 1
          },
          "autotypenumbers": "strict",
          "coloraxis": {
           "colorbar": {
            "outlinewidth": 0,
            "ticks": ""
           }
          },
          "colorscale": {
           "diverging": [
            [
             0,
             "#8e0152"
            ],
            [
             0.1,
             "#c51b7d"
            ],
            [
             0.2,
             "#de77ae"
            ],
            [
             0.3,
             "#f1b6da"
            ],
            [
             0.4,
             "#fde0ef"
            ],
            [
             0.5,
             "#f7f7f7"
            ],
            [
             0.6,
             "#e6f5d0"
            ],
            [
             0.7,
             "#b8e186"
            ],
            [
             0.8,
             "#7fbc41"
            ],
            [
             0.9,
             "#4d9221"
            ],
            [
             1,
             "#276419"
            ]
           ],
           "sequential": [
            [
             0,
             "#0d0887"
            ],
            [
             0.1111111111111111,
             "#46039f"
            ],
            [
             0.2222222222222222,
             "#7201a8"
            ],
            [
             0.3333333333333333,
             "#9c179e"
            ],
            [
             0.4444444444444444,
             "#bd3786"
            ],
            [
             0.5555555555555556,
             "#d8576b"
            ],
            [
             0.6666666666666666,
             "#ed7953"
            ],
            [
             0.7777777777777778,
             "#fb9f3a"
            ],
            [
             0.8888888888888888,
             "#fdca26"
            ],
            [
             1,
             "#f0f921"
            ]
           ],
           "sequentialminus": [
            [
             0,
             "#0d0887"
            ],
            [
             0.1111111111111111,
             "#46039f"
            ],
            [
             0.2222222222222222,
             "#7201a8"
            ],
            [
             0.3333333333333333,
             "#9c179e"
            ],
            [
             0.4444444444444444,
             "#bd3786"
            ],
            [
             0.5555555555555556,
             "#d8576b"
            ],
            [
             0.6666666666666666,
             "#ed7953"
            ],
            [
             0.7777777777777778,
             "#fb9f3a"
            ],
            [
             0.8888888888888888,
             "#fdca26"
            ],
            [
             1,
             "#f0f921"
            ]
           ]
          },
          "colorway": [
           "#636efa",
           "#EF553B",
           "#00cc96",
           "#ab63fa",
           "#FFA15A",
           "#19d3f3",
           "#FF6692",
           "#B6E880",
           "#FF97FF",
           "#FECB52"
          ],
          "font": {
           "color": "#2a3f5f"
          },
          "geo": {
           "bgcolor": "white",
           "lakecolor": "white",
           "landcolor": "white",
           "showlakes": true,
           "showland": true,
           "subunitcolor": "#C8D4E3"
          },
          "hoverlabel": {
           "align": "left"
          },
          "hovermode": "closest",
          "mapbox": {
           "style": "light"
          },
          "paper_bgcolor": "white",
          "plot_bgcolor": "white",
          "polar": {
           "angularaxis": {
            "gridcolor": "#EBF0F8",
            "linecolor": "#EBF0F8",
            "ticks": ""
           },
           "bgcolor": "white",
           "radialaxis": {
            "gridcolor": "#EBF0F8",
            "linecolor": "#EBF0F8",
            "ticks": ""
           }
          },
          "scene": {
           "xaxis": {
            "backgroundcolor": "white",
            "gridcolor": "#DFE8F3",
            "gridwidth": 2,
            "linecolor": "#EBF0F8",
            "showbackground": true,
            "ticks": "",
            "zerolinecolor": "#EBF0F8"
           },
           "yaxis": {
            "backgroundcolor": "white",
            "gridcolor": "#DFE8F3",
            "gridwidth": 2,
            "linecolor": "#EBF0F8",
            "showbackground": true,
            "ticks": "",
            "zerolinecolor": "#EBF0F8"
           },
           "zaxis": {
            "backgroundcolor": "white",
            "gridcolor": "#DFE8F3",
            "gridwidth": 2,
            "linecolor": "#EBF0F8",
            "showbackground": true,
            "ticks": "",
            "zerolinecolor": "#EBF0F8"
           }
          },
          "shapedefaults": {
           "line": {
            "color": "#2a3f5f"
           }
          },
          "ternary": {
           "aaxis": {
            "gridcolor": "#DFE8F3",
            "linecolor": "#A2B1C6",
            "ticks": ""
           },
           "baxis": {
            "gridcolor": "#DFE8F3",
            "linecolor": "#A2B1C6",
            "ticks": ""
           },
           "bgcolor": "white",
           "caxis": {
            "gridcolor": "#DFE8F3",
            "linecolor": "#A2B1C6",
            "ticks": ""
           }
          },
          "title": {
           "x": 0.05
          },
          "xaxis": {
           "automargin": true,
           "gridcolor": "#EBF0F8",
           "linecolor": "#EBF0F8",
           "ticks": "",
           "title": {
            "standoff": 15
           },
           "zerolinecolor": "#EBF0F8",
           "zerolinewidth": 2
          },
          "yaxis": {
           "automargin": true,
           "gridcolor": "#EBF0F8",
           "linecolor": "#EBF0F8",
           "ticks": "",
           "title": {
            "standoff": 15
           },
           "zerolinecolor": "#EBF0F8",
           "zerolinewidth": 2
          }
         }
        },
        "title": {
         "text": "Pickup Hour: 2023-12-08 11:00:00, Location ID: 6140.05"
        },
        "xaxis": {
         "anchor": "y",
         "domain": [
          0,
          1
         ],
         "title": {
          "text": "Time"
         }
        },
        "yaxis": {
         "anchor": "x",
         "domain": [
          0,
          1
         ],
         "title": {
          "text": "Ride Counts"
         }
        }
       }
      }
     },
     "metadata": {},
     "output_type": "display_data"
    }
   ],
   "source": [
    "plot_aggregated_time_series(X_test, y_test, row_id=220, predictions=predictions)\n"
   ]
  },
  {
   "cell_type": "code",
   "execution_count": null,
   "id": "9aa7df16",
   "metadata": {},
   "outputs": [],
   "source": []
  }
 ],
 "metadata": {
  "kernelspec": {
   "display_name": "sp25_citibike",
   "language": "python",
   "name": "python3"
  },
  "language_info": {
   "codemirror_mode": {
    "name": "ipython",
    "version": 3
   },
   "file_extension": ".py",
   "mimetype": "text/x-python",
   "name": "python",
   "nbconvert_exporter": "python",
   "pygments_lexer": "ipython3",
   "version": "3.10.17"
  }
 },
 "nbformat": 4,
 "nbformat_minor": 5
}

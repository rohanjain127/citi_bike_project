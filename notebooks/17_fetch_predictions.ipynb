{
 "cells": [
  {
   "cell_type": "code",
   "execution_count": 1,
   "id": "11351e87",
   "metadata": {},
   "outputs": [],
   "source": [
    "%load_ext autoreload\n",
    "%autoreload 2\n",
    "\n",
    "import sys\n",
    "import os\n",
    "import pandas as pd\n",
    "from datetime import datetime, timezone, timedelta\n",
    "\n",
    "# Add the parent directory to the Python path\n",
    "sys.path.append(os.path.abspath(os.path.join(os.getcwd(), \"..\")))\n",
    "\n",
    "import src.config as config\n",
    "from src.inference import get_feature_store\n"
   ]
  },
  {
   "cell_type": "code",
   "execution_count": 2,
   "id": "93ee93cf",
   "metadata": {},
   "outputs": [
    {
     "name": "stdout",
     "output_type": "stream",
     "text": [
      "📅 Using fixed hour for predictions: 2025-03-31 23:00:00+00:00\n"
     ]
    }
   ],
   "source": [
    "# Use fixed datetime since April data is not available\n",
    "fixed_hour = pd.Timestamp(\"2025-03-31 23:00:00\", tz=\"UTC\")\n",
    "print(f\"📅 Using fixed hour for predictions: {fixed_hour}\")\n"
   ]
  },
  {
   "cell_type": "code",
   "execution_count": 3,
   "id": "c819404e",
   "metadata": {},
   "outputs": [
    {
     "name": "stdout",
     "output_type": "stream",
     "text": [
      "2025-05-03 00:54:45,591 INFO: Initializing external client\n",
      "2025-05-03 00:54:45,591 INFO: Base URL: https://c.app.hopsworks.ai:443\n",
      "2025-05-03 00:54:46,500 INFO: Python Engine initialized.\n",
      "\n",
      "Logged in to project, explore it here https://c.app.hopsworks.ai:443/p/1214683\n",
      "Finished: Reading data from Hopsworks, using Hopsworks Feature Query Service (1.07s) \n"
     ]
    }
   ],
   "source": [
    "# Connect to Hopsworks feature store\n",
    "fs = get_feature_store()\n",
    "fg = fs.get_feature_group(\n",
    "    name=config.FEATURE_GROUP_MODEL_PREDICTION,\n",
    "    version=1\n",
    ")\n",
    "\n",
    "# Read all data and filter for the fixed hour\n",
    "df = fg.read()\n",
    "predictions = df[df[\"pickup_hour\"] == fixed_hour]\n"
   ]
  },
  {
   "cell_type": "code",
   "execution_count": 4,
   "id": "0314844e",
   "metadata": {},
   "outputs": [
    {
     "data": {
      "text/html": [
       "<div>\n",
       "<style scoped>\n",
       "    .dataframe tbody tr th:only-of-type {\n",
       "        vertical-align: middle;\n",
       "    }\n",
       "\n",
       "    .dataframe tbody tr th {\n",
       "        vertical-align: top;\n",
       "    }\n",
       "\n",
       "    .dataframe thead th {\n",
       "        text-align: right;\n",
       "    }\n",
       "</style>\n",
       "<table border=\"1\" class=\"dataframe\">\n",
       "  <thead>\n",
       "    <tr style=\"text-align: right;\">\n",
       "      <th></th>\n",
       "      <th>pickup_location_id</th>\n",
       "      <th>pickup_hour</th>\n",
       "      <th>predicted_demand</th>\n",
       "    </tr>\n",
       "  </thead>\n",
       "  <tbody>\n",
       "    <tr>\n",
       "      <th>142486</th>\n",
       "      <td>132</td>\n",
       "      <td>2025-03-31 23:00:00+00:00</td>\n",
       "      <td>327.0</td>\n",
       "    </tr>\n",
       "    <tr>\n",
       "      <th>142509</th>\n",
       "      <td>236</td>\n",
       "      <td>2025-03-31 23:00:00+00:00</td>\n",
       "      <td>219.0</td>\n",
       "    </tr>\n",
       "    <tr>\n",
       "      <th>142518</th>\n",
       "      <td>138</td>\n",
       "      <td>2025-03-31 23:00:00+00:00</td>\n",
       "      <td>208.0</td>\n",
       "    </tr>\n",
       "    <tr>\n",
       "      <th>142519</th>\n",
       "      <td>79</td>\n",
       "      <td>2025-03-31 23:00:00+00:00</td>\n",
       "      <td>176.0</td>\n",
       "    </tr>\n",
       "    <tr>\n",
       "      <th>142400</th>\n",
       "      <td>170</td>\n",
       "      <td>2025-03-31 23:00:00+00:00</td>\n",
       "      <td>161.0</td>\n",
       "    </tr>\n",
       "    <tr>\n",
       "      <th>142573</th>\n",
       "      <td>249</td>\n",
       "      <td>2025-03-31 23:00:00+00:00</td>\n",
       "      <td>159.0</td>\n",
       "    </tr>\n",
       "    <tr>\n",
       "      <th>142538</th>\n",
       "      <td>48</td>\n",
       "      <td>2025-03-31 23:00:00+00:00</td>\n",
       "      <td>150.0</td>\n",
       "    </tr>\n",
       "    <tr>\n",
       "      <th>142603</th>\n",
       "      <td>186</td>\n",
       "      <td>2025-03-31 23:00:00+00:00</td>\n",
       "      <td>147.0</td>\n",
       "    </tr>\n",
       "    <tr>\n",
       "      <th>142523</th>\n",
       "      <td>238</td>\n",
       "      <td>2025-03-31 23:00:00+00:00</td>\n",
       "      <td>129.0</td>\n",
       "    </tr>\n",
       "    <tr>\n",
       "      <th>142537</th>\n",
       "      <td>164</td>\n",
       "      <td>2025-03-31 23:00:00+00:00</td>\n",
       "      <td>127.0</td>\n",
       "    </tr>\n",
       "  </tbody>\n",
       "</table>\n",
       "</div>"
      ],
      "text/plain": [
       "        pickup_location_id               pickup_hour  predicted_demand\n",
       "142486                 132 2025-03-31 23:00:00+00:00             327.0\n",
       "142509                 236 2025-03-31 23:00:00+00:00             219.0\n",
       "142518                 138 2025-03-31 23:00:00+00:00             208.0\n",
       "142519                  79 2025-03-31 23:00:00+00:00             176.0\n",
       "142400                 170 2025-03-31 23:00:00+00:00             161.0\n",
       "142573                 249 2025-03-31 23:00:00+00:00             159.0\n",
       "142538                  48 2025-03-31 23:00:00+00:00             150.0\n",
       "142603                 186 2025-03-31 23:00:00+00:00             147.0\n",
       "142523                 238 2025-03-31 23:00:00+00:00             129.0\n",
       "142537                 164 2025-03-31 23:00:00+00:00             127.0"
      ]
     },
     "execution_count": 4,
     "metadata": {},
     "output_type": "execute_result"
    }
   ],
   "source": [
    "# Sort and display top 10 predictions\n",
    "top_locations = predictions.sort_values(\"predicted_demand\", ascending=False)\n",
    "top_locations[[\"pickup_location_id\", \"pickup_hour\", \"predicted_demand\"]].head(10)\n"
   ]
  },
  {
   "cell_type": "code",
   "execution_count": null,
   "id": "4d252704",
   "metadata": {},
   "outputs": [],
   "source": []
  },
  {
   "cell_type": "code",
   "execution_count": null,
   "id": "69fbfe70",
   "metadata": {},
   "outputs": [],
   "source": []
  },
  {
   "cell_type": "code",
   "execution_count": null,
   "id": "4b3d4ec2",
   "metadata": {},
   "outputs": [],
   "source": []
  },
  {
   "cell_type": "code",
   "execution_count": null,
   "id": "bf88f694",
   "metadata": {},
   "outputs": [],
   "source": []
  },
  {
   "cell_type": "code",
   "execution_count": null,
   "id": "aca54124",
   "metadata": {},
   "outputs": [],
   "source": []
  },
  {
   "cell_type": "code",
   "execution_count": null,
   "id": "449b993c",
   "metadata": {},
   "outputs": [],
   "source": []
  },
  {
   "cell_type": "code",
   "execution_count": null,
   "id": "7f58a0f0",
   "metadata": {},
   "outputs": [],
   "source": []
  }
 ],
 "metadata": {
  "kernelspec": {
   "display_name": "sp25_citibike",
   "language": "python",
   "name": "python3"
  },
  "language_info": {
   "codemirror_mode": {
    "name": "ipython",
    "version": 3
   },
   "file_extension": ".py",
   "mimetype": "text/x-python",
   "name": "python",
   "nbconvert_exporter": "python",
   "pygments_lexer": "ipython3",
   "version": "3.10.17"
  }
 },
 "nbformat": 4,
 "nbformat_minor": 5
}
